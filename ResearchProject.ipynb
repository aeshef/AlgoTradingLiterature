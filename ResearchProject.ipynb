{
 "cells": [
  {
   "cell_type": "code",
   "execution_count": 37,
   "metadata": {},
   "outputs": [
    {
     "name": "stdout",
     "output_type": "stream",
     "text": [
      "Requirement already satisfied: ucimlrepo in /Users/artemshevchenko/opt/anaconda3/lib/python3.9/site-packages (0.0.3)\n",
      "Note: you may need to restart the kernel to use updated packages.\n"
     ]
    }
   ],
   "source": [
    "%pip install ucimlrepo"
   ]
  },
  {
   "cell_type": "code",
   "execution_count": 38,
   "metadata": {},
   "outputs": [
    {
     "data": {
      "text/html": [
       "<div>\n",
       "<style scoped>\n",
       "    .dataframe tbody tr th:only-of-type {\n",
       "        vertical-align: middle;\n",
       "    }\n",
       "\n",
       "    .dataframe tbody tr th {\n",
       "        vertical-align: top;\n",
       "    }\n",
       "\n",
       "    .dataframe thead th {\n",
       "        text-align: right;\n",
       "    }\n",
       "</style>\n",
       "<table border=\"1\" class=\"dataframe\">\n",
       "  <thead>\n",
       "    <tr style=\"text-align: right;\">\n",
       "      <th>name</th>\n",
       "      <th>A16</th>\n",
       "      <th>A15</th>\n",
       "      <th>A14</th>\n",
       "      <th>A13</th>\n",
       "      <th>A12</th>\n",
       "      <th>A11</th>\n",
       "      <th>A10</th>\n",
       "      <th>A9</th>\n",
       "      <th>A8</th>\n",
       "      <th>A7</th>\n",
       "      <th>A6</th>\n",
       "      <th>A5</th>\n",
       "      <th>A4</th>\n",
       "      <th>A3</th>\n",
       "      <th>A2</th>\n",
       "      <th>A1</th>\n",
       "    </tr>\n",
       "  </thead>\n",
       "  <tbody>\n",
       "    <tr>\n",
       "      <th>0</th>\n",
       "      <td>1</td>\n",
       "      <td>0</td>\n",
       "      <td>202.0</td>\n",
       "      <td>g</td>\n",
       "      <td>f</td>\n",
       "      <td>1</td>\n",
       "      <td>t</td>\n",
       "      <td>t</td>\n",
       "      <td>1.25</td>\n",
       "      <td>v</td>\n",
       "      <td>w</td>\n",
       "      <td>g</td>\n",
       "      <td>u</td>\n",
       "      <td>0.000</td>\n",
       "      <td>30.83</td>\n",
       "      <td>b</td>\n",
       "    </tr>\n",
       "    <tr>\n",
       "      <th>1</th>\n",
       "      <td>1</td>\n",
       "      <td>560</td>\n",
       "      <td>43.0</td>\n",
       "      <td>g</td>\n",
       "      <td>f</td>\n",
       "      <td>6</td>\n",
       "      <td>t</td>\n",
       "      <td>t</td>\n",
       "      <td>3.04</td>\n",
       "      <td>h</td>\n",
       "      <td>q</td>\n",
       "      <td>g</td>\n",
       "      <td>u</td>\n",
       "      <td>4.460</td>\n",
       "      <td>58.67</td>\n",
       "      <td>a</td>\n",
       "    </tr>\n",
       "    <tr>\n",
       "      <th>2</th>\n",
       "      <td>1</td>\n",
       "      <td>824</td>\n",
       "      <td>280.0</td>\n",
       "      <td>g</td>\n",
       "      <td>f</td>\n",
       "      <td>0</td>\n",
       "      <td>f</td>\n",
       "      <td>t</td>\n",
       "      <td>1.50</td>\n",
       "      <td>h</td>\n",
       "      <td>q</td>\n",
       "      <td>g</td>\n",
       "      <td>u</td>\n",
       "      <td>0.500</td>\n",
       "      <td>24.50</td>\n",
       "      <td>a</td>\n",
       "    </tr>\n",
       "    <tr>\n",
       "      <th>3</th>\n",
       "      <td>1</td>\n",
       "      <td>3</td>\n",
       "      <td>100.0</td>\n",
       "      <td>g</td>\n",
       "      <td>t</td>\n",
       "      <td>5</td>\n",
       "      <td>t</td>\n",
       "      <td>t</td>\n",
       "      <td>3.75</td>\n",
       "      <td>v</td>\n",
       "      <td>w</td>\n",
       "      <td>g</td>\n",
       "      <td>u</td>\n",
       "      <td>1.540</td>\n",
       "      <td>27.83</td>\n",
       "      <td>b</td>\n",
       "    </tr>\n",
       "    <tr>\n",
       "      <th>4</th>\n",
       "      <td>1</td>\n",
       "      <td>0</td>\n",
       "      <td>120.0</td>\n",
       "      <td>s</td>\n",
       "      <td>f</td>\n",
       "      <td>0</td>\n",
       "      <td>f</td>\n",
       "      <td>t</td>\n",
       "      <td>1.71</td>\n",
       "      <td>v</td>\n",
       "      <td>w</td>\n",
       "      <td>g</td>\n",
       "      <td>u</td>\n",
       "      <td>5.625</td>\n",
       "      <td>20.17</td>\n",
       "      <td>b</td>\n",
       "    </tr>\n",
       "  </tbody>\n",
       "</table>\n",
       "</div>"
      ],
      "text/plain": [
       "name  A16  A15    A14 A13 A12  A11 A10 A9    A8 A7 A6 A5 A4     A3     A2 A1\n",
       "0       1    0  202.0   g   f    1   t  t  1.25  v  w  g  u  0.000  30.83  b\n",
       "1       1  560   43.0   g   f    6   t  t  3.04  h  q  g  u  4.460  58.67  a\n",
       "2       1  824  280.0   g   f    0   f  t  1.50  h  q  g  u  0.500  24.50  a\n",
       "3       1    3  100.0   g   t    5   t  t  3.75  v  w  g  u  1.540  27.83  b\n",
       "4       1    0  120.0   s   f    0   f  t  1.71  v  w  g  u  5.625  20.17  b"
      ]
     },
     "execution_count": 38,
     "metadata": {},
     "output_type": "execute_result"
    }
   ],
   "source": [
    "import pandas as pd\n",
    "import numpy as np\n",
    "import matplotlib.pyplot as plt\n",
    "import seaborn as sns\n",
    "from ucimlrepo import fetch_ucirepo \n",
    "import plotly\n",
    "import plotly.graph_objs as go\n",
    "import plotly.express as px\n",
    "from plotly.subplots import make_subplots\n",
    "from sklearn.linear_model import LinearRegression\n",
    "from sklearn.model_selection import train_test_split\n",
    "from sklearn.metrics import mean_squared_error, r2_score\n",
    "import warnings\n",
    "from sklearn.ensemble import RandomForestClassifier\n",
    "from sklearn.metrics import confusion_matrix, accuracy_score, precision_score, recall_score, f1_score, classification_report\n",
    "\n",
    "# fetch dataset \n",
    "credit_approval = fetch_ucirepo(id=27) \n",
    "  \n",
    "# data (as pandas dataframes) \n",
    "X = credit_approval.data.features \n",
    "y = credit_approval.data.targets \n",
    "\n",
    "#создаем датафрейм в удобном для нас формате pandas\n",
    "df = pd.DataFrame(data=credit_approval.data.features, columns=credit_approval.variables.name)\n",
    "#столбец A16 - таргет (\"выдан займ или нет\"), его нам дали в виде столбца со строками '+' и \"-\", поэтому для дальнейщего упрощения сразу заменим эти значения на 1 и 0 соответственно\n",
    "df['A16']= y\n",
    "df['A16'] = df[\"A16\"].replace({\"+\": 1, \"-\": 0})\n",
    "\n",
    "#выведем пять первых строк нашего датафрейма, чтобы примерно понимать, как выглядят наши данные\n",
    "df.head()\n"
   ]
  },
  {
   "cell_type": "markdown",
   "metadata": {},
   "source": [
    "## EDA -  exploratory data analysis ##"
   ]
  },
  {
   "cell_type": "markdown",
   "metadata": {},
   "source": [
    "\n",
    "\n",
    "Непрерывные переменные представляют собой данные, которые могут принимать любые числовые значения в определенном диапазоне.\n",
    "Категориальные переменные по определению могут принимать только ограниченное и обычно фиксированное количество возможных значений."
   ]
  },
  {
   "cell_type": "markdown",
   "metadata": {},
   "source": [
    "Эти свойства понадобятся нам при заполнении пропусков.\n",
    "Так же категориальные переменные в данном датафрейме принимают только буквенные значения."
   ]
  },
  {
   "cell_type": "code",
   "execution_count": 39,
   "metadata": {},
   "outputs": [],
   "source": [
    "# variable information \n",
    "\n",
    "\n",
    "# для удобства разделим переменные на категориальные и непрерывные\n",
    "# сразу же дропнем переменную A16, так как она таргетная (поэтому срез с 1-ой строки)\n",
    "continuous = credit_approval.variables[1:][credit_approval.variables[1:]['type']=='Continuous']\n",
    "categorical = credit_approval.variables[1:][credit_approval.variables[1:]['type']=='Categorical']"
   ]
  },
  {
   "cell_type": "code",
   "execution_count": 40,
   "metadata": {},
   "outputs": [
    {
     "data": {
      "text/html": [
       "<div>\n",
       "<style scoped>\n",
       "    .dataframe tbody tr th:only-of-type {\n",
       "        vertical-align: middle;\n",
       "    }\n",
       "\n",
       "    .dataframe tbody tr th {\n",
       "        vertical-align: top;\n",
       "    }\n",
       "\n",
       "    .dataframe thead th {\n",
       "        text-align: right;\n",
       "    }\n",
       "</style>\n",
       "<table border=\"1\" class=\"dataframe\">\n",
       "  <thead>\n",
       "    <tr style=\"text-align: right;\">\n",
       "      <th></th>\n",
       "      <th>name</th>\n",
       "      <th>role</th>\n",
       "      <th>type</th>\n",
       "      <th>demographic</th>\n",
       "      <th>description</th>\n",
       "      <th>units</th>\n",
       "      <th>missing_values</th>\n",
       "    </tr>\n",
       "  </thead>\n",
       "  <tbody>\n",
       "    <tr>\n",
       "      <th>1</th>\n",
       "      <td>A15</td>\n",
       "      <td>Feature</td>\n",
       "      <td>Continuous</td>\n",
       "      <td>None</td>\n",
       "      <td>None</td>\n",
       "      <td>None</td>\n",
       "      <td>no</td>\n",
       "    </tr>\n",
       "    <tr>\n",
       "      <th>2</th>\n",
       "      <td>A14</td>\n",
       "      <td>Feature</td>\n",
       "      <td>Continuous</td>\n",
       "      <td>None</td>\n",
       "      <td>None</td>\n",
       "      <td>None</td>\n",
       "      <td>yes</td>\n",
       "    </tr>\n",
       "    <tr>\n",
       "      <th>5</th>\n",
       "      <td>A11</td>\n",
       "      <td>Feature</td>\n",
       "      <td>Continuous</td>\n",
       "      <td>None</td>\n",
       "      <td>None</td>\n",
       "      <td>None</td>\n",
       "      <td>no</td>\n",
       "    </tr>\n",
       "    <tr>\n",
       "      <th>8</th>\n",
       "      <td>A8</td>\n",
       "      <td>Feature</td>\n",
       "      <td>Continuous</td>\n",
       "      <td>None</td>\n",
       "      <td>None</td>\n",
       "      <td>None</td>\n",
       "      <td>no</td>\n",
       "    </tr>\n",
       "    <tr>\n",
       "      <th>13</th>\n",
       "      <td>A3</td>\n",
       "      <td>Feature</td>\n",
       "      <td>Continuous</td>\n",
       "      <td>None</td>\n",
       "      <td>None</td>\n",
       "      <td>None</td>\n",
       "      <td>no</td>\n",
       "    </tr>\n",
       "    <tr>\n",
       "      <th>14</th>\n",
       "      <td>A2</td>\n",
       "      <td>Feature</td>\n",
       "      <td>Continuous</td>\n",
       "      <td>None</td>\n",
       "      <td>None</td>\n",
       "      <td>None</td>\n",
       "      <td>yes</td>\n",
       "    </tr>\n",
       "  </tbody>\n",
       "</table>\n",
       "</div>"
      ],
      "text/plain": [
       "   name     role        type demographic description units missing_values\n",
       "1   A15  Feature  Continuous        None        None  None             no\n",
       "2   A14  Feature  Continuous        None        None  None            yes\n",
       "5   A11  Feature  Continuous        None        None  None             no\n",
       "8    A8  Feature  Continuous        None        None  None             no\n",
       "13   A3  Feature  Continuous        None        None  None             no\n",
       "14   A2  Feature  Continuous        None        None  None            yes"
      ]
     },
     "execution_count": 40,
     "metadata": {},
     "output_type": "execute_result"
    }
   ],
   "source": [
    "continuous"
   ]
  },
  {
   "cell_type": "code",
   "execution_count": 41,
   "metadata": {},
   "outputs": [
    {
     "data": {
      "text/html": [
       "<div>\n",
       "<style scoped>\n",
       "    .dataframe tbody tr th:only-of-type {\n",
       "        vertical-align: middle;\n",
       "    }\n",
       "\n",
       "    .dataframe tbody tr th {\n",
       "        vertical-align: top;\n",
       "    }\n",
       "\n",
       "    .dataframe thead th {\n",
       "        text-align: right;\n",
       "    }\n",
       "</style>\n",
       "<table border=\"1\" class=\"dataframe\">\n",
       "  <thead>\n",
       "    <tr style=\"text-align: right;\">\n",
       "      <th></th>\n",
       "      <th>name</th>\n",
       "      <th>role</th>\n",
       "      <th>type</th>\n",
       "      <th>demographic</th>\n",
       "      <th>description</th>\n",
       "      <th>units</th>\n",
       "      <th>missing_values</th>\n",
       "    </tr>\n",
       "  </thead>\n",
       "  <tbody>\n",
       "    <tr>\n",
       "      <th>3</th>\n",
       "      <td>A13</td>\n",
       "      <td>Feature</td>\n",
       "      <td>Categorical</td>\n",
       "      <td>None</td>\n",
       "      <td>None</td>\n",
       "      <td>None</td>\n",
       "      <td>no</td>\n",
       "    </tr>\n",
       "    <tr>\n",
       "      <th>4</th>\n",
       "      <td>A12</td>\n",
       "      <td>Feature</td>\n",
       "      <td>Categorical</td>\n",
       "      <td>None</td>\n",
       "      <td>None</td>\n",
       "      <td>None</td>\n",
       "      <td>no</td>\n",
       "    </tr>\n",
       "    <tr>\n",
       "      <th>6</th>\n",
       "      <td>A10</td>\n",
       "      <td>Feature</td>\n",
       "      <td>Categorical</td>\n",
       "      <td>None</td>\n",
       "      <td>None</td>\n",
       "      <td>None</td>\n",
       "      <td>no</td>\n",
       "    </tr>\n",
       "    <tr>\n",
       "      <th>7</th>\n",
       "      <td>A9</td>\n",
       "      <td>Feature</td>\n",
       "      <td>Categorical</td>\n",
       "      <td>None</td>\n",
       "      <td>None</td>\n",
       "      <td>None</td>\n",
       "      <td>no</td>\n",
       "    </tr>\n",
       "    <tr>\n",
       "      <th>9</th>\n",
       "      <td>A7</td>\n",
       "      <td>Feature</td>\n",
       "      <td>Categorical</td>\n",
       "      <td>None</td>\n",
       "      <td>None</td>\n",
       "      <td>None</td>\n",
       "      <td>yes</td>\n",
       "    </tr>\n",
       "    <tr>\n",
       "      <th>10</th>\n",
       "      <td>A6</td>\n",
       "      <td>Feature</td>\n",
       "      <td>Categorical</td>\n",
       "      <td>None</td>\n",
       "      <td>None</td>\n",
       "      <td>None</td>\n",
       "      <td>yes</td>\n",
       "    </tr>\n",
       "    <tr>\n",
       "      <th>11</th>\n",
       "      <td>A5</td>\n",
       "      <td>Feature</td>\n",
       "      <td>Categorical</td>\n",
       "      <td>None</td>\n",
       "      <td>None</td>\n",
       "      <td>None</td>\n",
       "      <td>yes</td>\n",
       "    </tr>\n",
       "    <tr>\n",
       "      <th>12</th>\n",
       "      <td>A4</td>\n",
       "      <td>Feature</td>\n",
       "      <td>Categorical</td>\n",
       "      <td>None</td>\n",
       "      <td>None</td>\n",
       "      <td>None</td>\n",
       "      <td>yes</td>\n",
       "    </tr>\n",
       "    <tr>\n",
       "      <th>15</th>\n",
       "      <td>A1</td>\n",
       "      <td>Feature</td>\n",
       "      <td>Categorical</td>\n",
       "      <td>None</td>\n",
       "      <td>None</td>\n",
       "      <td>None</td>\n",
       "      <td>yes</td>\n",
       "    </tr>\n",
       "  </tbody>\n",
       "</table>\n",
       "</div>"
      ],
      "text/plain": [
       "   name     role         type demographic description units missing_values\n",
       "3   A13  Feature  Categorical        None        None  None             no\n",
       "4   A12  Feature  Categorical        None        None  None             no\n",
       "6   A10  Feature  Categorical        None        None  None             no\n",
       "7    A9  Feature  Categorical        None        None  None             no\n",
       "9    A7  Feature  Categorical        None        None  None            yes\n",
       "10   A6  Feature  Categorical        None        None  None            yes\n",
       "11   A5  Feature  Categorical        None        None  None            yes\n",
       "12   A4  Feature  Categorical        None        None  None            yes\n",
       "15   A1  Feature  Categorical        None        None  None            yes"
      ]
     },
     "execution_count": 41,
     "metadata": {},
     "output_type": "execute_result"
    }
   ],
   "source": [
    "categorical\n"
   ]
  },
  {
   "cell_type": "code",
   "execution_count": 42,
   "metadata": {},
   "outputs": [
    {
     "name": "stdout",
     "output_type": "stream",
     "text": [
      "До заполнения:\n",
      "name\n",
      "A16     0\n",
      "A15     0\n",
      "A14    13\n",
      "A13     0\n",
      "A12     0\n",
      "A11     0\n",
      "A10     0\n",
      "A9      0\n",
      "A8      0\n",
      "A7      9\n",
      "A6      9\n",
      "A5      6\n",
      "A4      6\n",
      "A3      0\n",
      "A2     12\n",
      "A1     12\n",
      "dtype: int64\n",
      "\n",
      "После заполнения:\n",
      "name\n",
      "A16    0\n",
      "A15    0\n",
      "A14    0\n",
      "A13    0\n",
      "A12    0\n",
      "A11    0\n",
      "A10    0\n",
      "A9     0\n",
      "A8     0\n",
      "A7     0\n",
      "A6     0\n",
      "A5     0\n",
      "A4     0\n",
      "A3     0\n",
      "A2     0\n",
      "A1     0\n",
      "dtype: int64\n"
     ]
    }
   ],
   "source": [
    "# Заполним пропуски, а так же проиллюстрируем их заполнение:\n",
    "# для начала в таблицу started_blanks запишем количество пропусков в каждом столбце\n",
    "started_blanks = df.isna().sum()\n",
    "# непосредственно заполним пропуски\n",
    "for name in credit_approval.variables.name[1:]:\n",
    "    if (df[name].isna().sum()!=0):\n",
    "        if ((df[name].dtype == int) or (df[name].dtype == float)): \n",
    "            # если в столбце не строки, а числа, то заполним средним значением (если переменные непрерывные)\n",
    "            fill_value = df[name].mean()\n",
    "            df[name].fillna(fill_value, inplace=True)\n",
    "        else:\n",
    "            # если переменная категориальная, то по свойству, описанному выше, кажется логичным заполнить пропуски самым популярным значением в столбце\n",
    "            counted_values = df[name].value_counts()\n",
    "            most_common =counted_values.idxmax()\n",
    "            df[name].fillna(most_common, inplace=True)\n",
    "            \n",
    "# создадим еще одну таблицу с количеством пропусков, но уже в заполненном датафрейме\n",
    "finished_blanks = df.isna().sum()\n",
    "\n",
    "print(\"До заполнения:\")\n",
    "print(started_blanks)\n",
    "print(\"\")\n",
    "print(\"После заполнения:\")\n",
    "print(finished_blanks)"
   ]
  },
  {
   "cell_type": "markdown",
   "metadata": {},
   "source": [
    "Теперь изучим распределение переменных в столбцах, где каждый элемент - числовое значение. Иными словами, рассмотрим распределение непрерывных переменных:"
   ]
  },
  {
   "cell_type": "markdown",
   "metadata": {},
   "source": [
    "Для начала выведем основную информацию о столбцах с непрерывными переменными"
   ]
  },
  {
   "cell_type": "code",
   "execution_count": 43,
   "metadata": {},
   "outputs": [
    {
     "data": {
      "text/html": [
       "<div>\n",
       "<style scoped>\n",
       "    .dataframe tbody tr th:only-of-type {\n",
       "        vertical-align: middle;\n",
       "    }\n",
       "\n",
       "    .dataframe tbody tr th {\n",
       "        vertical-align: top;\n",
       "    }\n",
       "\n",
       "    .dataframe thead th {\n",
       "        text-align: right;\n",
       "    }\n",
       "</style>\n",
       "<table border=\"1\" class=\"dataframe\">\n",
       "  <thead>\n",
       "    <tr style=\"text-align: right;\">\n",
       "      <th>name</th>\n",
       "      <th>A16</th>\n",
       "      <th>A15</th>\n",
       "      <th>A14</th>\n",
       "      <th>A11</th>\n",
       "      <th>A8</th>\n",
       "      <th>A3</th>\n",
       "      <th>A2</th>\n",
       "    </tr>\n",
       "  </thead>\n",
       "  <tbody>\n",
       "    <tr>\n",
       "      <th>count</th>\n",
       "      <td>690.000000</td>\n",
       "      <td>690.000000</td>\n",
       "      <td>690.000000</td>\n",
       "      <td>690.00000</td>\n",
       "      <td>690.000000</td>\n",
       "      <td>690.000000</td>\n",
       "      <td>690.000000</td>\n",
       "    </tr>\n",
       "    <tr>\n",
       "      <th>mean</th>\n",
       "      <td>0.444928</td>\n",
       "      <td>1017.385507</td>\n",
       "      <td>184.014771</td>\n",
       "      <td>2.40000</td>\n",
       "      <td>2.223406</td>\n",
       "      <td>4.758725</td>\n",
       "      <td>31.568171</td>\n",
       "    </tr>\n",
       "    <tr>\n",
       "      <th>std</th>\n",
       "      <td>0.497318</td>\n",
       "      <td>5210.102598</td>\n",
       "      <td>172.159274</td>\n",
       "      <td>4.86294</td>\n",
       "      <td>3.346513</td>\n",
       "      <td>4.978163</td>\n",
       "      <td>11.853273</td>\n",
       "    </tr>\n",
       "    <tr>\n",
       "      <th>min</th>\n",
       "      <td>0.000000</td>\n",
       "      <td>0.000000</td>\n",
       "      <td>0.000000</td>\n",
       "      <td>0.00000</td>\n",
       "      <td>0.000000</td>\n",
       "      <td>0.000000</td>\n",
       "      <td>13.750000</td>\n",
       "    </tr>\n",
       "    <tr>\n",
       "      <th>25%</th>\n",
       "      <td>0.000000</td>\n",
       "      <td>0.000000</td>\n",
       "      <td>80.000000</td>\n",
       "      <td>0.00000</td>\n",
       "      <td>0.165000</td>\n",
       "      <td>1.000000</td>\n",
       "      <td>22.670000</td>\n",
       "    </tr>\n",
       "    <tr>\n",
       "      <th>50%</th>\n",
       "      <td>0.000000</td>\n",
       "      <td>5.000000</td>\n",
       "      <td>160.000000</td>\n",
       "      <td>0.00000</td>\n",
       "      <td>1.000000</td>\n",
       "      <td>2.750000</td>\n",
       "      <td>28.625000</td>\n",
       "    </tr>\n",
       "    <tr>\n",
       "      <th>75%</th>\n",
       "      <td>1.000000</td>\n",
       "      <td>395.500000</td>\n",
       "      <td>272.000000</td>\n",
       "      <td>3.00000</td>\n",
       "      <td>2.625000</td>\n",
       "      <td>7.207500</td>\n",
       "      <td>37.707500</td>\n",
       "    </tr>\n",
       "    <tr>\n",
       "      <th>max</th>\n",
       "      <td>1.000000</td>\n",
       "      <td>100000.000000</td>\n",
       "      <td>2000.000000</td>\n",
       "      <td>67.00000</td>\n",
       "      <td>28.500000</td>\n",
       "      <td>28.000000</td>\n",
       "      <td>80.250000</td>\n",
       "    </tr>\n",
       "  </tbody>\n",
       "</table>\n",
       "</div>"
      ],
      "text/plain": [
       "name          A16            A15          A14        A11          A8  \\\n",
       "count  690.000000     690.000000   690.000000  690.00000  690.000000   \n",
       "mean     0.444928    1017.385507   184.014771    2.40000    2.223406   \n",
       "std      0.497318    5210.102598   172.159274    4.86294    3.346513   \n",
       "min      0.000000       0.000000     0.000000    0.00000    0.000000   \n",
       "25%      0.000000       0.000000    80.000000    0.00000    0.165000   \n",
       "50%      0.000000       5.000000   160.000000    0.00000    1.000000   \n",
       "75%      1.000000     395.500000   272.000000    3.00000    2.625000   \n",
       "max      1.000000  100000.000000  2000.000000   67.00000   28.500000   \n",
       "\n",
       "name           A3          A2  \n",
       "count  690.000000  690.000000  \n",
       "mean     4.758725   31.568171  \n",
       "std      4.978163   11.853273  \n",
       "min      0.000000   13.750000  \n",
       "25%      1.000000   22.670000  \n",
       "50%      2.750000   28.625000  \n",
       "75%      7.207500   37.707500  \n",
       "max     28.000000   80.250000  "
      ]
     },
     "execution_count": 43,
     "metadata": {},
     "output_type": "execute_result"
    }
   ],
   "source": [
    "df.describe()\n",
    "# count - The number of not-empty values.\n",
    "# mean - The average (mean) value.\n",
    "# std - The standard deviation.\n",
    "# min - the minimum value.\n",
    "# 25% - The 25% percentile*.\n",
    "# 50% - The 50% percentile*.\n",
    "# 75% - The 75% percentile*.\n",
    "# max - the maximum value."
   ]
  },
  {
   "cell_type": "code",
   "execution_count": 44,
   "metadata": {},
   "outputs": [
    {
     "data": {
      "application/vnd.plotly.v1+json": {
       "config": {
        "plotlyServerURL": "https://plot.ly"
       },
       "data": [
        {
         "alignmentgroup": "True",
         "bingroup": "x",
         "hovertemplate": "variable=A15<br>value=%{x}<br>count=%{y}<extra></extra>",
         "legendgroup": "A15",
         "marker": {
          "color": "#636efa",
          "pattern": {
           "shape": ""
          }
         },
         "name": "A15",
         "offsetgroup": "A15",
         "orientation": "v",
         "showlegend": true,
         "type": "histogram",
         "visible": false,
         "x": [
          0,
          560,
          824,
          3,
          0,
          0,
          31285,
          1349,
          314,
          1442,
          0,
          200,
          0,
          2690,
          0,
          0,
          0,
          245,
          0,
          0,
          1208,
          0,
          1260,
          11,
          0,
          0,
          0,
          0,
          0,
          10000,
          0,
          0,
          5000,
          4000,
          560,
          35,
          713,
          551,
          500,
          300,
          221,
          2283,
          100,
          0,
          15,
          284,
          1236,
          300,
          0,
          0,
          0,
          0,
          5800,
          200,
          0,
          300,
          0,
          0,
          0,
          0,
          0,
          730,
          400,
          0,
          0,
          50000,
          456,
          15108,
          2954,
          500,
          0,
          0,
          0,
          0,
          2,
          0,
          0,
          0,
          20,
          0,
          0,
          0,
          0,
          0,
          0,
          0,
          0,
          0,
          0,
          27,
          0,
          0,
          0,
          100,
          225,
          0,
          1,
          0,
          0,
          500,
          400,
          0,
          38,
          5,
          0,
          130,
          0,
          0,
          0,
          5,
          0,
          147,
          0,
          0,
          210,
          0,
          5,
          11202,
          1332,
          50,
          300,
          258,
          567,
          0,
          0,
          1000,
          2510,
          809,
          610,
          0,
          0,
          150,
          51100,
          367,
          1000,
          0,
          1000,
          0,
          600,
          5000,
          0,
          247,
          375,
          278,
          827,
          2072,
          582,
          2300,
          3065,
          2200,
          6,
          1602,
          0,
          2184,
          0,
          0,
          0,
          3376,
          0,
          2000,
          7544,
          15,
          20,
          0,
          10561,
          837,
          400,
          11177,
          639,
          0,
          0,
          0,
          2028,
          0,
          0,
          1065,
          0,
          150,
          540,
          158,
          15000,
          0,
          6,
          3000,
          3257,
          1655,
          500,
          3065,
          1430,
          0,
          0,
          0,
          600,
          0,
          0,
          7,
          0,
          790,
          560,
          396,
          678,
          300,
          600,
          0,
          1187,
          6590,
          0,
          168,
          1270,
          1210,
          0,
          0,
          1000,
          742,
          0,
          0,
          0,
          8851,
          0,
          500,
          0,
          0,
          0,
          0,
          0,
          0,
          0,
          0,
          0,
          0,
          7059,
          1704,
          857,
          500,
          6700,
          2503,
          0,
          9800,
          0,
          196,
          0,
          14,
          0,
          26726,
          300,
          18027,
          2000,
          99,
          444,
          0,
          1200,
          0,
          3000,
          0,
          2010,
          13,
          0,
          0,
          1000,
          0,
          0,
          0,
          120,
          32,
          0,
          722,
          0,
          0,
          0,
          40,
          0,
          0,
          0,
          0,
          0,
          0,
          484,
          0,
          0,
          0,
          204,
          1,
          0,
          98,
          5552,
          1,
          105,
          2803,
          1,
          0,
          0,
          1,
          444,
          1,
          126,
          4,
          6,
          0,
          21,
          173,
          10,
          0,
          0,
          0,
          1,
          0,
          25,
          0,
          0,
          20,
          6,
          6,
          1,
          42,
          0,
          0,
          204,
          100000,
          1,
          113,
          8,
          0,
          44,
          2732,
          0,
          13,
          179,
          0,
          0,
          0,
          0,
          2,
          16,
          1062,
          0,
          251,
          228,
          0,
          0,
          67,
          0,
          100,
          4000,
          0,
          2,
          12,
          122,
          1210,
          0,
          3,
          1,
          0,
          4000,
          0,
          0,
          1,
          0,
          0,
          0,
          0,
          0,
          4208,
          0,
          0,
          1300,
          112,
          1000,
          0,
          16,
          2,
          0,
          1110,
          0,
          0,
          1004,
          0,
          286,
          0,
          4500,
          0,
          0,
          0,
          456,
          4,
          1212,
          0,
          67,
          0,
          0,
          0,
          0,
          0,
          0,
          1,
          195,
          0,
          1,
          87,
          17,
          0,
          184,
          140,
          0,
          0,
          0,
          0,
          18,
          2,
          6,
          8,
          146,
          22,
          0,
          0,
          55,
          0,
          70,
          1,
          500,
          60,
          0,
          7,
          0,
          0,
          0,
          0,
          50,
          5,
          3,
          0,
          4,
          1058,
          0,
          0,
          0,
          1,
          769,
          27,
          300,
          3,
          0,
          1,
          0,
          40,
          0,
          5200,
          0,
          1,
          19,
          0,
          1,
          316,
          50,
          0,
          350,
          3552,
          0,
          0,
          687,
          0,
          0,
          1950,
          0,
          18,
          53,
          10,
          41,
          33,
          0,
          0,
          5,
          100,
          100,
          1000,
          44,
          0,
          5,
          0,
          0,
          0,
          35,
          80,
          10,
          6,
          0,
          351,
          2100,
          475,
          1,
          0,
          892,
          2000,
          4607,
          0,
          0,
          2206,
          5860,
          28,
          0,
          1391,
          2279,
          0,
          100,
          7,
          0,
          5000,
          591,
          500,
          19,
          300,
          1000,
          960,
          0,
          0,
          0,
          0,
          99,
          690,
          0,
          0,
          234,
          500,
          800,
          990,
          0,
          0,
          0,
          2197,
          50,
          90,
          1,
          0,
          0,
          1,
          0,
          0,
          0,
          0,
          0,
          340,
          20,
          200,
          0,
          0,
          28,
          0,
          347,
          327,
          4071,
          0,
          109,
          1249,
          134,
          1344,
          321,
          948,
          0,
          2079,
          3000,
          2384,
          458,
          5298,
          200,
          0,
          0,
          0,
          284,
          0,
          162,
          1583,
          58,
          1,
          59,
          1400,
          1465,
          8000,
          540,
          0,
          4700,
          1097,
          3290,
          0,
          0,
          0,
          13212,
          0,
          1000,
          0,
          5777,
          5124,
          1200,
          150,
          0,
          6,
          0,
          23,
          4159,
          918,
          768,
          3000,
          500,
          1,
          0,
          0,
          0,
          0,
          0,
          0,
          0,
          0,
          4,
          1,
          283,
          7,
          0,
          108,
          9,
          1,
          68,
          375,
          10,
          0,
          0,
          1,
          0,
          0,
          0,
          1000,
          0,
          5,
          809,
          108,
          0,
          0,
          4,
          587,
          0,
          350,
          0,
          0,
          200,
          141,
          0,
          0,
          2,
          501,
          351,
          0,
          0,
          200,
          2,
          160,
          0,
          68,
          11,
          0,
          21,
          390,
          18,
          154,
          0,
          0,
          0,
          0,
          0,
          0,
          0,
          5,
          0,
          1,
          150,
          2,
          117,
          17,
          246,
          237,
          3,
          1,
          50,
          0,
          364,
          537,
          2,
          3,
          0,
          0,
          394,
          1,
          750,
          0
         ],
         "xaxis": "x",
         "yaxis": "y"
        },
        {
         "alignmentgroup": "True",
         "bingroup": "x",
         "hovertemplate": "variable=A14<br>value=%{x}<br>count=%{y}<extra></extra>",
         "legendgroup": "A14",
         "marker": {
          "color": "#636efa",
          "pattern": {
           "shape": ""
          }
         },
         "name": "A14",
         "offsetgroup": "A14",
         "orientation": "v",
         "showlegend": true,
         "type": "histogram",
         "visible": false,
         "x": [
          202,
          43,
          280,
          100,
          120,
          360,
          164,
          80,
          180,
          52,
          128,
          260,
          0,
          0,
          0,
          320,
          396,
          120,
          0,
          96,
          200,
          300,
          0,
          120,
          145,
          100,
          0,
          0,
          0,
          500,
          168,
          0,
          0,
          0,
          0,
          434,
          583,
          300,
          260,
          30,
          0,
          0,
          240,
          70,
          0,
          0,
          455,
          311,
          216,
          100,
          491,
          280,
          400,
          239,
          0,
          160,
          0,
          320,
          711,
          80,
          200,
          250,
          80,
          0,
          120,
          520,
          0,
          260,
          80,
          515,
          420,
          184.01477104874445,
          980,
          400,
          160,
          160,
          443,
          160,
          180,
          140,
          94,
          368,
          288,
          300,
          200,
          280,
          928,
          188,
          240,
          100,
          112,
          120,
          0,
          200,
          0,
          171,
          180,
          320,
          268,
          167,
          164,
          80,
          0,
          120,
          75,
          152,
          280,
          120,
          176,
          140,
          329,
          180,
          260,
          212,
          140,
          200,
          300,
          0,
          360,
          80,
          200,
          140,
          120,
          0,
          120,
          0,
          410,
          100,
          274,
          280,
          0,
          100,
          375,
          0,
          408,
          350,
          200,
          204,
          40,
          0,
          181,
          0,
          100,
          80,
          399,
          160,
          0,
          0,
          0,
          0,
          440,
          0,
          93,
          60,
          0,
          0,
          70,
          0,
          181,
          280,
          140,
          0,
          395,
          393,
          21,
          29,
          60,
          440,
          102,
          431,
          370,
          0,
          24,
          0,
          100,
          260,
          20,
          160,
          60,
          60,
          0,
          80,
          100,
          0,
          129,
          181,
          0,
          0,
          300,
          0,
          0,
          400,
          510,
          80,
          195,
          144,
          380,
          0,
          370,
          60,
          0,
          0,
          184.01477104874445,
          49,
          50,
          0,
          184.01477104874445,
          381,
          150,
          117,
          399,
          100,
          0,
          56,
          211,
          230,
          320,
          0,
          0,
          80,
          156,
          22,
          0,
          100,
          228,
          160,
          80,
          164,
          80,
          100,
          0,
          519,
          253,
          487,
          0,
          220,
          0,
          80,
          0,
          520,
          40,
          120,
          70,
          184.01477104874445,
          120,
          180,
          88,
          80,
          73,
          121,
          0,
          470,
          0,
          100,
          380,
          320,
          136,
          144,
          200,
          132,
          292,
          0,
          0,
          154,
          145,
          140,
          100,
          272,
          260,
          200,
          184.01477104874445,
          280,
          140,
          160,
          340,
          120,
          80,
          340,
          184.01477104874445,
          200,
          280,
          240,
          80,
          108,
          0,
          120,
          200,
          340,
          200,
          160,
          320,
          120,
          272,
          220,
          160,
          200,
          70,
          720,
          80,
          180,
          0,
          280,
          280,
          120,
          280,
          0,
          160,
          80,
          140,
          160,
          360,
          112,
          200,
          80,
          60,
          320,
          280,
          450,
          500,
          232,
          150,
          300,
          300,
          380,
          120,
          280,
          170,
          1160,
          200,
          411,
          184.01477104874445,
          0,
          460,
          180,
          348,
          220,
          0,
          160,
          180,
          300,
          480,
          108,
          640,
          180,
          300,
          0,
          372,
          200,
          180,
          100,
          276,
          100,
          0,
          0,
          221,
          320,
          168,
          380,
          120,
          160,
          100,
          100,
          100,
          200,
          320,
          352,
          220,
          400,
          20,
          132,
          280,
          140,
          240,
          100,
          260,
          260,
          0,
          240,
          440,
          420,
          141,
          160,
          200,
          0,
          100,
          60,
          120,
          0,
          178,
          0,
          600,
          550,
          720,
          120,
          0,
          0,
          128,
          120,
          0,
          300,
          140,
          220,
          73,
          160,
          480,
          0,
          184.01477104874445,
          2000,
          0,
          160,
          176,
          0,
          144,
          300,
          280,
          280,
          200,
          136,
          225,
          180,
          210,
          108,
          200,
          100,
          120,
          110,
          180,
          120,
          200,
          180,
          180,
          160,
          356,
          200,
          320,
          45,
          350,
          62,
          92,
          174,
          0,
          17,
          80,
          160,
          86,
          184.01477104874445,
          132,
          340,
          96,
          0,
          0,
          0,
          454,
          300,
          0,
          320,
          184.01477104874445,
          240,
          210,
          160,
          120,
          254,
          360,
          200,
          200,
          280,
          160,
          0,
          180,
          120,
          320,
          140,
          60,
          360,
          0,
          80,
          220,
          200,
          0,
          80,
          240,
          280,
          0,
          128,
          28,
          0,
          216,
          120,
          180,
          263,
          333,
          520,
          240,
          340,
          240,
          120,
          160,
          40,
          312,
          200,
          290,
          0,
          232,
          420,
          371,
          0,
          88,
          0,
          220,
          80,
          120,
          100,
          0,
          0,
          0,
          0,
          0,
          352,
          80,
          480,
          160,
          99,
          260,
          80,
          440,
          140,
          160,
          252,
          100,
          760,
          360,
          400,
          560,
          130,
          523,
          320,
          80,
          680,
          163,
          0,
          100,
          0,
          140,
          200,
          132,
          0,
          208,
          200,
          340,
          110,
          0,
          0,
          0,
          383,
          0,
          220,
          330,
          120,
          0,
          140,
          400,
          0,
          422,
          120,
          92,
          100,
          290,
          360,
          300,
          0,
          60,
          160,
          840,
          0,
          50,
          432,
          32,
          0,
          186,
          108,
          303,
          560,
          225,
          154,
          0,
          0,
          0,
          0,
          160,
          96,
          330,
          312,
          184.01477104874445,
          290,
          280,
          349,
          396,
          80,
          240,
          200,
          380,
          150,
          224,
          200,
          180,
          280,
          0,
          232,
          460,
          520,
          140,
          369,
          420,
          200,
          160,
          400,
          400,
          160,
          460,
          120,
          160,
          0,
          184.01477104874445,
          160,
          160,
          80,
          184.01477104874445,
          0,
          228,
          220,
          120,
          272,
          76,
          120,
          240,
          160,
          130,
          80,
          100,
          231,
          232,
          200,
          320,
          0,
          309,
          0,
          0,
          0,
          340,
          0,
          100,
          0,
          144,
          100,
          200,
          0,
          416,
          0,
          120,
          40,
          0,
          216,
          160,
          120,
          160,
          0,
          180,
          80,
          252,
          120,
          465,
          0,
          240,
          256,
          260,
          240,
          129,
          100,
          0,
          0,
          280,
          176,
          140,
          240,
          400,
          260,
          200,
          200,
          280,
          0
         ],
         "xaxis": "x",
         "yaxis": "y"
        },
        {
         "alignmentgroup": "True",
         "bingroup": "x",
         "hovertemplate": "variable=A11<br>value=%{x}<br>count=%{y}<extra></extra>",
         "legendgroup": "A11",
         "marker": {
          "color": "#636efa",
          "pattern": {
           "shape": ""
          }
         },
         "name": "A11",
         "offsetgroup": "A11",
         "orientation": "v",
         "showlegend": true,
         "type": "histogram",
         "visible": false,
         "x": [
          1,
          6,
          0,
          5,
          0,
          0,
          0,
          0,
          0,
          0,
          0,
          0,
          0,
          0,
          7,
          10,
          3,
          10,
          0,
          7,
          17,
          0,
          6,
          1,
          3,
          2,
          9,
          17,
          3,
          6,
          5,
          8,
          15,
          0,
          5,
          11,
          12,
          2,
          2,
          11,
          12,
          11,
          1,
          6,
          40,
          11,
          23,
          3,
          0,
          0,
          0,
          0,
          0,
          0,
          0,
          0,
          0,
          0,
          0,
          11,
          4,
          9,
          2,
          1,
          1,
          1,
          11,
          3,
          7,
          1,
          0,
          0,
          0,
          0,
          0,
          1,
          0,
          0,
          1,
          0,
          1,
          0,
          0,
          0,
          0,
          0,
          0,
          0,
          0,
          0,
          0,
          0,
          0,
          0,
          0,
          0,
          0,
          0,
          0,
          2,
          0,
          0,
          2,
          2,
          2,
          20,
          0,
          0,
          0,
          5,
          3,
          3,
          0,
          3,
          3,
          2,
          7,
          15,
          6,
          1,
          1,
          67,
          12,
          3,
          5,
          6,
          12,
          7,
          2,
          0,
          1,
          1,
          6,
          6,
          12,
          0,
          3,
          6,
          6,
          2,
          9,
          15,
          8,
          1,
          9,
          6,
          3,
          14,
          7,
          14,
          11,
          14,
          12,
          11,
          3,
          11,
          1,
          14,
          2,
          1,
          4,
          2,
          1,
          0,
          0,
          0,
          0,
          0,
          0,
          0,
          0,
          0,
          0,
          0,
          0,
          0,
          0,
          0,
          4,
          14,
          20,
          4,
          3,
          7,
          7,
          9,
          1,
          7,
          5,
          2,
          0,
          0,
          0,
          6,
          7,
          8,
          3,
          12,
          3,
          9,
          1,
          0,
          6,
          2,
          1,
          8,
          0,
          6,
          7,
          16,
          14,
          0,
          15,
          9,
          1,
          0,
          8,
          5,
          5,
          4,
          3,
          7,
          0,
          0,
          0,
          0,
          0,
          0,
          2,
          0,
          7,
          2,
          4,
          0,
          13,
          5,
          0,
          1,
          0,
          6,
          0,
          3,
          0,
          5,
          2,
          1,
          1,
          11,
          2,
          6,
          11,
          6,
          11,
          1,
          0,
          0,
          0,
          0,
          0,
          0,
          0,
          0,
          0,
          0,
          0,
          0,
          0,
          0,
          0,
          0,
          0,
          0,
          0,
          0,
          0,
          0,
          0,
          0,
          0,
          0,
          0,
          0,
          0,
          1,
          2,
          1,
          2,
          1,
          1,
          0,
          0,
          1,
          1,
          2,
          1,
          2,
          1,
          2,
          1,
          2,
          1,
          0,
          0,
          0,
          0,
          0,
          0,
          0,
          0,
          0,
          0,
          0,
          0,
          0,
          0,
          0,
          0,
          0,
          0,
          0,
          0,
          0,
          0,
          11,
          0,
          0,
          0,
          0,
          0,
          0,
          0,
          0,
          0,
          0,
          0,
          0,
          0,
          0,
          0,
          0,
          0,
          0,
          0,
          0,
          0,
          0,
          0,
          0,
          3,
          1,
          0,
          0,
          0,
          0,
          0,
          2,
          0,
          0,
          0,
          0,
          0,
          0,
          0,
          0,
          2,
          1,
          0,
          0,
          0,
          0,
          0,
          0,
          0,
          0,
          0,
          0,
          0,
          0,
          0,
          0,
          0,
          0,
          0,
          0,
          0,
          0,
          0,
          0,
          0,
          0,
          0,
          0,
          0,
          0,
          0,
          0,
          0,
          0,
          0,
          0,
          0,
          0,
          0,
          0,
          0,
          0,
          2,
          1,
          1,
          4,
          5,
          1,
          0,
          0,
          0,
          0,
          0,
          0,
          2,
          0,
          0,
          0,
          0,
          0,
          0,
          0,
          0,
          0,
          0,
          0,
          0,
          0,
          0,
          0,
          0,
          4,
          3,
          0,
          1,
          2,
          11,
          2,
          0,
          0,
          0,
          0,
          0,
          0,
          1,
          0,
          0,
          0,
          0,
          0,
          0,
          0,
          0,
          0,
          0,
          0,
          0,
          4,
          0,
          10,
          1,
          1,
          2,
          3,
          0,
          0,
          0,
          0,
          0,
          0,
          0,
          0,
          0,
          0,
          0,
          0,
          6,
          1,
          10,
          2,
          0,
          2,
          0,
          0,
          0,
          0,
          1,
          2,
          14,
          0,
          0,
          0,
          0,
          3,
          5,
          3,
          3,
          10,
          1,
          2,
          1,
          16,
          2,
          19,
          1,
          1,
          2,
          0,
          0,
          0,
          0,
          0,
          4,
          5,
          4,
          5,
          1,
          5,
          1,
          10,
          0,
          0,
          0,
          0,
          3,
          1,
          0,
          0,
          0,
          0,
          0,
          0,
          0,
          0,
          0,
          0,
          0,
          0,
          0,
          0,
          10,
          0,
          6,
          6,
          7,
          0,
          1,
          11,
          9,
          14,
          4,
          6,
          2,
          16,
          0,
          7,
          6,
          0,
          0,
          0,
          0,
          0,
          11,
          0,
          8,
          4,
          5,
          8,
          1,
          11,
          4,
          1,
          11,
          3,
          10,
          5,
          8,
          1,
          0,
          0,
          0,
          0,
          9,
          9,
          5,
          7,
          8,
          3,
          0,
          0,
          0,
          0,
          8,
          3,
          1,
          11,
          4,
          0,
          0,
          0,
          0,
          0,
          0,
          0,
          0,
          0,
          0,
          2,
          1,
          2,
          0,
          2,
          1,
          2,
          1,
          0,
          0,
          0,
          0,
          0,
          0,
          0,
          0,
          0,
          0,
          0,
          0,
          1,
          0,
          0,
          1,
          2,
          0,
          0,
          0,
          0,
          0,
          0,
          0,
          0,
          0,
          0,
          0,
          0,
          0,
          6,
          0,
          1,
          0,
          0,
          1,
          0,
          1,
          0,
          0,
          1,
          0,
          0,
          0,
          0,
          0,
          0,
          0,
          1,
          0,
          0,
          0,
          0,
          0,
          0,
          0,
          0,
          12,
          1,
          0,
          0,
          0,
          0,
          0,
          0,
          0,
          0,
          2,
          1,
          0,
          0
         ],
         "xaxis": "x",
         "yaxis": "y"
        },
        {
         "alignmentgroup": "True",
         "bingroup": "x",
         "hovertemplate": "variable=A8<br>value=%{x}<br>count=%{y}<extra></extra>",
         "legendgroup": "A8",
         "marker": {
          "color": "#636efa",
          "pattern": {
           "shape": ""
          }
         },
         "name": "A8",
         "offsetgroup": "A8",
         "orientation": "v",
         "showlegend": true,
         "type": "histogram",
         "visible": false,
         "x": [
          1.25,
          3.04,
          1.5,
          3.75,
          1.71,
          2.5,
          6.5,
          0.04,
          3.96,
          3.165,
          2.165,
          4.335,
          1,
          0.04,
          5,
          0.25,
          0.96,
          3.17,
          0.665,
          0.75,
          2.5,
          0.835,
          7.875,
          3.085,
          0.5,
          1.5,
          5.165,
          15,
          7,
          5,
          5.04,
          7.96,
          7.585,
          5,
          0.415,
          2,
          1.835,
          0.5,
          0.25,
          14.415,
          4.5,
          5.335,
          0.75,
          8.625,
          28.5,
          2.625,
          0.125,
          6.04,
          3.5,
          0.165,
          0.875,
          1.75,
          0.04,
          0,
          7.415,
          0.835,
          0.085,
          5,
          5.75,
          6,
          1.25,
          3,
          1.5,
          1.585,
          4.29,
          1.54,
          2,
          0.25,
          1.46,
          1.625,
          1.585,
          12.5,
          13.5,
          10.75,
          1.625,
          0.375,
          0.125,
          0.585,
          2.5,
          0.25,
          0,
          2,
          0.25,
          3,
          0.455,
          5,
          0.875,
          4,
          1,
          0,
          5,
          0.5,
          8.5,
          9.46,
          1.5,
          0.5,
          0.125,
          0.835,
          3,
          1,
          0.25,
          4,
          0.375,
          2.25,
          5.75,
          0,
          0.5,
          4.5,
          10,
          0.795,
          3.5,
          0.5,
          0.875,
          1,
          1.375,
          1.29,
          11.5,
          6.29,
          14,
          0.335,
          0.04,
          1.21,
          1.5,
          7.375,
          8.5,
          7.5,
          2.5,
          2.5,
          3.25,
          0.835,
          13,
          2.25,
          6.5,
          2.5,
          5.5,
          6,
          0.5,
          4.25,
          1.625,
          5,
          0.625,
          0,
          1.75,
          2,
          5.085,
          2.75,
          2.375,
          8,
          4,
          5.5,
          0.415,
          4,
          4.25,
          1.085,
          5.5,
          0,
          2.54,
          0,
          4.165,
          0.04,
          1,
          1.75,
          1.665,
          0.04,
          11,
          1.75,
          1,
          0.04,
          9,
          1.5,
          0.25,
          15,
          8,
          8.5,
          1.335,
          0.375,
          3,
          1.415,
          1.21,
          1.96,
          15,
          0.5,
          0.165,
          5.5,
          2.585,
          12.5,
          3.5,
          5,
          2.5,
          1.625,
          3,
          5.125,
          2.5,
          3.085,
          8.5,
          1.5,
          3.165,
          15.5,
          2,
          0.04,
          1.25,
          2.25,
          2.25,
          0.71,
          0.085,
          14,
          0,
          5.665,
          4.5,
          6.5,
          10,
          5.5,
          18,
          3.5,
          5.25,
          3.5,
          7,
          5,
          8.665,
          1,
          2.29,
          20,
          1.375,
          0.085,
          0.125,
          0.25,
          0.5,
          2.46,
          2,
          0.665,
          0.625,
          13.875,
          4.5,
          5.75,
          10,
          2.085,
          0,
          1.415,
          4.58,
          2.5,
          2.5,
          1.75,
          11,
          2.71,
          1.5,
          2.04,
          14,
          0.29,
          4.75,
          0.29,
          20,
          5,
          1,
          0.46,
          0.25,
          1.085,
          2,
          0.5,
          0.04,
          0.165,
          5.75,
          0,
          0.335,
          0,
          0,
          0.04,
          0,
          1.25,
          0.125,
          0.21,
          0,
          1.25,
          0.04,
          0.125,
          2.25,
          0.54,
          0.29,
          0.165,
          0,
          0.085,
          0.25,
          0.125,
          0.25,
          0.25,
          0.125,
          0.165,
          0,
          0.29,
          0.165,
          0,
          0.5,
          1,
          0.165,
          0.125,
          0,
          3.04,
          4,
          1.75,
          0.665,
          3.335,
          6.5,
          0.25,
          0.5,
          0.085,
          1.5,
          0,
          4.5,
          0.415,
          0.25,
          0,
          1,
          2.335,
          0.125,
          0.415,
          0.25,
          0.5,
          0.25,
          0,
          0,
          1.5,
          1.5,
          10,
          0.375,
          0.25,
          1.165,
          1,
          0.04,
          0.5,
          3,
          0.085,
          0,
          2.5,
          1,
          1,
          0.5,
          0.165,
          1,
          0.5,
          2,
          0.75,
          3,
          0.04,
          0.5,
          0,
          0.5,
          0,
          0.25,
          2.5,
          0.585,
          2.25,
          0,
          0,
          1.5,
          0.585,
          0.25,
          1,
          0.165,
          0.04,
          0.165,
          0,
          5.5,
          0.085,
          0,
          0.29,
          0.165,
          13.875,
          0.165,
          0.165,
          3,
          0.75,
          7,
          0,
          1,
          0.125,
          0.04,
          1,
          0.125,
          2,
          0.125,
          4,
          2.25,
          0.165,
          4.5,
          5,
          1.585,
          1.5,
          0.54,
          0.5,
          0,
          0.085,
          1,
          0.21,
          0.25,
          1,
          0.25,
          0.54,
          0.04,
          0.125,
          1.25,
          0.085,
          0.29,
          0.29,
          3.085,
          0.75,
          1.085,
          0,
          0.165,
          1,
          0.085,
          0.335,
          0,
          1.25,
          0.085,
          0,
          0.125,
          3.25,
          0.125,
          0.54,
          0.375,
          0,
          1,
          1.5,
          1.75,
          1.165,
          1.5,
          0.25,
          0.25,
          0.04,
          0.29,
          0.085,
          1.5,
          0.165,
          0.085,
          0.5,
          2.415,
          0,
          0,
          0,
          0,
          0.375,
          1,
          0,
          0.125,
          0.04,
          0,
          0,
          0.165,
          0,
          0,
          0.5,
          7,
          1.5,
          3.5,
          0.25,
          3.75,
          0.085,
          0,
          0.04,
          5,
          1.5,
          0,
          0.085,
          0.125,
          0,
          0,
          2.79,
          2.5,
          0.04,
          0.75,
          0.415,
          0.085,
          0.04,
          0.125,
          1,
          0.125,
          0.75,
          0.085,
          10,
          0.415,
          0.085,
          0.165,
          0.415,
          1.75,
          0.04,
          1.165,
          0.04,
          0.085,
          0.04,
          0,
          0.125,
          2.75,
          4.625,
          6.5,
          6,
          3,
          1.5,
          1.04,
          1.665,
          1.46,
          1.625,
          5,
          3.5,
          0,
          4.75,
          1.085,
          7,
          0.75,
          1.835,
          2,
          2.25,
          1.75,
          0,
          2.5,
          0,
          2.585,
          6.5,
          4,
          1.75,
          0.585,
          0.125,
          1.5,
          2.25,
          1.29,
          1.75,
          2.415,
          2.5,
          0.21,
          1,
          6.75,
          0.21,
          2.75,
          1.75,
          0.75,
          0,
          7.5,
          0,
          0,
          3.75,
          0.25,
          0.54,
          2,
          1,
          0.835,
          1.165,
          0.5,
          1.5,
          2.625,
          1.875,
          0.75,
          16,
          12.75,
          0,
          5.375,
          4,
          0.75,
          0.21,
          7.5,
          1.085,
          0.04,
          2.29,
          3.5,
          1.25,
          1.415,
          1.585,
          12.75,
          0.04,
          2.125,
          0.875,
          0.375,
          0.75,
          1.75,
          1.085,
          0.04,
          0,
          1,
          3.25,
          1.75,
          1,
          1.5,
          1.29,
          1.335,
          0.04,
          0.125,
          5.25,
          0,
          0,
          17.5,
          8.5,
          1,
          0.29,
          3.125,
          4.25,
          0,
          0.085,
          0.085,
          0.25,
          2.375,
          2.5,
          1,
          2,
          0.54,
          0,
          0.25,
          0.125,
          0.085,
          1.25,
          0.04,
          0.5,
          4.25,
          0.085,
          0.125,
          5.085,
          0.29,
          0.585,
          0.125,
          0.25,
          1.585,
          0,
          2,
          0.125,
          0.125,
          2.25,
          0,
          0.665,
          0.665,
          2.085,
          0.165,
          0,
          0.5,
          1.665,
          0.25,
          0.125,
          0,
          0,
          0.25,
          0.96,
          0.5,
          0.79,
          0.25,
          1.5,
          2.5,
          3.5,
          3.5,
          3,
          0.29,
          0.165,
          0.165,
          0.25,
          3.5,
          0,
          1,
          0.125,
          0.335,
          0.5,
          0.415,
          0,
          2.29,
          0.25,
          1,
          0.25,
          0.085,
          0.165,
          0.875,
          1.5,
          0.04,
          0.04,
          0.25,
          1.75,
          0.085,
          1.5,
          5.5,
          0.5,
          0.5,
          2,
          0.21,
          0.665,
          0.085,
          0.04,
          0,
          0,
          0.29,
          3,
          0.335,
          0.585,
          3.5,
          1.25,
          2,
          2,
          0.04,
          8.29
         ],
         "xaxis": "x",
         "yaxis": "y"
        },
        {
         "alignmentgroup": "True",
         "bingroup": "x",
         "hovertemplate": "variable=A3<br>value=%{x}<br>count=%{y}<extra></extra>",
         "legendgroup": "A3",
         "marker": {
          "color": "#636efa",
          "pattern": {
           "shape": ""
          }
         },
         "name": "A3",
         "offsetgroup": "A3",
         "orientation": "v",
         "showlegend": true,
         "type": "histogram",
         "visible": false,
         "x": [
          0,
          4.46,
          0.5,
          1.54,
          5.625,
          4,
          1.04,
          11.585,
          0.5,
          4.915,
          0.83,
          1.835,
          6,
          6.04,
          10.5,
          4.415,
          0.875,
          5.875,
          0.25,
          8.585,
          11.25,
          1,
          8,
          14.5,
          6.5,
          0.585,
          13,
          18.5,
          8.5,
          1.04,
          14.79,
          9.79,
          7.585,
          5.125,
          10.75,
          1.5,
          1.585,
          11.75,
          0.585,
          9.415,
          9.17,
          15,
          1.415,
          13.915,
          28,
          6.75,
          2.04,
          4.46,
          1.54,
          0.665,
          0.5,
          1,
          2.04,
          2.5,
          3,
          11.625,
          0,
          0.5,
          4.5,
          3,
          12.25,
          16.165,
          0.79,
          0.835,
          4.25,
          1.54,
          1,
          0.375,
          6.5,
          25.125,
          7.5,
          4,
          5,
          0.5,
          7,
          5.29,
          6.5,
          0.585,
          1.165,
          9.75,
          19,
          1.5,
          0.5,
          3.5,
          0.625,
          4,
          0.375,
          2.21,
          4.5,
          1.5,
          12.75,
          15.5,
          5,
          1.375,
          1.5,
          3.54,
          0.625,
          0.5,
          11,
          1,
          1.75,
          16.5,
          5,
          12,
          4,
          15.5,
          1.165,
          11,
          2.25,
          0.75,
          3.5,
          1.04,
          12.5,
          0.75,
          1.25,
          1.125,
          7,
          6.5,
          7.04,
          10.335,
          6.21,
          12.5,
          12.5,
          6.665,
          9,
          5,
          2.5,
          11,
          4.25,
          3.5,
          5.5,
          1.835,
          8,
          5,
          5.5,
          6.5,
          0.54,
          2.75,
          9.5,
          13.5,
          3.75,
          16,
          0.29,
          11,
          1.665,
          2.5,
          1.5,
          7.54,
          6.5,
          15,
          0.46,
          10,
          6.5,
          2.5,
          1.5,
          11.5,
          3.04,
          15,
          2,
          0.08,
          2,
          2,
          1.71,
          1.75,
          16.5,
          10,
          9.5,
          0.54,
          3.25,
          1.125,
          2.54,
          0,
          12.5,
          13.585,
          10.5,
          1.5,
          12.5,
          8.665,
          9.25,
          8.17,
          0.29,
          2.335,
          3,
          19.5,
          5.665,
          8.5,
          6.5,
          5,
          1.04,
          4.625,
          10.5,
          0.205,
          0.96,
          1.585,
          4.04,
          5.04,
          3.165,
          7.625,
          2.04,
          10.04,
          0.5,
          1,
          2.75,
          10.25,
          2.125,
          12,
          0,
          9.335,
          2.5,
          4.25,
          5.875,
          6.625,
          14.5,
          11.5,
          2.71,
          3.5,
          4.04,
          11.5,
          9.625,
          9.25,
          12.54,
          11,
          9,
          9.54,
          5.5,
          4,
          5.5,
          8.46,
          0.375,
          11,
          3.5,
          3,
          1.75,
          13.75,
          21,
          1.835,
          0.25,
          7.5,
          4.625,
          10.125,
          10,
          25.085,
          5,
          7.5,
          2,
          3.04,
          8.5,
          0.21,
          12.75,
          11,
          21.5,
          5,
          11,
          11.125,
          0.625,
          10.25,
          11.045,
          0,
          9.54,
          1.75,
          2.335,
          0,
          1.335,
          10.5,
          0.585,
          0.085,
          1.21,
          6,
          1.54,
          0.165,
          0,
          2.5,
          6.75,
          10.125,
          2.5,
          5.71,
          5.415,
          10,
          13.5,
          0.835,
          0.875,
          0.585,
          4.46,
          1.25,
          12.625,
          10,
          1.5,
          0.58,
          0.415,
          1.75,
          0.75,
          10,
          0.54,
          2.415,
          0.335,
          3.125,
          9,
          2.5,
          2.75,
          12.125,
          2,
          0.165,
          1,
          2.875,
          13.665,
          26.335,
          2.75,
          10.29,
          1.29,
          3,
          4.5,
          1.75,
          0.21,
          10,
          0,
          0.75,
          0.25,
          22,
          0,
          0.125,
          1.5,
          0.375,
          0.375,
          0.205,
          1.25,
          1.085,
          1.085,
          3.5,
          2.5,
          4,
          0,
          2.5,
          2.5,
          12.5,
          2.5,
          0.75,
          6.5,
          1.25,
          3,
          3,
          4,
          4.085,
          2.25,
          2.75,
          1.75,
          7,
          1.5,
          4.5,
          0.54,
          1.5,
          2,
          0.585,
          11.5,
          1.585,
          2,
          0.165,
          1.335,
          0.165,
          3,
          4.71,
          5.5,
          2.5,
          0.54,
          0.335,
          2,
          1.25,
          6.165,
          1.71,
          11.5,
          0.75,
          2.5,
          13,
          4.585,
          1.54,
          0.585,
          0.5,
          14.5,
          0.835,
          1.335,
          0.25,
          5,
          7,
          2.5,
          4.25,
          11.46,
          5.5,
          1.5,
          0,
          14.585,
          0.17,
          7,
          5,
          12.5,
          0.54,
          1.25,
          1.625,
          2.04,
          0.585,
          12.5,
          2.085,
          5.085,
          0.375,
          6.5,
          0.335,
          5.085,
          6,
          8.125,
          0.665,
          3.125,
          0.25,
          2.835,
          3,
          0.79,
          1.5,
          0.46,
          1.25,
          0.125,
          1.79,
          0.705,
          2.54,
          2.5,
          1.085,
          1.25,
          0.835,
          2.165,
          1.25,
          2.04,
          0.835,
          2.29,
          0.335,
          3,
          3.165,
          1.54,
          1,
          2.71,
          0,
          0.585,
          0.165,
          1.25,
          0.875,
          0,
          5,
          2.71,
          3,
          0,
          11.25,
          0.125,
          1.665,
          1.125,
          7,
          3,
          1.625,
          4.25,
          0.665,
          1.5,
          18.125,
          0,
          0.75,
          5.5,
          0.29,
          2.415,
          0.875,
          0.5,
          0.29,
          1.835,
          3,
          3.085,
          1.375,
          2.335,
          4.085,
          11.665,
          4.125,
          6.5,
          4,
          0.415,
          2,
          0.835,
          2.5,
          11.5,
          2.71,
          0.5,
          3.165,
          9.5,
          0.415,
          1.08,
          19,
          0.125,
          13.335,
          3.54,
          1,
          0.75,
          0.875,
          9.5,
          11.835,
          4.415,
          9.5,
          0.875,
          9.25,
          0.5,
          7,
          4,
          5,
          0.165,
          5.125,
          3.75,
          19.5,
          9,
          3,
          12,
          4.79,
          4,
          4,
          0,
          9.96,
          2.54,
          10.5,
          5,
          0.75,
          0.375,
          1.71,
          7.5,
          5.29,
          3,
          8.5,
          1.665,
          1.5,
          1.75,
          0.335,
          7.08,
          25.21,
          2.085,
          0.67,
          2.25,
          0.835,
          2.5,
          1.585,
          1.25,
          3.165,
          1.75,
          5.5,
          1.5,
          3,
          10,
          3.79,
          1.04,
          11,
          0.46,
          1.5,
          1,
          12,
          22.29,
          10,
          15,
          3.335,
          11.25,
          0.42,
          4.5,
          1.46,
          0.04,
          2.29,
          12.33,
          1.125,
          1.5,
          12.335,
          5.04,
          3,
          11.5,
          2.875,
          0.375,
          0.915,
          2.75,
          3,
          0.54,
          14,
          10,
          0.165,
          0.5,
          6,
          1.625,
          6,
          0.83,
          0.04,
          4.25,
          9,
          15,
          17.75,
          20,
          15,
          1.75,
          0.58,
          6.5,
          0.75,
          0,
          5.25,
          0.21,
          0.75,
          3,
          6,
          0.125,
          2.415,
          0.46,
          1.75,
          1.25,
          0.25,
          0.585,
          1.75,
          0.04,
          3.5,
          0.04,
          4.165,
          1.25,
          3.25,
          0.79,
          10.915,
          4.415,
          1.25,
          0.75,
          14,
          4.75,
          10.415,
          2.25,
          0.165,
          0,
          0,
          0.79,
          12,
          7.835,
          2.54,
          13,
          0.665,
          1.25,
          0.29,
          1.5,
          2.165,
          0.71,
          2.46,
          0.5,
          9.585,
          3.625,
          0.75,
          2.75,
          2.25,
          0.75,
          7,
          0.42,
          2.665,
          8.5,
          9,
          0.335,
          3.75,
          3.75,
          7.625,
          0.415,
          11.5,
          0.83,
          5,
          3.25,
          1.665,
          0.375,
          3.75,
          9,
          3.5,
          1.5,
          4,
          1.5,
          0.04,
          11.75,
          0.54,
          0.5,
          2.04,
          5.835,
          12.835,
          0.835,
          2,
          2.5,
          1.04,
          10.665,
          7.25,
          10.21,
          1.25,
          0.29,
          1,
          3.29,
          0.75,
          3.29,
          10.085,
          0.75,
          13.5,
          0.205,
          3.375
         ],
         "xaxis": "x",
         "yaxis": "y"
        },
        {
         "alignmentgroup": "True",
         "bingroup": "x",
         "hovertemplate": "variable=A2<br>value=%{x}<br>count=%{y}<extra></extra>",
         "legendgroup": "A2",
         "marker": {
          "color": "#636efa",
          "pattern": {
           "shape": ""
          }
         },
         "name": "A2",
         "offsetgroup": "A2",
         "orientation": "v",
         "showlegend": true,
         "type": "histogram",
         "visible": false,
         "x": [
          30.83,
          58.67,
          24.5,
          27.83,
          20.17,
          32.08,
          33.17,
          22.92,
          54.42,
          42.5,
          22.08,
          29.92,
          38.25,
          48.08,
          45.83,
          36.67,
          28.25,
          23.25,
          21.83,
          19.17,
          25,
          23.25,
          47.75,
          27.42,
          41.17,
          15.83,
          47,
          56.58,
          57.42,
          42.08,
          29.25,
          42,
          49.5,
          36.75,
          22.58,
          27.83,
          27.25,
          23,
          27.75,
          54.58,
          34.17,
          28.92,
          29.67,
          39.58,
          56.42,
          54.33,
          41,
          31.92,
          41.5,
          23.92,
          25.75,
          26,
          37.42,
          34.92,
          34.25,
          23.33,
          23.17,
          44.33,
          35.17,
          43.25,
          56.75,
          31.67,
          23.42,
          20.42,
          26.67,
          34.17,
          36,
          25.5,
          19.42,
          35.17,
          32.33,
          34.83,
          38.58,
          44.25,
          44.83,
          20.67,
          34.08,
          19.17,
          21.67,
          21.5,
          49.58,
          27.67,
          39.83,
          31.56817109144546,
          27.25,
          37.17,
          31.56817109144546,
          25.67,
          34,
          49,
          62.5,
          31.42,
          31.56817109144546,
          52.33,
          28.75,
          28.58,
          23,
          31.56817109144546,
          22.5,
          28.5,
          37.5,
          35.25,
          18.67,
          25,
          27.83,
          54.83,
          28.75,
          25,
          40.92,
          19.75,
          29.17,
          24.5,
          24.58,
          33.75,
          20.67,
          25.42,
          37.75,
          52.5,
          57.83,
          20.75,
          39.92,
          25.67,
          24.75,
          44.17,
          23.5,
          34.92,
          47.67,
          22.75,
          34.42,
          28.42,
          67.75,
          20.42,
          47.42,
          36.25,
          32.67,
          48.58,
          39.92,
          33.58,
          18.83,
          26.92,
          31.25,
          56.5,
          43,
          22.33,
          27.25,
          32.83,
          23.25,
          40.33,
          30.5,
          52.83,
          46.67,
          58.33,
          37.33,
          23.08,
          32.75,
          21.67,
          28.5,
          68.67,
          28,
          34.08,
          27.67,
          44,
          25.08,
          32,
          60.58,
          40.83,
          19.33,
          32.33,
          36.67,
          37.5,
          25.08,
          41.33,
          56,
          49.83,
          22.67,
          27,
          25,
          26.08,
          18.42,
          20.17,
          47.67,
          21.25,
          20.67,
          57.08,
          22.42,
          48.75,
          40,
          40.58,
          28.67,
          33.08,
          21.33,
          42,
          41.75,
          22.67,
          34.5,
          28.25,
          33.17,
          48.17,
          27.58,
          22.58,
          24.08,
          41.33,
          24.83,
          20.75,
          36.33,
          35.42,
          71.58,
          28.67,
          35.17,
          39.5,
          39.33,
          24.33,
          60.08,
          23.08,
          26.67,
          48.17,
          41.17,
          55.92,
          53.92,
          18.92,
          50.08,
          65.42,
          17.58,
          18.83,
          37.75,
          23.25,
          18.08,
          22.5,
          19.67,
          22.08,
          25.17,
          47.42,
          33.5,
          27.67,
          58.42,
          20.67,
          26.17,
          21.33,
          42.83,
          38.17,
          20.5,
          48.25,
          28.33,
          18.75,
          18.5,
          33.17,
          45,
          19.67,
          24.5,
          21.83,
          40.25,
          41.42,
          17.83,
          23.17,
          31.56817109144546,
          18.17,
          20,
          20,
          20.75,
          24.5,
          32.75,
          52.17,
          48.17,
          20.42,
          50.75,
          17.08,
          18.33,
          32,
          59.67,
          18,
          37.58,
          32.33,
          18.08,
          38.25,
          30.67,
          18.58,
          19.17,
          18.17,
          24.58,
          16.25,
          21.17,
          23.92,
          17.67,
          16.5,
          23.25,
          17.58,
          31.56817109144546,
          29.5,
          18.83,
          21.75,
          23,
          18.25,
          25.42,
          35.75,
          16.08,
          31.92,
          69.17,
          32.92,
          16.33,
          22.17,
          57.58,
          18.25,
          23.42,
          15.92,
          24.75,
          48.75,
          23.5,
          18.58,
          27.75,
          31.75,
          24.83,
          19,
          16.33,
          18.58,
          16.25,
          23,
          21.17,
          17.5,
          19.17,
          36.75,
          21.25,
          18.08,
          33.67,
          48.58,
          33.67,
          29.5,
          30.17,
          40.83,
          34.83,
          31.56817109144546,
          20.42,
          33.25,
          34.08,
          25.25,
          34.75,
          27.67,
          47.33,
          34.83,
          33.25,
          28,
          39.08,
          42.75,
          26.92,
          33.75,
          38.92,
          62.75,
          32.25,
          26.75,
          63.33,
          27.83,
          26.17,
          22.17,
          22.5,
          30.75,
          36.67,
          16,
          41.17,
          19.5,
          32.42,
          36.75,
          30.25,
          23.08,
          26.83,
          16.92,
          24.42,
          42.83,
          22.75,
          39.42,
          23.58,
          21.42,
          33,
          26.33,
          45,
          26.25,
          28.17,
          20.83,
          28.67,
          20.67,
          34.42,
          33.58,
          43.17,
          22.67,
          24.33,
          56.83,
          22.08,
          34,
          22.58,
          21.17,
          26.67,
          22.92,
          15.17,
          39.92,
          27.42,
          24.75,
          41.17,
          33.08,
          29.83,
          23.58,
          26.17,
          31,
          20.75,
          28.92,
          51.92,
          22.67,
          34,
          69.5,
          40.33,
          19.58,
          16,
          17.08,
          31.25,
          25.17,
          22.67,
          40.58,
          22.25,
          22.25,
          22.5,
          23.58,
          38.42,
          26.58,
          35,
          20.42,
          29.42,
          26.17,
          33.67,
          24.58,
          27.67,
          37.5,
          49.17,
          33.58,
          51.83,
          22.92,
          21.83,
          25.25,
          58.58,
          19,
          19.58,
          53.33,
          27.17,
          25.92,
          23.08,
          39.58,
          30.58,
          17.25,
          17.67,
          31.56817109144546,
          16.5,
          27.33,
          31.25,
          20,
          31.56817109144546,
          39.5,
          36.5,
          29.75,
          52.42,
          36.17,
          34.58,
          29.67,
          36.17,
          25.67,
          24.5,
          24.08,
          21.92,
          36.58,
          23,
          27.58,
          31.08,
          30.42,
          22.08,
          16.33,
          21.92,
          21.08,
          17.42,
          19.17,
          20.67,
          26.75,
          23.58,
          39.17,
          22.75,
          26.5,
          16.92,
          23.5,
          17.33,
          23.75,
          34.67,
          74.83,
          28.17,
          24.5,
          18.83,
          45.33,
          47.25,
          24.17,
          39.25,
          20.5,
          18.83,
          19.17,
          25,
          20.17,
          25.75,
          20.42,
          31.56817109144546,
          39,
          64.08,
          28.25,
          28.75,
          31.33,
          18.92,
          24.75,
          30.67,
          21,
          13.75,
          46,
          44.33,
          20.25,
          22.67,
          31.56817109144546,
          60.92,
          16.08,
          28.17,
          39.17,
          20.42,
          30,
          22.83,
          22.5,
          28.58,
          45.17,
          41.58,
          57.08,
          55.75,
          43.25,
          25.33,
          24.58,
          43.17,
          40.92,
          31.83,
          33.92,
          24.92,
          35.25,
          34.25,
          80.25,
          19.42,
          42.75,
          19.67,
          36.33,
          30.08,
          44.25,
          23.58,
          23.92,
          33.17,
          48.33,
          76.75,
          51.33,
          34.75,
          38.58,
          22.42,
          41.92,
          29.58,
          32.17,
          51.42,
          22.83,
          25,
          26.75,
          23.33,
          24.42,
          42.17,
          20.83,
          23.08,
          25.17,
          43.08,
          35.75,
          59.5,
          21,
          21.92,
          65.17,
          20.33,
          32.25,
          30.17,
          25.17,
          39.17,
          39.08,
          31.67,
          41,
          48.5,
          32.67,
          28.08,
          73.42,
          64.08,
          51.58,
          26.67,
          25.33,
          30.17,
          27,
          23.17,
          34.17,
          38.67,
          25.75,
          46.08,
          21.5,
          20.08,
          20.5,
          29.5,
          42.25,
          29.83,
          20.08,
          23.42,
          29.58,
          16.17,
          32.33,
          31.56817109144546,
          47.83,
          20,
          27.58,
          22,
          19.33,
          38.33,
          29.42,
          22.67,
          32.25,
          29.58,
          18.42,
          22.17,
          22.67,
          25.58,
          18.83,
          21.58,
          23.75,
          22,
          36.08,
          29.25,
          19.58,
          22.92,
          27.25,
          38.75,
          32.42,
          23.75,
          18.17,
          40.92,
          19.5,
          28.58,
          35.58,
          34.17,
          33.17,
          31.58,
          52.5,
          36.17,
          37.33,
          20.83,
          24.08,
          25.58,
          35.17,
          48.08,
          15.83,
          22.5,
          21.5,
          23.58,
          21.08,
          25.67,
          38.92,
          15.75,
          28.58,
          22.25,
          29.83,
          23.5,
          32.08,
          31.08,
          31.83,
          21.75,
          17.92,
          30.33,
          51.83,
          47.17,
          25.83,
          50.25,
          29.5,
          37.33,
          41.58,
          30.58,
          19.42,
          17.92,
          20.08,
          19.5,
          27.83,
          17.08,
          36.42,
          40.58,
          21.08,
          22.67,
          25.25,
          17.92,
          35
         ],
         "xaxis": "x",
         "yaxis": "y"
        }
       ],
       "layout": {
        "showlegend": true,
        "template": {
         "data": {
          "bar": [
           {
            "error_x": {
             "color": "#2a3f5f"
            },
            "error_y": {
             "color": "#2a3f5f"
            },
            "marker": {
             "line": {
              "color": "#E5ECF6",
              "width": 0.5
             },
             "pattern": {
              "fillmode": "overlay",
              "size": 10,
              "solidity": 0.2
             }
            },
            "type": "bar"
           }
          ],
          "barpolar": [
           {
            "marker": {
             "line": {
              "color": "#E5ECF6",
              "width": 0.5
             },
             "pattern": {
              "fillmode": "overlay",
              "size": 10,
              "solidity": 0.2
             }
            },
            "type": "barpolar"
           }
          ],
          "carpet": [
           {
            "aaxis": {
             "endlinecolor": "#2a3f5f",
             "gridcolor": "white",
             "linecolor": "white",
             "minorgridcolor": "white",
             "startlinecolor": "#2a3f5f"
            },
            "baxis": {
             "endlinecolor": "#2a3f5f",
             "gridcolor": "white",
             "linecolor": "white",
             "minorgridcolor": "white",
             "startlinecolor": "#2a3f5f"
            },
            "type": "carpet"
           }
          ],
          "choropleth": [
           {
            "colorbar": {
             "outlinewidth": 0,
             "ticks": ""
            },
            "type": "choropleth"
           }
          ],
          "contour": [
           {
            "colorbar": {
             "outlinewidth": 0,
             "ticks": ""
            },
            "colorscale": [
             [
              0,
              "#0d0887"
             ],
             [
              0.1111111111111111,
              "#46039f"
             ],
             [
              0.2222222222222222,
              "#7201a8"
             ],
             [
              0.3333333333333333,
              "#9c179e"
             ],
             [
              0.4444444444444444,
              "#bd3786"
             ],
             [
              0.5555555555555556,
              "#d8576b"
             ],
             [
              0.6666666666666666,
              "#ed7953"
             ],
             [
              0.7777777777777778,
              "#fb9f3a"
             ],
             [
              0.8888888888888888,
              "#fdca26"
             ],
             [
              1,
              "#f0f921"
             ]
            ],
            "type": "contour"
           }
          ],
          "contourcarpet": [
           {
            "colorbar": {
             "outlinewidth": 0,
             "ticks": ""
            },
            "type": "contourcarpet"
           }
          ],
          "heatmap": [
           {
            "colorbar": {
             "outlinewidth": 0,
             "ticks": ""
            },
            "colorscale": [
             [
              0,
              "#0d0887"
             ],
             [
              0.1111111111111111,
              "#46039f"
             ],
             [
              0.2222222222222222,
              "#7201a8"
             ],
             [
              0.3333333333333333,
              "#9c179e"
             ],
             [
              0.4444444444444444,
              "#bd3786"
             ],
             [
              0.5555555555555556,
              "#d8576b"
             ],
             [
              0.6666666666666666,
              "#ed7953"
             ],
             [
              0.7777777777777778,
              "#fb9f3a"
             ],
             [
              0.8888888888888888,
              "#fdca26"
             ],
             [
              1,
              "#f0f921"
             ]
            ],
            "type": "heatmap"
           }
          ],
          "heatmapgl": [
           {
            "colorbar": {
             "outlinewidth": 0,
             "ticks": ""
            },
            "colorscale": [
             [
              0,
              "#0d0887"
             ],
             [
              0.1111111111111111,
              "#46039f"
             ],
             [
              0.2222222222222222,
              "#7201a8"
             ],
             [
              0.3333333333333333,
              "#9c179e"
             ],
             [
              0.4444444444444444,
              "#bd3786"
             ],
             [
              0.5555555555555556,
              "#d8576b"
             ],
             [
              0.6666666666666666,
              "#ed7953"
             ],
             [
              0.7777777777777778,
              "#fb9f3a"
             ],
             [
              0.8888888888888888,
              "#fdca26"
             ],
             [
              1,
              "#f0f921"
             ]
            ],
            "type": "heatmapgl"
           }
          ],
          "histogram": [
           {
            "marker": {
             "pattern": {
              "fillmode": "overlay",
              "size": 10,
              "solidity": 0.2
             }
            },
            "type": "histogram"
           }
          ],
          "histogram2d": [
           {
            "colorbar": {
             "outlinewidth": 0,
             "ticks": ""
            },
            "colorscale": [
             [
              0,
              "#0d0887"
             ],
             [
              0.1111111111111111,
              "#46039f"
             ],
             [
              0.2222222222222222,
              "#7201a8"
             ],
             [
              0.3333333333333333,
              "#9c179e"
             ],
             [
              0.4444444444444444,
              "#bd3786"
             ],
             [
              0.5555555555555556,
              "#d8576b"
             ],
             [
              0.6666666666666666,
              "#ed7953"
             ],
             [
              0.7777777777777778,
              "#fb9f3a"
             ],
             [
              0.8888888888888888,
              "#fdca26"
             ],
             [
              1,
              "#f0f921"
             ]
            ],
            "type": "histogram2d"
           }
          ],
          "histogram2dcontour": [
           {
            "colorbar": {
             "outlinewidth": 0,
             "ticks": ""
            },
            "colorscale": [
             [
              0,
              "#0d0887"
             ],
             [
              0.1111111111111111,
              "#46039f"
             ],
             [
              0.2222222222222222,
              "#7201a8"
             ],
             [
              0.3333333333333333,
              "#9c179e"
             ],
             [
              0.4444444444444444,
              "#bd3786"
             ],
             [
              0.5555555555555556,
              "#d8576b"
             ],
             [
              0.6666666666666666,
              "#ed7953"
             ],
             [
              0.7777777777777778,
              "#fb9f3a"
             ],
             [
              0.8888888888888888,
              "#fdca26"
             ],
             [
              1,
              "#f0f921"
             ]
            ],
            "type": "histogram2dcontour"
           }
          ],
          "mesh3d": [
           {
            "colorbar": {
             "outlinewidth": 0,
             "ticks": ""
            },
            "type": "mesh3d"
           }
          ],
          "parcoords": [
           {
            "line": {
             "colorbar": {
              "outlinewidth": 0,
              "ticks": ""
             }
            },
            "type": "parcoords"
           }
          ],
          "pie": [
           {
            "automargin": true,
            "type": "pie"
           }
          ],
          "scatter": [
           {
            "marker": {
             "colorbar": {
              "outlinewidth": 0,
              "ticks": ""
             }
            },
            "type": "scatter"
           }
          ],
          "scatter3d": [
           {
            "line": {
             "colorbar": {
              "outlinewidth": 0,
              "ticks": ""
             }
            },
            "marker": {
             "colorbar": {
              "outlinewidth": 0,
              "ticks": ""
             }
            },
            "type": "scatter3d"
           }
          ],
          "scattercarpet": [
           {
            "marker": {
             "colorbar": {
              "outlinewidth": 0,
              "ticks": ""
             }
            },
            "type": "scattercarpet"
           }
          ],
          "scattergeo": [
           {
            "marker": {
             "colorbar": {
              "outlinewidth": 0,
              "ticks": ""
             }
            },
            "type": "scattergeo"
           }
          ],
          "scattergl": [
           {
            "marker": {
             "colorbar": {
              "outlinewidth": 0,
              "ticks": ""
             }
            },
            "type": "scattergl"
           }
          ],
          "scattermapbox": [
           {
            "marker": {
             "colorbar": {
              "outlinewidth": 0,
              "ticks": ""
             }
            },
            "type": "scattermapbox"
           }
          ],
          "scatterpolar": [
           {
            "marker": {
             "colorbar": {
              "outlinewidth": 0,
              "ticks": ""
             }
            },
            "type": "scatterpolar"
           }
          ],
          "scatterpolargl": [
           {
            "marker": {
             "colorbar": {
              "outlinewidth": 0,
              "ticks": ""
             }
            },
            "type": "scatterpolargl"
           }
          ],
          "scatterternary": [
           {
            "marker": {
             "colorbar": {
              "outlinewidth": 0,
              "ticks": ""
             }
            },
            "type": "scatterternary"
           }
          ],
          "surface": [
           {
            "colorbar": {
             "outlinewidth": 0,
             "ticks": ""
            },
            "colorscale": [
             [
              0,
              "#0d0887"
             ],
             [
              0.1111111111111111,
              "#46039f"
             ],
             [
              0.2222222222222222,
              "#7201a8"
             ],
             [
              0.3333333333333333,
              "#9c179e"
             ],
             [
              0.4444444444444444,
              "#bd3786"
             ],
             [
              0.5555555555555556,
              "#d8576b"
             ],
             [
              0.6666666666666666,
              "#ed7953"
             ],
             [
              0.7777777777777778,
              "#fb9f3a"
             ],
             [
              0.8888888888888888,
              "#fdca26"
             ],
             [
              1,
              "#f0f921"
             ]
            ],
            "type": "surface"
           }
          ],
          "table": [
           {
            "cells": {
             "fill": {
              "color": "#EBF0F8"
             },
             "line": {
              "color": "white"
             }
            },
            "header": {
             "fill": {
              "color": "#C8D4E3"
             },
             "line": {
              "color": "white"
             }
            },
            "type": "table"
           }
          ]
         },
         "layout": {
          "annotationdefaults": {
           "arrowcolor": "#2a3f5f",
           "arrowhead": 0,
           "arrowwidth": 1
          },
          "autotypenumbers": "strict",
          "coloraxis": {
           "colorbar": {
            "outlinewidth": 0,
            "ticks": ""
           }
          },
          "colorscale": {
           "diverging": [
            [
             0,
             "#8e0152"
            ],
            [
             0.1,
             "#c51b7d"
            ],
            [
             0.2,
             "#de77ae"
            ],
            [
             0.3,
             "#f1b6da"
            ],
            [
             0.4,
             "#fde0ef"
            ],
            [
             0.5,
             "#f7f7f7"
            ],
            [
             0.6,
             "#e6f5d0"
            ],
            [
             0.7,
             "#b8e186"
            ],
            [
             0.8,
             "#7fbc41"
            ],
            [
             0.9,
             "#4d9221"
            ],
            [
             1,
             "#276419"
            ]
           ],
           "sequential": [
            [
             0,
             "#0d0887"
            ],
            [
             0.1111111111111111,
             "#46039f"
            ],
            [
             0.2222222222222222,
             "#7201a8"
            ],
            [
             0.3333333333333333,
             "#9c179e"
            ],
            [
             0.4444444444444444,
             "#bd3786"
            ],
            [
             0.5555555555555556,
             "#d8576b"
            ],
            [
             0.6666666666666666,
             "#ed7953"
            ],
            [
             0.7777777777777778,
             "#fb9f3a"
            ],
            [
             0.8888888888888888,
             "#fdca26"
            ],
            [
             1,
             "#f0f921"
            ]
           ],
           "sequentialminus": [
            [
             0,
             "#0d0887"
            ],
            [
             0.1111111111111111,
             "#46039f"
            ],
            [
             0.2222222222222222,
             "#7201a8"
            ],
            [
             0.3333333333333333,
             "#9c179e"
            ],
            [
             0.4444444444444444,
             "#bd3786"
            ],
            [
             0.5555555555555556,
             "#d8576b"
            ],
            [
             0.6666666666666666,
             "#ed7953"
            ],
            [
             0.7777777777777778,
             "#fb9f3a"
            ],
            [
             0.8888888888888888,
             "#fdca26"
            ],
            [
             1,
             "#f0f921"
            ]
           ]
          },
          "colorway": [
           "#636efa",
           "#EF553B",
           "#00cc96",
           "#ab63fa",
           "#FFA15A",
           "#19d3f3",
           "#FF6692",
           "#B6E880",
           "#FF97FF",
           "#FECB52"
          ],
          "font": {
           "color": "#2a3f5f"
          },
          "geo": {
           "bgcolor": "white",
           "lakecolor": "white",
           "landcolor": "#E5ECF6",
           "showlakes": true,
           "showland": true,
           "subunitcolor": "white"
          },
          "hoverlabel": {
           "align": "left"
          },
          "hovermode": "closest",
          "mapbox": {
           "style": "light"
          },
          "paper_bgcolor": "white",
          "plot_bgcolor": "#E5ECF6",
          "polar": {
           "angularaxis": {
            "gridcolor": "white",
            "linecolor": "white",
            "ticks": ""
           },
           "bgcolor": "#E5ECF6",
           "radialaxis": {
            "gridcolor": "white",
            "linecolor": "white",
            "ticks": ""
           }
          },
          "scene": {
           "xaxis": {
            "backgroundcolor": "#E5ECF6",
            "gridcolor": "white",
            "gridwidth": 2,
            "linecolor": "white",
            "showbackground": true,
            "ticks": "",
            "zerolinecolor": "white"
           },
           "yaxis": {
            "backgroundcolor": "#E5ECF6",
            "gridcolor": "white",
            "gridwidth": 2,
            "linecolor": "white",
            "showbackground": true,
            "ticks": "",
            "zerolinecolor": "white"
           },
           "zaxis": {
            "backgroundcolor": "#E5ECF6",
            "gridcolor": "white",
            "gridwidth": 2,
            "linecolor": "white",
            "showbackground": true,
            "ticks": "",
            "zerolinecolor": "white"
           }
          },
          "shapedefaults": {
           "line": {
            "color": "#2a3f5f"
           }
          },
          "ternary": {
           "aaxis": {
            "gridcolor": "white",
            "linecolor": "white",
            "ticks": ""
           },
           "baxis": {
            "gridcolor": "white",
            "linecolor": "white",
            "ticks": ""
           },
           "bgcolor": "#E5ECF6",
           "caxis": {
            "gridcolor": "white",
            "linecolor": "white",
            "ticks": ""
           }
          },
          "title": {
           "x": 0.05
          },
          "xaxis": {
           "automargin": true,
           "gridcolor": "white",
           "linecolor": "white",
           "ticks": "",
           "title": {
            "standoff": 15
           },
           "zerolinecolor": "white",
           "zerolinewidth": 2
          },
          "yaxis": {
           "automargin": true,
           "gridcolor": "white",
           "linecolor": "white",
           "ticks": "",
           "title": {
            "standoff": 15
           },
           "zerolinecolor": "white",
           "zerolinewidth": 2
          }
         }
        },
        "title": {
         "text": "Распределение непрерывных переменных",
         "x": 0.5
        },
        "updatemenus": [
         {
          "buttons": [
           {
            "args": [
             "visible",
             [
              true,
              false,
              false,
              false,
              false,
              false
             ]
            ],
            "label": "A15",
            "method": "restyle"
           },
           {
            "args": [
             "visible",
             [
              false,
              true,
              false,
              false,
              false,
              false
             ]
            ],
            "label": "A14",
            "method": "restyle"
           },
           {
            "args": [
             "visible",
             [
              false,
              false,
              true,
              false,
              false,
              false
             ]
            ],
            "label": "A11",
            "method": "restyle"
           },
           {
            "args": [
             "visible",
             [
              false,
              false,
              false,
              true,
              false,
              false
             ]
            ],
            "label": "A8",
            "method": "restyle"
           },
           {
            "args": [
             "visible",
             [
              false,
              false,
              false,
              false,
              true,
              false
             ]
            ],
            "label": "A3",
            "method": "restyle"
           },
           {
            "args": [
             "visible",
             [
              false,
              false,
              false,
              false,
              false,
              true
             ]
            ],
            "label": "A2",
            "method": "restyle"
           }
          ],
          "direction": "down",
          "showactive": true
         }
        ],
        "xaxis": {
         "title": {
          "text": "Диапазон"
         }
        },
        "yaxis": {
         "title": {
          "text": "Количество значений"
         }
        }
       }
      }
     },
     "metadata": {},
     "output_type": "display_data"
    }
   ],
   "source": [
    "warnings.filterwarnings(\"ignore\")\n",
    "updatemenu = [dict()]\n",
    "buttons = []\n",
    "fig = go.Figure()\n",
    "data =[]\n",
    "for i in continuous.name:\n",
    "    trace = px.histogram(df[i]).data[0]\n",
    "    trace.visible = False\n",
    "    data.append(trace) \n",
    "fig.add_traces(data) \n",
    "\n",
    "for i, col in enumerate(continuous.name):\n",
    "\n",
    "    visibles = [False] * len(continuous.name)\n",
    "    visibles[i] = True\n",
    "    buttons.append(dict(method='restyle',\n",
    "                        label=col,\n",
    "                        args=[\"visible\", visibles]\n",
    "                        ))\n",
    "\n",
    "updatemenu[0]['buttons'] = buttons\n",
    "updatemenu[0]['direction'] = 'down'\n",
    "updatemenu[0]['showactive'] = True\n",
    "\n",
    "fig.update_layout(showlegend=True, updatemenus=updatemenu)\n",
    "fig.update_layout(\n",
    "     title={\n",
    "        \"text\": \"Распределение непрерывных переменных\",\n",
    "        \"x\": 0.5\n",
    "    },\n",
    "    xaxis_title=\"Диапазон\",\n",
    "    yaxis_title=\"Количество значений\"\n",
    ")\n",
    "fig.show()\n",
    "warnings.filterwarnings(\"default\")"
   ]
  },
  {
   "cell_type": "markdown",
   "metadata": {},
   "source": [
    "Теперь рассмотрим распределение категориальных переменных"
   ]
  },
  {
   "cell_type": "code",
   "execution_count": 45,
   "metadata": {},
   "outputs": [
    {
     "data": {
      "application/vnd.plotly.v1+json": {
       "config": {
        "plotlyServerURL": "https://plot.ly"
       },
       "data": [
        {
         "alignmentgroup": "True",
         "bingroup": "x",
         "hovertemplate": "variable=A12<br>value=%{x}<br>count=%{y}<extra></extra>",
         "legendgroup": "A12",
         "marker": {
          "color": "#636efa",
          "pattern": {
           "shape": ""
          }
         },
         "name": "A12",
         "offsetgroup": "A12",
         "orientation": "v",
         "showlegend": true,
         "type": "histogram",
         "visible": false,
         "x": [
          "f",
          "f",
          "f",
          "t",
          "f",
          "t",
          "t",
          "f",
          "f",
          "t",
          "t",
          "f",
          "t",
          "f",
          "t",
          "t",
          "t",
          "f",
          "t",
          "f",
          "f",
          "f",
          "t",
          "f",
          "t",
          "f",
          "t",
          "t",
          "f",
          "t",
          "t",
          "f",
          "t",
          "t",
          "t",
          "t",
          "t",
          "t",
          "f",
          "t",
          "t",
          "f",
          "f",
          "t",
          "f",
          "t",
          "t",
          "f",
          "f",
          "f",
          "t",
          "t",
          "t",
          "t",
          "t",
          "t",
          "f",
          "t",
          "t",
          "f",
          "t",
          "f",
          "t",
          "f",
          "t",
          "t",
          "f",
          "f",
          "f",
          "t",
          "t",
          "t",
          "t",
          "f",
          "f",
          "f",
          "t",
          "t",
          "f",
          "f",
          "f",
          "f",
          "f",
          "t",
          "t",
          "t",
          "t",
          "f",
          "t",
          "t",
          "f",
          "f",
          "f",
          "t",
          "t",
          "t",
          "f",
          "t",
          "t",
          "t",
          "t",
          "f",
          "f",
          "t",
          "t",
          "f",
          "f",
          "f",
          "t",
          "t",
          "t",
          "f",
          "t",
          "t",
          "t",
          "f",
          "t",
          "f",
          "t",
          "t",
          "f",
          "t",
          "t",
          "t",
          "t",
          "t",
          "t",
          "t",
          "f",
          "f",
          "t",
          "f",
          "f",
          "f",
          "t",
          "t",
          "f",
          "f",
          "t",
          "f",
          "t",
          "f",
          "f",
          "f",
          "f",
          "f",
          "t",
          "f",
          "t",
          "f",
          "t",
          "f",
          "t",
          "t",
          "t",
          "t",
          "f",
          "f",
          "t",
          "t",
          "f",
          "t",
          "t",
          "t",
          "t",
          "f",
          "t",
          "f",
          "t",
          "t",
          "t",
          "f",
          "t",
          "t",
          "f",
          "t",
          "t",
          "f",
          "f",
          "f",
          "f",
          "f",
          "f",
          "f",
          "f",
          "f",
          "f",
          "f",
          "t",
          "f",
          "t",
          "f",
          "f",
          "f",
          "t",
          "t",
          "t",
          "f",
          "t",
          "f",
          "f",
          "t",
          "f",
          "t",
          "f",
          "f",
          "f",
          "f",
          "f",
          "f",
          "t",
          "t",
          "t",
          "f",
          "f",
          "f",
          "f",
          "f",
          "f",
          "t",
          "t",
          "t",
          "t",
          "f",
          "t",
          "t",
          "f",
          "f",
          "t",
          "f",
          "f",
          "t",
          "t",
          "t",
          "f",
          "f",
          "t",
          "f",
          "f",
          "f",
          "f",
          "f",
          "t",
          "f",
          "f",
          "t",
          "t",
          "f",
          "f",
          "f",
          "f",
          "t",
          "f",
          "f",
          "f",
          "f",
          "t",
          "f",
          "f",
          "f",
          "t",
          "f",
          "f",
          "t",
          "f",
          "f",
          "f",
          "f",
          "t",
          "f",
          "f",
          "t",
          "f",
          "f",
          "t",
          "f",
          "f",
          "f",
          "f",
          "f",
          "f",
          "f",
          "f",
          "f",
          "f",
          "f",
          "t",
          "f",
          "f",
          "f",
          "t",
          "f",
          "f",
          "f",
          "f",
          "t",
          "f",
          "t",
          "f",
          "t",
          "f",
          "t",
          "t",
          "f",
          "f",
          "t",
          "f",
          "f",
          "t",
          "f",
          "t",
          "t",
          "f",
          "f",
          "f",
          "t",
          "f",
          "t",
          "t",
          "t",
          "f",
          "t",
          "f",
          "f",
          "f",
          "f",
          "f",
          "f",
          "f",
          "t",
          "f",
          "t",
          "f",
          "t",
          "f",
          "t",
          "t",
          "t",
          "f",
          "t",
          "f",
          "f",
          "t",
          "f",
          "t",
          "f",
          "t",
          "f",
          "t",
          "t",
          "t",
          "f",
          "t",
          "t",
          "t",
          "t",
          "f",
          "t",
          "t",
          "f",
          "t",
          "t",
          "f",
          "f",
          "f",
          "t",
          "f",
          "f",
          "t",
          "t",
          "t",
          "t",
          "t",
          "f",
          "f",
          "f",
          "f",
          "t",
          "t",
          "t",
          "t",
          "f",
          "f",
          "t",
          "t",
          "t",
          "t",
          "t",
          "t",
          "f",
          "f",
          "f",
          "t",
          "t",
          "f",
          "t",
          "f",
          "f",
          "t",
          "f",
          "f",
          "f",
          "t",
          "f",
          "t",
          "f",
          "f",
          "f",
          "f",
          "f",
          "f",
          "f",
          "f",
          "f",
          "t",
          "f",
          "f",
          "t",
          "f",
          "t",
          "t",
          "f",
          "f",
          "f",
          "f",
          "f",
          "t",
          "f",
          "f",
          "f",
          "f",
          "f",
          "t",
          "f",
          "t",
          "f",
          "f",
          "t",
          "f",
          "t",
          "f",
          "f",
          "t",
          "t",
          "f",
          "f",
          "f",
          "f",
          "f",
          "f",
          "f",
          "f",
          "f",
          "t",
          "t",
          "f",
          "f",
          "f",
          "f",
          "t",
          "f",
          "f",
          "f",
          "f",
          "f",
          "t",
          "t",
          "f",
          "f",
          "t",
          "f",
          "f",
          "f",
          "t",
          "f",
          "t",
          "t",
          "t",
          "f",
          "f",
          "t",
          "t",
          "t",
          "f",
          "f",
          "f",
          "f",
          "t",
          "t",
          "t",
          "f",
          "t",
          "f",
          "f",
          "f",
          "f",
          "t",
          "t",
          "t",
          "f",
          "t",
          "t",
          "f",
          "f",
          "t",
          "f",
          "f",
          "f",
          "f",
          "t",
          "t",
          "f",
          "f",
          "f",
          "f",
          "f",
          "f",
          "t",
          "f",
          "t",
          "f",
          "t",
          "f",
          "f",
          "t",
          "t",
          "f",
          "t",
          "t",
          "f",
          "t",
          "f",
          "f",
          "f",
          "t",
          "f",
          "f",
          "t",
          "t",
          "f",
          "t",
          "f",
          "t",
          "t",
          "t",
          "f",
          "t",
          "f",
          "t",
          "f",
          "t",
          "f",
          "t",
          "f",
          "f",
          "f",
          "t",
          "f",
          "f",
          "t",
          "f",
          "f",
          "f",
          "t",
          "t",
          "f",
          "t",
          "f",
          "t",
          "f",
          "t",
          "t",
          "t",
          "t",
          "f",
          "t",
          "f",
          "f",
          "f",
          "t",
          "t",
          "f",
          "t",
          "t",
          "f",
          "t",
          "t",
          "f",
          "t",
          "t",
          "f",
          "t",
          "f",
          "t",
          "t",
          "f",
          "t",
          "f",
          "f",
          "t",
          "f",
          "t",
          "f",
          "f",
          "f",
          "t",
          "f",
          "t",
          "t",
          "t",
          "f",
          "t",
          "f",
          "t",
          "f",
          "t",
          "t",
          "f",
          "t",
          "f",
          "f",
          "t",
          "f",
          "f",
          "f",
          "f",
          "t",
          "f",
          "f",
          "f",
          "t",
          "t",
          "f",
          "f",
          "t",
          "t",
          "t",
          "f",
          "t",
          "t",
          "t",
          "t",
          "t",
          "f",
          "t",
          "t",
          "f",
          "t",
          "t",
          "f",
          "f",
          "t",
          "t",
          "t",
          "t",
          "f",
          "t",
          "f",
          "f",
          "t",
          "f",
          "f",
          "t",
          "t",
          "f",
          "f",
          "t",
          "t",
          "t",
          "f",
          "f",
          "f",
          "t",
          "f",
          "f",
          "f",
          "t",
          "f",
          "f",
          "f",
          "f",
          "f",
          "t",
          "f",
          "t",
          "f",
          "t",
          "t",
          "f",
          "t"
         ],
         "xaxis": "x",
         "yaxis": "y"
        },
        {
         "alignmentgroup": "True",
         "bingroup": "x",
         "hovertemplate": "variable=A10<br>value=%{x}<br>count=%{y}<extra></extra>",
         "legendgroup": "A10",
         "marker": {
          "color": "#636efa",
          "pattern": {
           "shape": ""
          }
         },
         "name": "A10",
         "offsetgroup": "A10",
         "orientation": "v",
         "showlegend": true,
         "type": "histogram",
         "visible": false,
         "x": [
          "t",
          "t",
          "f",
          "t",
          "f",
          "f",
          "f",
          "f",
          "f",
          "f",
          "f",
          "f",
          "f",
          "f",
          "t",
          "t",
          "t",
          "t",
          "f",
          "t",
          "t",
          "f",
          "t",
          "t",
          "t",
          "t",
          "t",
          "t",
          "t",
          "t",
          "t",
          "t",
          "t",
          "f",
          "t",
          "t",
          "t",
          "t",
          "t",
          "t",
          "t",
          "t",
          "t",
          "t",
          "t",
          "t",
          "t",
          "t",
          "f",
          "f",
          "f",
          "f",
          "f",
          "f",
          "f",
          "f",
          "f",
          "f",
          "f",
          "t",
          "t",
          "t",
          "t",
          "t",
          "t",
          "t",
          "t",
          "t",
          "t",
          "t",
          "f",
          "f",
          "f",
          "f",
          "f",
          "t",
          "f",
          "f",
          "t",
          "f",
          "t",
          "f",
          "f",
          "f",
          "f",
          "f",
          "f",
          "f",
          "f",
          "f",
          "f",
          "f",
          "f",
          "f",
          "f",
          "f",
          "f",
          "f",
          "f",
          "t",
          "f",
          "f",
          "t",
          "t",
          "t",
          "t",
          "f",
          "f",
          "f",
          "t",
          "t",
          "t",
          "f",
          "t",
          "t",
          "t",
          "t",
          "t",
          "t",
          "t",
          "t",
          "t",
          "t",
          "t",
          "t",
          "t",
          "t",
          "t",
          "t",
          "f",
          "t",
          "t",
          "t",
          "t",
          "t",
          "f",
          "t",
          "t",
          "t",
          "t",
          "t",
          "t",
          "t",
          "t",
          "t",
          "t",
          "t",
          "t",
          "t",
          "t",
          "t",
          "t",
          "t",
          "t",
          "t",
          "t",
          "t",
          "t",
          "t",
          "t",
          "t",
          "t",
          "t",
          "f",
          "f",
          "f",
          "f",
          "f",
          "f",
          "f",
          "f",
          "f",
          "f",
          "f",
          "f",
          "f",
          "f",
          "f",
          "t",
          "t",
          "t",
          "t",
          "t",
          "t",
          "t",
          "t",
          "t",
          "t",
          "t",
          "t",
          "f",
          "f",
          "f",
          "t",
          "t",
          "t",
          "t",
          "t",
          "t",
          "t",
          "t",
          "f",
          "t",
          "t",
          "t",
          "t",
          "f",
          "t",
          "t",
          "t",
          "t",
          "f",
          "t",
          "t",
          "t",
          "f",
          "t",
          "t",
          "t",
          "t",
          "t",
          "t",
          "f",
          "f",
          "f",
          "f",
          "f",
          "f",
          "t",
          "f",
          "t",
          "t",
          "t",
          "f",
          "t",
          "t",
          "f",
          "t",
          "f",
          "t",
          "f",
          "t",
          "f",
          "t",
          "t",
          "t",
          "t",
          "t",
          "t",
          "t",
          "t",
          "t",
          "t",
          "t",
          "f",
          "f",
          "f",
          "f",
          "f",
          "f",
          "f",
          "f",
          "f",
          "f",
          "f",
          "f",
          "f",
          "f",
          "f",
          "f",
          "f",
          "f",
          "f",
          "f",
          "f",
          "f",
          "f",
          "f",
          "f",
          "f",
          "f",
          "f",
          "f",
          "t",
          "t",
          "t",
          "t",
          "t",
          "t",
          "f",
          "f",
          "t",
          "t",
          "t",
          "t",
          "t",
          "t",
          "t",
          "t",
          "t",
          "t",
          "f",
          "f",
          "f",
          "f",
          "f",
          "f",
          "f",
          "f",
          "f",
          "f",
          "f",
          "f",
          "f",
          "f",
          "f",
          "f",
          "f",
          "f",
          "f",
          "f",
          "f",
          "f",
          "t",
          "f",
          "f",
          "f",
          "f",
          "f",
          "f",
          "f",
          "f",
          "f",
          "f",
          "f",
          "f",
          "f",
          "f",
          "f",
          "f",
          "f",
          "f",
          "f",
          "f",
          "f",
          "f",
          "f",
          "f",
          "t",
          "t",
          "f",
          "f",
          "f",
          "f",
          "f",
          "t",
          "f",
          "f",
          "f",
          "f",
          "f",
          "f",
          "f",
          "f",
          "t",
          "t",
          "f",
          "f",
          "f",
          "f",
          "f",
          "f",
          "f",
          "f",
          "f",
          "f",
          "f",
          "f",
          "f",
          "f",
          "f",
          "f",
          "f",
          "f",
          "f",
          "f",
          "f",
          "f",
          "f",
          "f",
          "f",
          "f",
          "f",
          "f",
          "f",
          "f",
          "f",
          "f",
          "f",
          "f",
          "f",
          "f",
          "f",
          "f",
          "f",
          "f",
          "t",
          "t",
          "t",
          "t",
          "t",
          "t",
          "f",
          "f",
          "f",
          "f",
          "f",
          "f",
          "t",
          "f",
          "f",
          "f",
          "f",
          "f",
          "f",
          "f",
          "f",
          "f",
          "f",
          "f",
          "f",
          "f",
          "f",
          "f",
          "f",
          "t",
          "t",
          "f",
          "t",
          "t",
          "t",
          "t",
          "f",
          "f",
          "f",
          "f",
          "f",
          "f",
          "t",
          "f",
          "f",
          "f",
          "f",
          "f",
          "f",
          "f",
          "f",
          "f",
          "f",
          "f",
          "f",
          "t",
          "f",
          "t",
          "t",
          "t",
          "t",
          "t",
          "f",
          "f",
          "f",
          "f",
          "f",
          "f",
          "f",
          "f",
          "f",
          "f",
          "f",
          "f",
          "t",
          "t",
          "t",
          "t",
          "f",
          "t",
          "f",
          "f",
          "f",
          "f",
          "t",
          "t",
          "t",
          "f",
          "f",
          "f",
          "f",
          "t",
          "t",
          "t",
          "t",
          "t",
          "t",
          "t",
          "t",
          "t",
          "t",
          "t",
          "t",
          "t",
          "t",
          "f",
          "f",
          "f",
          "f",
          "f",
          "t",
          "t",
          "t",
          "t",
          "t",
          "t",
          "t",
          "t",
          "f",
          "f",
          "f",
          "f",
          "t",
          "t",
          "f",
          "f",
          "f",
          "f",
          "f",
          "f",
          "f",
          "f",
          "f",
          "f",
          "f",
          "f",
          "f",
          "f",
          "t",
          "f",
          "t",
          "t",
          "t",
          "f",
          "t",
          "t",
          "t",
          "t",
          "t",
          "t",
          "t",
          "t",
          "f",
          "t",
          "t",
          "f",
          "f",
          "f",
          "f",
          "f",
          "t",
          "f",
          "t",
          "t",
          "t",
          "t",
          "t",
          "t",
          "t",
          "t",
          "t",
          "t",
          "t",
          "t",
          "t",
          "t",
          "f",
          "f",
          "f",
          "f",
          "t",
          "t",
          "t",
          "t",
          "t",
          "t",
          "f",
          "f",
          "f",
          "f",
          "t",
          "t",
          "t",
          "t",
          "t",
          "f",
          "f",
          "f",
          "f",
          "f",
          "f",
          "f",
          "f",
          "f",
          "f",
          "t",
          "t",
          "t",
          "f",
          "t",
          "t",
          "t",
          "t",
          "f",
          "f",
          "f",
          "f",
          "f",
          "f",
          "f",
          "f",
          "f",
          "f",
          "f",
          "f",
          "t",
          "f",
          "f",
          "t",
          "t",
          "f",
          "f",
          "f",
          "f",
          "f",
          "f",
          "f",
          "f",
          "f",
          "f",
          "f",
          "f",
          "f",
          "t",
          "f",
          "t",
          "f",
          "f",
          "t",
          "f",
          "t",
          "f",
          "f",
          "t",
          "f",
          "f",
          "f",
          "f",
          "f",
          "f",
          "f",
          "t",
          "f",
          "f",
          "f",
          "f",
          "f",
          "f",
          "f",
          "f",
          "t",
          "t",
          "f",
          "f",
          "f",
          "f",
          "f",
          "f",
          "f",
          "f",
          "t",
          "t",
          "f",
          "f"
         ],
         "xaxis": "x",
         "yaxis": "y"
        },
        {
         "alignmentgroup": "True",
         "bingroup": "x",
         "hovertemplate": "variable=A9<br>value=%{x}<br>count=%{y}<extra></extra>",
         "legendgroup": "A9",
         "marker": {
          "color": "#636efa",
          "pattern": {
           "shape": ""
          }
         },
         "name": "A9",
         "offsetgroup": "A9",
         "orientation": "v",
         "showlegend": true,
         "type": "histogram",
         "visible": false,
         "x": [
          "t",
          "t",
          "t",
          "t",
          "t",
          "t",
          "t",
          "t",
          "t",
          "t",
          "f",
          "t",
          "t",
          "f",
          "t",
          "t",
          "t",
          "t",
          "t",
          "t",
          "t",
          "t",
          "t",
          "t",
          "t",
          "t",
          "t",
          "t",
          "t",
          "t",
          "t",
          "t",
          "t",
          "t",
          "t",
          "t",
          "t",
          "t",
          "t",
          "t",
          "t",
          "t",
          "t",
          "t",
          "t",
          "t",
          "t",
          "t",
          "f",
          "f",
          "t",
          "t",
          "t",
          "t",
          "t",
          "t",
          "t",
          "t",
          "f",
          "t",
          "t",
          "t",
          "t",
          "t",
          "t",
          "t",
          "t",
          "t",
          "t",
          "t",
          "t",
          "t",
          "t",
          "t",
          "f",
          "t",
          "t",
          "t",
          "t",
          "t",
          "t",
          "t",
          "t",
          "t",
          "t",
          "t",
          "t",
          "t",
          "t",
          "t",
          "t",
          "t",
          "t",
          "t",
          "t",
          "t",
          "t",
          "t",
          "t",
          "t",
          "t",
          "t",
          "t",
          "t",
          "t",
          "t",
          "t",
          "t",
          "t",
          "t",
          "t",
          "t",
          "t",
          "t",
          "t",
          "t",
          "t",
          "t",
          "t",
          "t",
          "t",
          "t",
          "t",
          "t",
          "t",
          "t",
          "t",
          "t",
          "t",
          "t",
          "t",
          "t",
          "t",
          "t",
          "t",
          "t",
          "t",
          "t",
          "t",
          "t",
          "t",
          "t",
          "t",
          "t",
          "t",
          "t",
          "t",
          "t",
          "t",
          "t",
          "t",
          "t",
          "t",
          "t",
          "t",
          "t",
          "t",
          "t",
          "t",
          "t",
          "t",
          "t",
          "t",
          "t",
          "t",
          "t",
          "t",
          "t",
          "t",
          "f",
          "t",
          "t",
          "t",
          "t",
          "t",
          "t",
          "t",
          "t",
          "t",
          "t",
          "t",
          "t",
          "t",
          "t",
          "t",
          "t",
          "t",
          "t",
          "t",
          "t",
          "t",
          "t",
          "t",
          "t",
          "t",
          "t",
          "t",
          "t",
          "t",
          "t",
          "t",
          "t",
          "t",
          "t",
          "t",
          "t",
          "f",
          "t",
          "t",
          "t",
          "t",
          "t",
          "t",
          "t",
          "t",
          "t",
          "t",
          "t",
          "t",
          "t",
          "t",
          "t",
          "t",
          "t",
          "t",
          "t",
          "t",
          "f",
          "t",
          "t",
          "t",
          "t",
          "t",
          "t",
          "t",
          "t",
          "t",
          "t",
          "t",
          "t",
          "t",
          "t",
          "t",
          "t",
          "t",
          "t",
          "t",
          "t",
          "t",
          "t",
          "t",
          "t",
          "t",
          "t",
          "f",
          "f",
          "f",
          "f",
          "f",
          "f",
          "f",
          "f",
          "f",
          "f",
          "f",
          "f",
          "f",
          "f",
          "t",
          "f",
          "f",
          "f",
          "f",
          "f",
          "f",
          "f",
          "f",
          "f",
          "f",
          "t",
          "f",
          "f",
          "f",
          "f",
          "f",
          "f",
          "f",
          "f",
          "f",
          "f",
          "f",
          "f",
          "f",
          "f",
          "f",
          "f",
          "f",
          "f",
          "f",
          "f",
          "f",
          "f",
          "f",
          "f",
          "f",
          "t",
          "f",
          "f",
          "f",
          "f",
          "f",
          "f",
          "f",
          "f",
          "f",
          "t",
          "f",
          "f",
          "f",
          "f",
          "f",
          "f",
          "f",
          "t",
          "f",
          "f",
          "f",
          "f",
          "f",
          "f",
          "f",
          "f",
          "f",
          "f",
          "f",
          "f",
          "f",
          "f",
          "f",
          "f",
          "f",
          "f",
          "f",
          "f",
          "f",
          "f",
          "f",
          "f",
          "t",
          "f",
          "f",
          "f",
          "f",
          "f",
          "f",
          "f",
          "f",
          "f",
          "f",
          "f",
          "f",
          "f",
          "f",
          "f",
          "f",
          "f",
          "f",
          "f",
          "f",
          "f",
          "f",
          "f",
          "f",
          "f",
          "f",
          "f",
          "f",
          "f",
          "f",
          "f",
          "f",
          "f",
          "f",
          "f",
          "f",
          "f",
          "f",
          "f",
          "f",
          "f",
          "f",
          "f",
          "f",
          "f",
          "f",
          "f",
          "f",
          "f",
          "f",
          "f",
          "f",
          "f",
          "f",
          "f",
          "f",
          "f",
          "f",
          "f",
          "f",
          "f",
          "f",
          "f",
          "f",
          "f",
          "f",
          "f",
          "f",
          "f",
          "f",
          "f",
          "f",
          "f",
          "f",
          "f",
          "f",
          "f",
          "f",
          "f",
          "f",
          "f",
          "f",
          "f",
          "f",
          "f",
          "f",
          "f",
          "f",
          "f",
          "f",
          "f",
          "f",
          "f",
          "f",
          "f",
          "f",
          "f",
          "f",
          "f",
          "f",
          "f",
          "f",
          "f",
          "f",
          "f",
          "f",
          "f",
          "f",
          "f",
          "f",
          "f",
          "f",
          "f",
          "f",
          "f",
          "f",
          "f",
          "f",
          "f",
          "f",
          "f",
          "f",
          "f",
          "f",
          "f",
          "f",
          "f",
          "f",
          "f",
          "f",
          "f",
          "f",
          "f",
          "f",
          "f",
          "f",
          "f",
          "f",
          "f",
          "f",
          "f",
          "t",
          "t",
          "t",
          "t",
          "t",
          "t",
          "t",
          "t",
          "t",
          "t",
          "t",
          "t",
          "t",
          "t",
          "t",
          "t",
          "t",
          "t",
          "t",
          "t",
          "t",
          "t",
          "t",
          "t",
          "t",
          "t",
          "t",
          "t",
          "t",
          "t",
          "t",
          "t",
          "t",
          "t",
          "t",
          "t",
          "t",
          "t",
          "t",
          "t",
          "t",
          "t",
          "t",
          "t",
          "t",
          "t",
          "t",
          "t",
          "t",
          "t",
          "t",
          "t",
          "t",
          "t",
          "t",
          "t",
          "t",
          "t",
          "t",
          "t",
          "t",
          "t",
          "t",
          "t",
          "t",
          "t",
          "t",
          "t",
          "t",
          "t",
          "t",
          "t",
          "t",
          "t",
          "t",
          "t",
          "t",
          "t",
          "t",
          "t",
          "t",
          "t",
          "t",
          "t",
          "t",
          "t",
          "t",
          "t",
          "t",
          "t",
          "t",
          "f",
          "t",
          "t",
          "t",
          "t",
          "t",
          "t",
          "t",
          "t",
          "t",
          "t",
          "f",
          "f",
          "t",
          "t",
          "t",
          "t",
          "f",
          "t",
          "t",
          "f",
          "f",
          "f",
          "t",
          "f",
          "f",
          "f",
          "f",
          "f",
          "f",
          "f",
          "f",
          "f",
          "f",
          "f",
          "f",
          "f",
          "f",
          "t",
          "f",
          "f",
          "f",
          "f",
          "f",
          "f",
          "f",
          "f",
          "f",
          "f",
          "f",
          "f",
          "f",
          "f",
          "f",
          "f",
          "f",
          "f",
          "f",
          "f",
          "f",
          "f",
          "f",
          "f",
          "f",
          "f",
          "f",
          "f",
          "f",
          "f",
          "f",
          "f",
          "f",
          "t",
          "f",
          "f",
          "f",
          "f",
          "f",
          "f",
          "f",
          "f",
          "f",
          "f",
          "f",
          "f",
          "f",
          "f",
          "f",
          "f",
          "f",
          "f",
          "f",
          "f",
          "f",
          "f",
          "f",
          "f",
          "f",
          "f",
          "f",
          "f",
          "f",
          "f",
          "f",
          "f",
          "f",
          "f",
          "f",
          "f"
         ],
         "xaxis": "x",
         "yaxis": "y"
        },
        {
         "alignmentgroup": "True",
         "bingroup": "x",
         "hovertemplate": "variable=A7<br>value=%{x}<br>count=%{y}<extra></extra>",
         "legendgroup": "A7",
         "marker": {
          "color": "#636efa",
          "pattern": {
           "shape": ""
          }
         },
         "name": "A7",
         "offsetgroup": "A7",
         "orientation": "v",
         "showlegend": true,
         "type": "histogram",
         "visible": false,
         "x": [
          "v",
          "h",
          "h",
          "v",
          "v",
          "v",
          "h",
          "v",
          "h",
          "v",
          "h",
          "h",
          "v",
          "v",
          "v",
          "v",
          "v",
          "v",
          "h",
          "h",
          "v",
          "v",
          "v",
          "h",
          "v",
          "h",
          "bb",
          "bb",
          "h",
          "v",
          "v",
          "h",
          "bb",
          "v",
          "v",
          "v",
          "h",
          "h",
          "v",
          "ff",
          "v",
          "h",
          "h",
          "v",
          "v",
          "h",
          "h",
          "h",
          "bb",
          "v",
          "h",
          "v",
          "v",
          "v",
          "h",
          "v",
          "v",
          "h",
          "h",
          "h",
          "v",
          "v",
          "v",
          "v",
          "v",
          "v",
          "v",
          "v",
          "h",
          "h",
          "bb",
          "bb",
          "v",
          "v",
          "v",
          "v",
          "v",
          "v",
          "v",
          "v",
          "ff",
          "v",
          "v",
          "v",
          "v",
          "bb",
          "v",
          "v",
          "v",
          "j",
          "h",
          "v",
          "v",
          "h",
          "v",
          "bb",
          "v",
          "bb",
          "v",
          "v",
          "bb",
          "v",
          "v",
          "v",
          "h",
          "z",
          "v",
          "v",
          "h",
          "v",
          "v",
          "ff",
          "v",
          "bb",
          "h",
          "v",
          "h",
          "v",
          "v",
          "h",
          "v",
          "v",
          "v",
          "v",
          "v",
          "h",
          "bb",
          "v",
          "bb",
          "v",
          "z",
          "v",
          "bb",
          "bb",
          "h",
          "h",
          "v",
          "v",
          "v",
          "h",
          "h",
          "ff",
          "h",
          "v",
          "h",
          "h",
          "v",
          "h",
          "bb",
          "v",
          "h",
          "v",
          "h",
          "v",
          "h",
          "j",
          "h",
          "z",
          "h",
          "bb",
          "h",
          "v",
          "v",
          "h",
          "v",
          "h",
          "v",
          "v",
          "h",
          "v",
          "v",
          "bb",
          "h",
          "h",
          "h",
          "v",
          "v",
          "v",
          "v",
          "v",
          "bb",
          "bb",
          "v",
          "v",
          "v",
          "h",
          "bb",
          "v",
          "v",
          "h",
          "v",
          "h",
          "v",
          "v",
          "bb",
          "bb",
          "v",
          "h",
          "v",
          "v",
          "h",
          "bb",
          "v",
          "v",
          "v",
          "h",
          "v",
          "h",
          "v",
          "bb",
          "h",
          "v",
          "ff",
          "v",
          "v",
          "v",
          "h",
          "ff",
          "v",
          "v",
          "v",
          "z",
          "v",
          "v",
          "v",
          "bb",
          "v",
          "v",
          "v",
          "v",
          "v",
          "v",
          "h",
          "v",
          "bb",
          "v",
          "bb",
          "v",
          "v",
          "v",
          "v",
          "v",
          "v",
          "v",
          "v",
          "h",
          "h",
          "h",
          "bb",
          "v",
          "z",
          "h",
          "h",
          "h",
          "v",
          "h",
          "v",
          "v",
          "v",
          "v",
          "h",
          "ff",
          "o",
          "h",
          "ff",
          "v",
          "dd",
          "v",
          "v",
          "n",
          "v",
          "v",
          "v",
          "v",
          "h",
          "v",
          "h",
          "h",
          "ff",
          "v",
          "h",
          "h",
          "v",
          "v",
          "v",
          "h",
          "ff",
          "v",
          "v",
          "j",
          "v",
          "v",
          "v",
          "v",
          "ff",
          "ff",
          "ff",
          "v",
          "v",
          "v",
          "ff",
          "v",
          "v",
          "v",
          "h",
          "ff",
          "ff",
          "ff",
          "h",
          "j",
          "v",
          "v",
          "v",
          "v",
          "v",
          "v",
          "h",
          "o",
          "bb",
          "v",
          "v",
          "ff",
          "v",
          "v",
          "v",
          "v",
          "v",
          "bb",
          "v",
          "v",
          "v",
          "v",
          "v",
          "v",
          "bb",
          "h",
          "v",
          "h",
          "v",
          "v",
          "v",
          "v",
          "bb",
          "bb",
          "v",
          "z",
          "v",
          "bb",
          "v",
          "v",
          "j",
          "ff",
          "v",
          "v",
          "v",
          "v",
          "v",
          "v",
          "v",
          "ff",
          "v",
          "ff",
          "ff",
          "v",
          "dd",
          "v",
          "v",
          "v",
          "h",
          "n",
          "v",
          "dd",
          "h",
          "v",
          "v",
          "dd",
          "v",
          "v",
          "bb",
          "bb",
          "bb",
          "v",
          "bb",
          "ff",
          "v",
          "v",
          "v",
          "v",
          "bb",
          "v",
          "v",
          "bb",
          "bb",
          "v",
          "v",
          "v",
          "h",
          "ff",
          "h",
          "v",
          "v",
          "v",
          "bb",
          "v",
          "bb",
          "ff",
          "v",
          "v",
          "v",
          "v",
          "ff",
          "v",
          "v",
          "bb",
          "v",
          "ff",
          "v",
          "v",
          "v",
          "ff",
          "v",
          "v",
          "v",
          "v",
          "v",
          "v",
          "v",
          "v",
          "ff",
          "v",
          "ff",
          "v",
          "v",
          "v",
          "v",
          "ff",
          "ff",
          "ff",
          "ff",
          "v",
          "v",
          "ff",
          "v",
          "v",
          "ff",
          "ff",
          "v",
          "ff",
          "ff",
          "v",
          "bb",
          "v",
          "v",
          "v",
          "v",
          "v",
          "v",
          "v",
          "bb",
          "v",
          "v",
          "v",
          "v",
          "ff",
          "j",
          "v",
          "v",
          "h",
          "v",
          "h",
          "h",
          "h",
          "v",
          "v",
          "v",
          "v",
          "h",
          "h",
          "v",
          "v",
          "v",
          "v",
          "v",
          "v",
          "v",
          "ff",
          "v",
          "v",
          "ff",
          "v",
          "h",
          "v",
          "v",
          "h",
          "h",
          "v",
          "h",
          "v",
          "v",
          "v",
          "v",
          "v",
          "ff",
          "v",
          "v",
          "v",
          "v",
          "h",
          "v",
          "v",
          "v",
          "j",
          "v",
          "dd",
          "h",
          "v",
          "v",
          "v",
          "v",
          "v",
          "v",
          "dd",
          "v",
          "v",
          "v",
          "v",
          "v",
          "bb",
          "h",
          "h",
          "h",
          "h",
          "bb",
          "ff",
          "v",
          "ff",
          "ff",
          "h",
          "bb",
          "v",
          "v",
          "bb",
          "h",
          "v",
          "bb",
          "v",
          "v",
          "h",
          "v",
          "v",
          "z",
          "bb",
          "n",
          "v",
          "h",
          "h",
          "v",
          "v",
          "h",
          "h",
          "h",
          "h",
          "h",
          "h",
          "h",
          "v",
          "h",
          "h",
          "v",
          "v",
          "v",
          "v",
          "v",
          "ff",
          "h",
          "h",
          "v",
          "v",
          "v",
          "v",
          "v",
          "v",
          "v",
          "h",
          "z",
          "ff",
          "h",
          "v",
          "v",
          "v",
          "v",
          "h",
          "v",
          "v",
          "v",
          "bb",
          "v",
          "v",
          "v",
          "v",
          "v",
          "v",
          "v",
          "v",
          "h",
          "v",
          "v",
          "v",
          "v",
          "bb",
          "v",
          "h",
          "v",
          "bb",
          "v",
          "h",
          "v",
          "ff",
          "v",
          "v",
          "v",
          "j",
          "v",
          "v",
          "v",
          "v",
          "bb",
          "ff",
          "h",
          "v",
          "v",
          "h",
          "ff",
          "ff",
          "v",
          "n",
          "v",
          "v",
          "v",
          "v",
          "bb",
          "v",
          "v",
          "h",
          "v",
          "v",
          "v",
          "v",
          "h",
          "ff",
          "bb",
          "v",
          "v",
          "v",
          "v",
          "ff",
          "h",
          "v",
          "v",
          "v",
          "v",
          "v",
          "v",
          "v",
          "v",
          "v",
          "v",
          "v",
          "h",
          "ff",
          "v",
          "v",
          "v",
          "h",
          "h",
          "v",
          "h",
          "v",
          "ff",
          "v",
          "v",
          "h",
          "v",
          "v",
          "v",
          "h",
          "v",
          "ff",
          "v",
          "h"
         ],
         "xaxis": "x",
         "yaxis": "y"
        },
        {
         "alignmentgroup": "True",
         "bingroup": "x",
         "hovertemplate": "variable=A6<br>value=%{x}<br>count=%{y}<extra></extra>",
         "legendgroup": "A6",
         "marker": {
          "color": "#636efa",
          "pattern": {
           "shape": ""
          }
         },
         "name": "A6",
         "offsetgroup": "A6",
         "orientation": "v",
         "showlegend": true,
         "type": "histogram",
         "visible": false,
         "x": [
          "w",
          "q",
          "q",
          "w",
          "w",
          "m",
          "r",
          "cc",
          "k",
          "w",
          "c",
          "c",
          "k",
          "k",
          "q",
          "k",
          "m",
          "q",
          "d",
          "cc",
          "c",
          "c",
          "c",
          "x",
          "q",
          "c",
          "i",
          "d",
          "e",
          "w",
          "aa",
          "x",
          "i",
          "e",
          "q",
          "w",
          "cc",
          "x",
          "cc",
          "ff",
          "c",
          "c",
          "w",
          "w",
          "c",
          "c",
          "q",
          "cc",
          "i",
          "c",
          "c",
          "q",
          "w",
          "w",
          "cc",
          "w",
          "cc",
          "i",
          "x",
          "q",
          "m",
          "d",
          "q",
          "q",
          "cc",
          "cc",
          "c",
          "m",
          "w",
          "x",
          "e",
          "d",
          "cc",
          "m",
          "c",
          "q",
          "aa",
          "aa",
          "k",
          "c",
          "ff",
          "m",
          "m",
          "d",
          "aa",
          "c",
          "d",
          "aa",
          "aa",
          "j",
          "c",
          "c",
          "aa",
          "c",
          "c",
          "i",
          "aa",
          "c",
          "q",
          "q",
          "c",
          "c",
          "q",
          "k",
          "i",
          "e",
          "k",
          "aa",
          "x",
          "c",
          "w",
          "ff",
          "w",
          "k",
          "c",
          "q",
          "q",
          "k",
          "m",
          "cc",
          "q",
          "cc",
          "aa",
          "q",
          "q",
          "x",
          "m",
          "q",
          "i",
          "w",
          "e",
          "c",
          "e",
          "c",
          "q",
          "q",
          "aa",
          "m",
          "w",
          "q",
          "cc",
          "j",
          "cc",
          "w",
          "cc",
          "cc",
          "q",
          "q",
          "c",
          "c",
          "cc",
          "q",
          "m",
          "c",
          "cc",
          "j",
          "x",
          "e",
          "k",
          "m",
          "x",
          "m",
          "x",
          "e",
          "q",
          "q",
          "q",
          "cc",
          "q",
          "d",
          "aa",
          "c",
          "k",
          "k",
          "q",
          "w",
          "aa",
          "aa",
          "q",
          "aa",
          "c",
          "i",
          "q",
          "c",
          "q",
          "c",
          "aa",
          "c",
          "c",
          "q",
          "c",
          "i",
          "x",
          "w",
          "i",
          "c",
          "x",
          "w",
          "aa",
          "x",
          "q",
          "i",
          "c",
          "q",
          "w",
          "q",
          "c",
          "q",
          "k",
          "c",
          "cc",
          "d",
          "ff",
          "i",
          "cc",
          "aa",
          "cc",
          "ff",
          "e",
          "c",
          "aa",
          "e",
          "aa",
          "aa",
          "q",
          "c",
          "k",
          "x",
          "q",
          "cc",
          "cc",
          "x",
          "x",
          "w",
          "i",
          "q",
          "i",
          "aa",
          "q",
          "x",
          "c",
          "w",
          "w",
          "q",
          "i",
          "c",
          "cc",
          "q",
          "c",
          "x",
          "e",
          "q",
          "x",
          "x",
          "k",
          "c",
          "c",
          "d",
          "i",
          "c",
          "d",
          "ff",
          "i",
          "x",
          "ff",
          "c",
          "e",
          "d",
          "q",
          "q",
          "c",
          "c",
          "m",
          "k",
          "cc",
          "d",
          "i",
          "q",
          "ff",
          "m",
          "c",
          "cc",
          "c",
          "q",
          "c",
          "w",
          "ff",
          "w",
          "c",
          "j",
          "m",
          "w",
          "w",
          "w",
          "ff",
          "ff",
          "ff",
          "aa",
          "aa",
          "c",
          "ff",
          "d",
          "c",
          "q",
          "q",
          "ff",
          "ff",
          "ff",
          "k",
          "j",
          "w",
          "c",
          "aa",
          "d",
          "aa",
          "m",
          "c",
          "ff",
          "m",
          "c",
          "w",
          "cc",
          "cc",
          "k",
          "w",
          "x",
          "c",
          "i",
          "w",
          "i",
          "c",
          "c",
          "c",
          "d",
          "cc",
          "q",
          "c",
          "i",
          "aa",
          "w",
          "c",
          "aa",
          "i",
          "i",
          "k",
          "e",
          "c",
          "c",
          "c",
          "w",
          "j",
          "ff",
          "m",
          "d",
          "i",
          "aa",
          "d",
          "q",
          "d",
          "ff",
          "k",
          "ff",
          "k",
          "k",
          "e",
          "m",
          "aa",
          "m",
          "k",
          "r",
          "w",
          "e",
          "k",
          "w",
          "aa",
          "e",
          "d",
          "c",
          "i",
          "i",
          "i",
          "c",
          "i",
          "ff",
          "k",
          "c",
          "aa",
          "c",
          "i",
          "m",
          "e",
          "i",
          "aa",
          "m",
          "w",
          "d",
          "x",
          "ff",
          "k",
          "c",
          "j",
          "c",
          "i",
          "q",
          "i",
          "ff",
          "k",
          "c",
          "w",
          "q",
          "ff",
          "c",
          "i",
          "i",
          "k",
          "ff",
          "k",
          "c",
          "c",
          "ff",
          "i",
          "q",
          "w",
          "cc",
          "c",
          "c",
          "w",
          "e",
          "ff",
          "cc",
          "ff",
          "c",
          "k",
          "aa",
          "c",
          "ff",
          "ff",
          "ff",
          "ff",
          "k",
          "k",
          "ff",
          "m",
          "k",
          "j",
          "ff",
          "c",
          "ff",
          "ff",
          "c",
          "i",
          "c",
          "q",
          "w",
          "d",
          "w",
          "c",
          "c",
          "i",
          "c",
          "c",
          "m",
          "c",
          "ff",
          "j",
          "m",
          "c",
          "w",
          "k",
          "i",
          "k",
          "i",
          "i",
          "i",
          "c",
          "d",
          "i",
          "i",
          "i",
          "c",
          "i",
          "k",
          "aa",
          "c",
          "m",
          "ff",
          "k",
          "aa",
          "ff",
          "q",
          "q",
          "q",
          "m",
          "c",
          "c",
          "w",
          "x",
          "c",
          "c",
          "c",
          "x",
          "cc",
          "ff",
          "x",
          "c",
          "c",
          "aa",
          "q",
          "c",
          "w",
          "w",
          "j",
          "c",
          "e",
          "c",
          "x",
          "aa",
          "c",
          "q",
          "x",
          "k",
          "e",
          "m",
          "q",
          "q",
          "c",
          "k",
          "i",
          "k",
          "q",
          "c",
          "aa",
          "i",
          "ff",
          "aa",
          "ff",
          "ff",
          "x",
          "w",
          "c",
          "cc",
          "i",
          "k",
          "w",
          "i",
          "d",
          "w",
          "d",
          "x",
          "m",
          "e",
          "i",
          "r",
          "w",
          "x",
          "c",
          "w",
          "w",
          "x",
          "q",
          "cc",
          "x",
          "c",
          "q",
          "q",
          "aa",
          "w",
          "x",
          "c",
          "aa",
          "w",
          "d",
          "x",
          "ff",
          "c",
          "c",
          "c",
          "c",
          "c",
          "m",
          "x",
          "e",
          "m",
          "w",
          "e",
          "ff",
          "x",
          "c",
          "c",
          "c",
          "cc",
          "c",
          "c",
          "w",
          "k",
          "c",
          "c",
          "aa",
          "q",
          "c",
          "k",
          "c",
          "k",
          "q",
          "c",
          "k",
          "c",
          "k",
          "d",
          "x",
          "k",
          "q",
          "w",
          "c",
          "c",
          "c",
          "i",
          "ff",
          "m",
          "aa",
          "i",
          "c",
          "c",
          "q",
          "cc",
          "c",
          "i",
          "ff",
          "d",
          "w",
          "q",
          "m",
          "ff",
          "k",
          "w",
          "c",
          "m",
          "aa",
          "aa",
          "k",
          "i",
          "cc",
          "aa",
          "aa",
          "w",
          "cc",
          "c",
          "aa",
          "k",
          "ff",
          "i",
          "q",
          "i",
          "i",
          "q",
          "ff",
          "c",
          "aa",
          "c",
          "c",
          "aa",
          "c",
          "w",
          "cc",
          "w",
          "m",
          "c",
          "c",
          "d",
          "ff",
          "w",
          "cc",
          "aa",
          "e",
          "i",
          "aa",
          "q",
          "m",
          "ff",
          "c",
          "k",
          "d",
          "i",
          "d",
          "m",
          "e",
          "c",
          "ff",
          "aa",
          "c"
         ],
         "xaxis": "x",
         "yaxis": "y"
        },
        {
         "alignmentgroup": "True",
         "bingroup": "x",
         "hovertemplate": "variable=A5<br>value=%{x}<br>count=%{y}<extra></extra>",
         "legendgroup": "A5",
         "marker": {
          "color": "#636efa",
          "pattern": {
           "shape": ""
          }
         },
         "name": "A5",
         "offsetgroup": "A5",
         "orientation": "v",
         "showlegend": true,
         "type": "histogram",
         "visible": false,
         "x": [
          "g",
          "g",
          "g",
          "g",
          "g",
          "g",
          "g",
          "g",
          "p",
          "p",
          "g",
          "g",
          "g",
          "g",
          "g",
          "p",
          "g",
          "g",
          "g",
          "g",
          "g",
          "g",
          "g",
          "g",
          "g",
          "g",
          "g",
          "g",
          "g",
          "g",
          "g",
          "g",
          "g",
          "g",
          "g",
          "g",
          "g",
          "g",
          "p",
          "g",
          "g",
          "g",
          "g",
          "g",
          "p",
          "g",
          "p",
          "g",
          "g",
          "g",
          "g",
          "g",
          "g",
          "g",
          "g",
          "p",
          "g",
          "g",
          "g",
          "g",
          "g",
          "g",
          "p",
          "g",
          "g",
          "g",
          "g",
          "g",
          "g",
          "g",
          "g",
          "g",
          "g",
          "g",
          "p",
          "g",
          "g",
          "p",
          "p",
          "g",
          "g",
          "g",
          "g",
          "g",
          "g",
          "g",
          "g",
          "p",
          "g",
          "g",
          "p",
          "g",
          "p",
          "p",
          "p",
          "g",
          "p",
          "g",
          "p",
          "g",
          "p",
          "p",
          "g",
          "g",
          "p",
          "g",
          "g",
          "p",
          "p",
          "g",
          "g",
          "p",
          "g",
          "g",
          "p",
          "g",
          "g",
          "g",
          "g",
          "g",
          "g",
          "g",
          "g",
          "g",
          "g",
          "g",
          "g",
          "g",
          "g",
          "g",
          "g",
          "g",
          "g",
          "g",
          "g",
          "g",
          "p",
          "g",
          "g",
          "g",
          "g",
          "g",
          "p",
          "g",
          "g",
          "g",
          "g",
          "p",
          "g",
          "g",
          "g",
          "g",
          "g",
          "g",
          "g",
          "p",
          "p",
          "g",
          "g",
          "p",
          "g",
          "g",
          "g",
          "p",
          "g",
          "g",
          "g",
          "g",
          "g",
          "p",
          "p",
          "g",
          "g",
          "g",
          "g",
          "p",
          "g",
          "g",
          "g",
          "g",
          "g",
          "g",
          "g",
          "g",
          "g",
          "g",
          "g",
          "g",
          "g",
          "g",
          "g",
          "g",
          "g",
          "p",
          "p",
          "p",
          "p",
          "g",
          "p",
          "g",
          "g",
          "g",
          "g",
          "g",
          "p",
          "g",
          "g",
          "g",
          "g",
          "g",
          "g",
          "p",
          "g",
          "g",
          "p",
          "g",
          "g",
          "g",
          "g",
          "p",
          "g",
          "g",
          "g",
          "g",
          "g",
          "g",
          "g",
          "p",
          "g",
          "g",
          "g",
          "g",
          "g",
          "g",
          "g",
          "g",
          "g",
          "g",
          "g",
          "g",
          "p",
          "g",
          "g",
          "g",
          "g",
          "p",
          "g",
          "g",
          "g",
          "g",
          "g",
          "g",
          "g",
          "g",
          "g",
          "g",
          "g",
          "g",
          "g",
          "p",
          "g",
          "p",
          "g",
          "p",
          "g",
          "p",
          "p",
          "g",
          "g",
          "g",
          "g",
          "g",
          "p",
          "p",
          "g",
          "g",
          "g",
          "p",
          "p",
          "g",
          "p",
          "p",
          "g",
          "g",
          "g",
          "g",
          "g",
          "g",
          "p",
          "p",
          "g",
          "g",
          "g",
          "g",
          "g",
          "g",
          "g",
          "g",
          "g",
          "g",
          "g",
          "g",
          "g",
          "g",
          "g",
          "p",
          "g",
          "g",
          "g",
          "p",
          "g",
          "p",
          "g",
          "g",
          "p",
          "g",
          "p",
          "gg",
          "p",
          "p",
          "g",
          "gg",
          "g",
          "p",
          "g",
          "p",
          "p",
          "g",
          "p",
          "p",
          "g",
          "p",
          "g",
          "g",
          "g",
          "g",
          "g",
          "p",
          "p",
          "g",
          "g",
          "g",
          "g",
          "g",
          "g",
          "g",
          "g",
          "p",
          "g",
          "g",
          "g",
          "p",
          "p",
          "g",
          "g",
          "g",
          "g",
          "g",
          "g",
          "g",
          "g",
          "g",
          "g",
          "p",
          "g",
          "g",
          "g",
          "p",
          "p",
          "p",
          "p",
          "g",
          "g",
          "g",
          "g",
          "p",
          "g",
          "p",
          "g",
          "g",
          "g",
          "g",
          "p",
          "p",
          "g",
          "p",
          "p",
          "g",
          "g",
          "g",
          "g",
          "g",
          "g",
          "g",
          "p",
          "g",
          "p",
          "p",
          "p",
          "g",
          "p",
          "g",
          "g",
          "g",
          "p",
          "g",
          "p",
          "p",
          "g",
          "g",
          "g",
          "g",
          "g",
          "g",
          "g",
          "p",
          "p",
          "g",
          "g",
          "p",
          "g",
          "g",
          "g",
          "g",
          "g",
          "g",
          "g",
          "g",
          "g",
          "p",
          "p",
          "p",
          "g",
          "g",
          "g",
          "p",
          "g",
          "g",
          "g",
          "g",
          "g",
          "g",
          "p",
          "g",
          "p",
          "g",
          "g",
          "g",
          "g",
          "g",
          "p",
          "g",
          "g",
          "g",
          "g",
          "g",
          "g",
          "p",
          "g",
          "p",
          "p",
          "g",
          "g",
          "g",
          "g",
          "g",
          "g",
          "g",
          "g",
          "g",
          "g",
          "p",
          "g",
          "p",
          "g",
          "g",
          "g",
          "p",
          "g",
          "p",
          "g",
          "p",
          "g",
          "p",
          "g",
          "p",
          "p",
          "p",
          "p",
          "g",
          "g",
          "g",
          "g",
          "g",
          "p",
          "g",
          "g",
          "g",
          "g",
          "g",
          "g",
          "g",
          "g",
          "g",
          "g",
          "g",
          "g",
          "g",
          "g",
          "p",
          "p",
          "g",
          "g",
          "g",
          "p",
          "g",
          "g",
          "g",
          "g",
          "g",
          "g",
          "g",
          "g",
          "g",
          "g",
          "g",
          "g",
          "g",
          "g",
          "g",
          "g",
          "g",
          "g",
          "g",
          "g",
          "p",
          "g",
          "g",
          "g",
          "g",
          "p",
          "g",
          "p",
          "g",
          "p",
          "p",
          "p",
          "g",
          "g",
          "g",
          "g",
          "g",
          "g",
          "g",
          "p",
          "g",
          "g",
          "g",
          "g",
          "g",
          "g",
          "g",
          "g",
          "g",
          "g",
          "g",
          "g",
          "g",
          "p",
          "g",
          "g",
          "p",
          "p",
          "g",
          "g",
          "p",
          "g",
          "g",
          "g",
          "g",
          "g",
          "g",
          "g",
          "p",
          "p",
          "g",
          "g",
          "g",
          "p",
          "g",
          "g",
          "g",
          "g",
          "g",
          "g",
          "g",
          "g",
          "g",
          "g",
          "g",
          "g",
          "p",
          "p",
          "g",
          "g",
          "p",
          "g",
          "g",
          "p",
          "g",
          "p",
          "p",
          "g",
          "g",
          "g",
          "g",
          "g",
          "p",
          "g",
          "p",
          "g",
          "g",
          "g",
          "g",
          "p",
          "g",
          "p",
          "g",
          "g",
          "g",
          "g",
          "g",
          "g",
          "p",
          "g",
          "g",
          "p",
          "g",
          "g",
          "g",
          "g",
          "p",
          "p",
          "g",
          "p",
          "g",
          "g",
          "g",
          "g",
          "g",
          "g",
          "g",
          "g",
          "g",
          "g",
          "p",
          "g",
          "g",
          "g",
          "g",
          "g",
          "g",
          "g",
          "p",
          "p",
          "p",
          "g",
          "g",
          "g",
          "p",
          "g",
          "g",
          "g",
          "p",
          "g",
          "g",
          "g",
          "g",
          "g",
          "g",
          "g",
          "p",
          "g",
          "p",
          "g",
          "p",
          "g",
          "p",
          "g",
          "g"
         ],
         "xaxis": "x",
         "yaxis": "y"
        },
        {
         "alignmentgroup": "True",
         "bingroup": "x",
         "hovertemplate": "variable=A4<br>value=%{x}<br>count=%{y}<extra></extra>",
         "legendgroup": "A4",
         "marker": {
          "color": "#636efa",
          "pattern": {
           "shape": ""
          }
         },
         "name": "A4",
         "offsetgroup": "A4",
         "orientation": "v",
         "showlegend": true,
         "type": "histogram",
         "visible": false,
         "x": [
          "u",
          "u",
          "u",
          "u",
          "u",
          "u",
          "u",
          "u",
          "y",
          "y",
          "u",
          "u",
          "u",
          "u",
          "u",
          "y",
          "u",
          "u",
          "u",
          "u",
          "u",
          "u",
          "u",
          "u",
          "u",
          "u",
          "u",
          "u",
          "u",
          "u",
          "u",
          "u",
          "u",
          "u",
          "u",
          "u",
          "u",
          "u",
          "y",
          "u",
          "u",
          "u",
          "u",
          "u",
          "y",
          "u",
          "y",
          "u",
          "u",
          "u",
          "u",
          "u",
          "u",
          "u",
          "u",
          "y",
          "u",
          "u",
          "u",
          "u",
          "u",
          "u",
          "y",
          "u",
          "u",
          "u",
          "u",
          "u",
          "u",
          "u",
          "u",
          "u",
          "u",
          "u",
          "y",
          "u",
          "u",
          "y",
          "y",
          "u",
          "u",
          "u",
          "u",
          "u",
          "u",
          "u",
          "u",
          "y",
          "u",
          "u",
          "y",
          "u",
          "y",
          "y",
          "y",
          "u",
          "y",
          "u",
          "y",
          "u",
          "y",
          "y",
          "u",
          "u",
          "y",
          "u",
          "u",
          "y",
          "y",
          "u",
          "u",
          "y",
          "u",
          "u",
          "y",
          "u",
          "u",
          "u",
          "u",
          "u",
          "u",
          "u",
          "u",
          "u",
          "u",
          "u",
          "u",
          "u",
          "u",
          "u",
          "u",
          "u",
          "u",
          "u",
          "u",
          "u",
          "y",
          "u",
          "u",
          "u",
          "u",
          "u",
          "y",
          "u",
          "u",
          "u",
          "u",
          "y",
          "u",
          "u",
          "u",
          "u",
          "u",
          "u",
          "u",
          "y",
          "y",
          "u",
          "u",
          "y",
          "u",
          "u",
          "u",
          "y",
          "u",
          "u",
          "u",
          "u",
          "u",
          "y",
          "y",
          "u",
          "u",
          "u",
          "u",
          "y",
          "u",
          "u",
          "u",
          "u",
          "u",
          "u",
          "u",
          "u",
          "u",
          "u",
          "u",
          "u",
          "u",
          "u",
          "u",
          "u",
          "u",
          "y",
          "y",
          "y",
          "y",
          "u",
          "y",
          "u",
          "u",
          "u",
          "u",
          "u",
          "y",
          "u",
          "u",
          "u",
          "u",
          "u",
          "u",
          "y",
          "u",
          "u",
          "y",
          "u",
          "u",
          "u",
          "u",
          "y",
          "u",
          "u",
          "u",
          "u",
          "u",
          "u",
          "u",
          "y",
          "u",
          "u",
          "u",
          "u",
          "u",
          "u",
          "u",
          "u",
          "u",
          "u",
          "u",
          "u",
          "y",
          "u",
          "u",
          "u",
          "u",
          "y",
          "u",
          "u",
          "u",
          "u",
          "u",
          "u",
          "u",
          "u",
          "u",
          "u",
          "u",
          "u",
          "u",
          "y",
          "u",
          "y",
          "u",
          "y",
          "u",
          "y",
          "y",
          "u",
          "u",
          "u",
          "u",
          "u",
          "y",
          "y",
          "u",
          "u",
          "u",
          "y",
          "y",
          "u",
          "y",
          "y",
          "u",
          "u",
          "u",
          "u",
          "u",
          "u",
          "y",
          "y",
          "u",
          "u",
          "u",
          "u",
          "u",
          "u",
          "u",
          "u",
          "u",
          "u",
          "u",
          "u",
          "u",
          "u",
          "u",
          "y",
          "u",
          "u",
          "u",
          "y",
          "u",
          "y",
          "u",
          "u",
          "y",
          "u",
          "y",
          "l",
          "y",
          "y",
          "u",
          "l",
          "u",
          "y",
          "u",
          "y",
          "y",
          "u",
          "y",
          "y",
          "u",
          "y",
          "u",
          "u",
          "u",
          "u",
          "u",
          "y",
          "y",
          "u",
          "u",
          "u",
          "u",
          "u",
          "u",
          "u",
          "u",
          "y",
          "u",
          "u",
          "u",
          "y",
          "y",
          "u",
          "u",
          "u",
          "u",
          "u",
          "u",
          "u",
          "u",
          "u",
          "u",
          "y",
          "u",
          "u",
          "u",
          "y",
          "y",
          "y",
          "y",
          "u",
          "u",
          "u",
          "u",
          "y",
          "u",
          "y",
          "u",
          "u",
          "u",
          "u",
          "y",
          "y",
          "u",
          "y",
          "y",
          "u",
          "u",
          "u",
          "u",
          "u",
          "u",
          "u",
          "y",
          "u",
          "y",
          "y",
          "y",
          "u",
          "y",
          "u",
          "u",
          "u",
          "y",
          "u",
          "y",
          "y",
          "u",
          "u",
          "u",
          "u",
          "u",
          "u",
          "u",
          "y",
          "y",
          "u",
          "u",
          "y",
          "u",
          "u",
          "u",
          "u",
          "u",
          "u",
          "u",
          "u",
          "u",
          "y",
          "y",
          "y",
          "u",
          "u",
          "u",
          "y",
          "u",
          "u",
          "u",
          "u",
          "u",
          "u",
          "y",
          "u",
          "y",
          "u",
          "u",
          "u",
          "u",
          "u",
          "y",
          "u",
          "u",
          "u",
          "u",
          "u",
          "u",
          "y",
          "u",
          "y",
          "y",
          "u",
          "u",
          "u",
          "u",
          "u",
          "u",
          "u",
          "u",
          "u",
          "u",
          "y",
          "u",
          "y",
          "u",
          "u",
          "u",
          "y",
          "u",
          "y",
          "u",
          "y",
          "u",
          "y",
          "u",
          "y",
          "y",
          "y",
          "y",
          "u",
          "u",
          "u",
          "u",
          "u",
          "y",
          "u",
          "u",
          "u",
          "u",
          "u",
          "u",
          "u",
          "u",
          "u",
          "u",
          "u",
          "u",
          "u",
          "u",
          "y",
          "y",
          "u",
          "u",
          "u",
          "y",
          "u",
          "u",
          "u",
          "u",
          "u",
          "u",
          "u",
          "u",
          "u",
          "u",
          "u",
          "u",
          "u",
          "u",
          "u",
          "u",
          "u",
          "u",
          "u",
          "u",
          "y",
          "u",
          "u",
          "u",
          "u",
          "y",
          "u",
          "y",
          "u",
          "y",
          "y",
          "y",
          "u",
          "u",
          "u",
          "u",
          "u",
          "u",
          "u",
          "y",
          "u",
          "u",
          "u",
          "u",
          "u",
          "u",
          "u",
          "u",
          "u",
          "u",
          "u",
          "u",
          "u",
          "y",
          "u",
          "u",
          "y",
          "y",
          "u",
          "u",
          "y",
          "u",
          "u",
          "u",
          "u",
          "u",
          "u",
          "u",
          "y",
          "y",
          "u",
          "u",
          "u",
          "y",
          "u",
          "u",
          "u",
          "u",
          "u",
          "u",
          "u",
          "u",
          "u",
          "u",
          "u",
          "u",
          "y",
          "y",
          "u",
          "u",
          "y",
          "u",
          "u",
          "y",
          "u",
          "y",
          "y",
          "u",
          "u",
          "u",
          "u",
          "u",
          "y",
          "u",
          "y",
          "u",
          "u",
          "u",
          "u",
          "y",
          "u",
          "y",
          "u",
          "u",
          "u",
          "u",
          "u",
          "u",
          "y",
          "u",
          "u",
          "y",
          "u",
          "u",
          "u",
          "u",
          "y",
          "y",
          "u",
          "y",
          "u",
          "u",
          "u",
          "u",
          "u",
          "u",
          "u",
          "u",
          "u",
          "u",
          "y",
          "u",
          "u",
          "u",
          "u",
          "u",
          "u",
          "u",
          "y",
          "y",
          "y",
          "u",
          "u",
          "u",
          "y",
          "u",
          "u",
          "u",
          "y",
          "u",
          "u",
          "u",
          "u",
          "u",
          "u",
          "u",
          "y",
          "u",
          "y",
          "u",
          "y",
          "u",
          "y",
          "u",
          "u"
         ],
         "xaxis": "x",
         "yaxis": "y"
        },
        {
         "alignmentgroup": "True",
         "bingroup": "x",
         "hovertemplate": "variable=A1<br>value=%{x}<br>count=%{y}<extra></extra>",
         "legendgroup": "A1",
         "marker": {
          "color": "#636efa",
          "pattern": {
           "shape": ""
          }
         },
         "name": "A1",
         "offsetgroup": "A1",
         "orientation": "v",
         "showlegend": true,
         "type": "histogram",
         "visible": false,
         "x": [
          "b",
          "a",
          "a",
          "b",
          "b",
          "b",
          "b",
          "a",
          "b",
          "b",
          "b",
          "b",
          "a",
          "b",
          "a",
          "b",
          "b",
          "a",
          "b",
          "a",
          "b",
          "b",
          "a",
          "a",
          "a",
          "a",
          "a",
          "b",
          "b",
          "b",
          "b",
          "b",
          "b",
          "a",
          "a",
          "b",
          "b",
          "a",
          "b",
          "b",
          "b",
          "b",
          "b",
          "b",
          "b",
          "b",
          "a",
          "b",
          "b",
          "b",
          "a",
          "b",
          "b",
          "b",
          "b",
          "b",
          "b",
          "b",
          "b",
          "b",
          "b",
          "b",
          "a",
          "a",
          "b",
          "b",
          "a",
          "b",
          "b",
          "b",
          "b",
          "b",
          "a",
          "b",
          "b",
          "b",
          "b",
          "a",
          "b",
          "b",
          "b",
          "a",
          "b",
          "a",
          "b",
          "b",
          "b",
          "b",
          "b",
          "a",
          "b",
          "b",
          "b",
          "b",
          "b",
          "a",
          "b",
          "b",
          "a",
          "a",
          "b",
          "b",
          "b",
          "b",
          "b",
          "b",
          "b",
          "a",
          "b",
          "a",
          "b",
          "a",
          "b",
          "a",
          "b",
          "a",
          "b",
          "b",
          "b",
          "a",
          "b",
          "b",
          "a",
          "a",
          "a",
          "b",
          "b",
          "b",
          "b",
          "a",
          "b",
          "b",
          "a",
          "b",
          "b",
          "b",
          "b",
          "b",
          "a",
          "a",
          "a",
          "a",
          "b",
          "b",
          "b",
          "b",
          "b",
          "a",
          "a",
          "a",
          "a",
          "a",
          "b",
          "b",
          "b",
          "a",
          "a",
          "a",
          "b",
          "b",
          "b",
          "b",
          "b",
          "b",
          "a",
          "a",
          "b",
          "a",
          "b",
          "b",
          "a",
          "b",
          "b",
          "a",
          "b",
          "b",
          "b",
          "a",
          "a",
          "b",
          "b",
          "a",
          "a",
          "a",
          "a",
          "b",
          "b",
          "b",
          "a",
          "a",
          "b",
          "b",
          "b",
          "b",
          "b",
          "b",
          "b",
          "b",
          "b",
          "b",
          "a",
          "a",
          "b",
          "a",
          "b",
          "a",
          "a",
          "b",
          "b",
          "b",
          "b",
          "b",
          "b",
          "b",
          "b",
          "b",
          "b",
          "b",
          "b",
          "a",
          "a",
          "b",
          "a",
          "a",
          "a",
          "b",
          "b",
          "a",
          "b",
          "b",
          "b",
          "a",
          "b",
          "b",
          "a",
          "a",
          "b",
          "b",
          "b",
          "b",
          "b",
          "b",
          "b",
          "a",
          "b",
          "b",
          "b",
          "a",
          "b",
          "b",
          "b",
          "b",
          "a",
          "b",
          "b",
          "b",
          "b",
          "b",
          "a",
          "a",
          "b",
          "a",
          "a",
          "a",
          "b",
          "b",
          "b",
          "a",
          "b",
          "b",
          "b",
          "b",
          "b",
          "b",
          "b",
          "b",
          "a",
          "a",
          "b",
          "b",
          "b",
          "b",
          "b",
          "a",
          "b",
          "b",
          "a",
          "b",
          "b",
          "a",
          "b",
          "a",
          "b",
          "b",
          "a",
          "a",
          "b",
          "b",
          "b",
          "b",
          "a",
          "b",
          "b",
          "a",
          "a",
          "b",
          "b",
          "b",
          "b",
          "a",
          "a",
          "b",
          "a",
          "a",
          "b",
          "b",
          "b",
          "b",
          "b",
          "b",
          "b",
          "a",
          "a",
          "b",
          "b",
          "a",
          "b",
          "b",
          "b",
          "b",
          "b",
          "a",
          "b",
          "a",
          "b",
          "b",
          "b",
          "a",
          "a",
          "b",
          "a",
          "b",
          "b",
          "b",
          "b",
          "b",
          "b",
          "b",
          "b",
          "b",
          "a",
          "b",
          "b",
          "b",
          "b",
          "a",
          "b",
          "a",
          "b",
          "a",
          "a",
          "b",
          "b",
          "b",
          "b",
          "b",
          "a",
          "b",
          "a",
          "b",
          "b",
          "b",
          "a",
          "b",
          "b",
          "a",
          "b",
          "b",
          "b",
          "b",
          "b",
          "a",
          "a",
          "a",
          "b",
          "b",
          "b",
          "b",
          "b",
          "b",
          "b",
          "b",
          "b",
          "b",
          "b",
          "a",
          "b",
          "a",
          "b",
          "b",
          "b",
          "b",
          "a",
          "a",
          "b",
          "a",
          "a",
          "a",
          "b",
          "b",
          "b",
          "b",
          "a",
          "b",
          "b",
          "a",
          "b",
          "b",
          "b",
          "a",
          "b",
          "b",
          "b",
          "b",
          "b",
          "b",
          "a",
          "b",
          "b",
          "b",
          "b",
          "b",
          "b",
          "b",
          "b",
          "b",
          "b",
          "a",
          "a",
          "b",
          "b",
          "b",
          "b",
          "b",
          "a",
          "a",
          "b",
          "a",
          "b",
          "b",
          "b",
          "b",
          "b",
          "b",
          "b",
          "b",
          "b",
          "b",
          "b",
          "b",
          "a",
          "b",
          "b",
          "a",
          "a",
          "a",
          "b",
          "a",
          "b",
          "b",
          "a",
          "b",
          "b",
          "b",
          "b",
          "b",
          "b",
          "b",
          "b",
          "b",
          "a",
          "b",
          "a",
          "b",
          "b",
          "b",
          "b",
          "b",
          "b",
          "b",
          "a",
          "b",
          "b",
          "a",
          "a",
          "b",
          "a",
          "b",
          "b",
          "b",
          "b",
          "b",
          "a",
          "b",
          "a",
          "b",
          "a",
          "a",
          "a",
          "b",
          "b",
          "a",
          "a",
          "b",
          "b",
          "b",
          "a",
          "b",
          "a",
          "b",
          "b",
          "a",
          "b",
          "a",
          "a",
          "b",
          "b",
          "a",
          "a",
          "b",
          "a",
          "a",
          "b",
          "b",
          "b",
          "a",
          "a",
          "b",
          "b",
          "b",
          "b",
          "b",
          "b",
          "b",
          "b",
          "b",
          "b",
          "b",
          "b",
          "b",
          "b",
          "b",
          "b",
          "b",
          "a",
          "b",
          "b",
          "a",
          "b",
          "a",
          "a",
          "b",
          "b",
          "b",
          "b",
          "a",
          "b",
          "a",
          "b",
          "a",
          "b",
          "b",
          "b",
          "a",
          "a",
          "b",
          "b",
          "b",
          "b",
          "b",
          "b",
          "b",
          "b",
          "b",
          "a",
          "b",
          "b",
          "b",
          "b",
          "b",
          "b",
          "b",
          "b",
          "b",
          "b",
          "b",
          "a",
          "a",
          "b",
          "b",
          "a",
          "b",
          "b",
          "b",
          "b",
          "a",
          "b",
          "b",
          "b",
          "b",
          "b",
          "b",
          "b",
          "b",
          "a",
          "b",
          "b",
          "b",
          "b",
          "b",
          "b",
          "b",
          "a",
          "b",
          "b",
          "b",
          "b",
          "b",
          "b",
          "a",
          "a",
          "a",
          "a",
          "b",
          "a",
          "b",
          "b",
          "b",
          "b",
          "b",
          "b",
          "b",
          "b",
          "a",
          "b",
          "b",
          "a",
          "b",
          "b",
          "a",
          "b",
          "a",
          "a",
          "b",
          "a",
          "a",
          "b",
          "a",
          "a",
          "a",
          "b",
          "b",
          "a",
          "b",
          "b",
          "b",
          "a",
          "a",
          "b",
          "b",
          "b",
          "b",
          "a",
          "b",
          "a",
          "a",
          "a",
          "b",
          "a",
          "a",
          "b",
          "b",
          "b",
          "b",
          "b",
          "b",
          "a",
          "a",
          "b",
          "b"
         ],
         "xaxis": "x",
         "yaxis": "y"
        }
       ],
       "layout": {
        "showlegend": true,
        "template": {
         "data": {
          "bar": [
           {
            "error_x": {
             "color": "#2a3f5f"
            },
            "error_y": {
             "color": "#2a3f5f"
            },
            "marker": {
             "line": {
              "color": "#E5ECF6",
              "width": 0.5
             },
             "pattern": {
              "fillmode": "overlay",
              "size": 10,
              "solidity": 0.2
             }
            },
            "type": "bar"
           }
          ],
          "barpolar": [
           {
            "marker": {
             "line": {
              "color": "#E5ECF6",
              "width": 0.5
             },
             "pattern": {
              "fillmode": "overlay",
              "size": 10,
              "solidity": 0.2
             }
            },
            "type": "barpolar"
           }
          ],
          "carpet": [
           {
            "aaxis": {
             "endlinecolor": "#2a3f5f",
             "gridcolor": "white",
             "linecolor": "white",
             "minorgridcolor": "white",
             "startlinecolor": "#2a3f5f"
            },
            "baxis": {
             "endlinecolor": "#2a3f5f",
             "gridcolor": "white",
             "linecolor": "white",
             "minorgridcolor": "white",
             "startlinecolor": "#2a3f5f"
            },
            "type": "carpet"
           }
          ],
          "choropleth": [
           {
            "colorbar": {
             "outlinewidth": 0,
             "ticks": ""
            },
            "type": "choropleth"
           }
          ],
          "contour": [
           {
            "colorbar": {
             "outlinewidth": 0,
             "ticks": ""
            },
            "colorscale": [
             [
              0,
              "#0d0887"
             ],
             [
              0.1111111111111111,
              "#46039f"
             ],
             [
              0.2222222222222222,
              "#7201a8"
             ],
             [
              0.3333333333333333,
              "#9c179e"
             ],
             [
              0.4444444444444444,
              "#bd3786"
             ],
             [
              0.5555555555555556,
              "#d8576b"
             ],
             [
              0.6666666666666666,
              "#ed7953"
             ],
             [
              0.7777777777777778,
              "#fb9f3a"
             ],
             [
              0.8888888888888888,
              "#fdca26"
             ],
             [
              1,
              "#f0f921"
             ]
            ],
            "type": "contour"
           }
          ],
          "contourcarpet": [
           {
            "colorbar": {
             "outlinewidth": 0,
             "ticks": ""
            },
            "type": "contourcarpet"
           }
          ],
          "heatmap": [
           {
            "colorbar": {
             "outlinewidth": 0,
             "ticks": ""
            },
            "colorscale": [
             [
              0,
              "#0d0887"
             ],
             [
              0.1111111111111111,
              "#46039f"
             ],
             [
              0.2222222222222222,
              "#7201a8"
             ],
             [
              0.3333333333333333,
              "#9c179e"
             ],
             [
              0.4444444444444444,
              "#bd3786"
             ],
             [
              0.5555555555555556,
              "#d8576b"
             ],
             [
              0.6666666666666666,
              "#ed7953"
             ],
             [
              0.7777777777777778,
              "#fb9f3a"
             ],
             [
              0.8888888888888888,
              "#fdca26"
             ],
             [
              1,
              "#f0f921"
             ]
            ],
            "type": "heatmap"
           }
          ],
          "heatmapgl": [
           {
            "colorbar": {
             "outlinewidth": 0,
             "ticks": ""
            },
            "colorscale": [
             [
              0,
              "#0d0887"
             ],
             [
              0.1111111111111111,
              "#46039f"
             ],
             [
              0.2222222222222222,
              "#7201a8"
             ],
             [
              0.3333333333333333,
              "#9c179e"
             ],
             [
              0.4444444444444444,
              "#bd3786"
             ],
             [
              0.5555555555555556,
              "#d8576b"
             ],
             [
              0.6666666666666666,
              "#ed7953"
             ],
             [
              0.7777777777777778,
              "#fb9f3a"
             ],
             [
              0.8888888888888888,
              "#fdca26"
             ],
             [
              1,
              "#f0f921"
             ]
            ],
            "type": "heatmapgl"
           }
          ],
          "histogram": [
           {
            "marker": {
             "pattern": {
              "fillmode": "overlay",
              "size": 10,
              "solidity": 0.2
             }
            },
            "type": "histogram"
           }
          ],
          "histogram2d": [
           {
            "colorbar": {
             "outlinewidth": 0,
             "ticks": ""
            },
            "colorscale": [
             [
              0,
              "#0d0887"
             ],
             [
              0.1111111111111111,
              "#46039f"
             ],
             [
              0.2222222222222222,
              "#7201a8"
             ],
             [
              0.3333333333333333,
              "#9c179e"
             ],
             [
              0.4444444444444444,
              "#bd3786"
             ],
             [
              0.5555555555555556,
              "#d8576b"
             ],
             [
              0.6666666666666666,
              "#ed7953"
             ],
             [
              0.7777777777777778,
              "#fb9f3a"
             ],
             [
              0.8888888888888888,
              "#fdca26"
             ],
             [
              1,
              "#f0f921"
             ]
            ],
            "type": "histogram2d"
           }
          ],
          "histogram2dcontour": [
           {
            "colorbar": {
             "outlinewidth": 0,
             "ticks": ""
            },
            "colorscale": [
             [
              0,
              "#0d0887"
             ],
             [
              0.1111111111111111,
              "#46039f"
             ],
             [
              0.2222222222222222,
              "#7201a8"
             ],
             [
              0.3333333333333333,
              "#9c179e"
             ],
             [
              0.4444444444444444,
              "#bd3786"
             ],
             [
              0.5555555555555556,
              "#d8576b"
             ],
             [
              0.6666666666666666,
              "#ed7953"
             ],
             [
              0.7777777777777778,
              "#fb9f3a"
             ],
             [
              0.8888888888888888,
              "#fdca26"
             ],
             [
              1,
              "#f0f921"
             ]
            ],
            "type": "histogram2dcontour"
           }
          ],
          "mesh3d": [
           {
            "colorbar": {
             "outlinewidth": 0,
             "ticks": ""
            },
            "type": "mesh3d"
           }
          ],
          "parcoords": [
           {
            "line": {
             "colorbar": {
              "outlinewidth": 0,
              "ticks": ""
             }
            },
            "type": "parcoords"
           }
          ],
          "pie": [
           {
            "automargin": true,
            "type": "pie"
           }
          ],
          "scatter": [
           {
            "marker": {
             "colorbar": {
              "outlinewidth": 0,
              "ticks": ""
             }
            },
            "type": "scatter"
           }
          ],
          "scatter3d": [
           {
            "line": {
             "colorbar": {
              "outlinewidth": 0,
              "ticks": ""
             }
            },
            "marker": {
             "colorbar": {
              "outlinewidth": 0,
              "ticks": ""
             }
            },
            "type": "scatter3d"
           }
          ],
          "scattercarpet": [
           {
            "marker": {
             "colorbar": {
              "outlinewidth": 0,
              "ticks": ""
             }
            },
            "type": "scattercarpet"
           }
          ],
          "scattergeo": [
           {
            "marker": {
             "colorbar": {
              "outlinewidth": 0,
              "ticks": ""
             }
            },
            "type": "scattergeo"
           }
          ],
          "scattergl": [
           {
            "marker": {
             "colorbar": {
              "outlinewidth": 0,
              "ticks": ""
             }
            },
            "type": "scattergl"
           }
          ],
          "scattermapbox": [
           {
            "marker": {
             "colorbar": {
              "outlinewidth": 0,
              "ticks": ""
             }
            },
            "type": "scattermapbox"
           }
          ],
          "scatterpolar": [
           {
            "marker": {
             "colorbar": {
              "outlinewidth": 0,
              "ticks": ""
             }
            },
            "type": "scatterpolar"
           }
          ],
          "scatterpolargl": [
           {
            "marker": {
             "colorbar": {
              "outlinewidth": 0,
              "ticks": ""
             }
            },
            "type": "scatterpolargl"
           }
          ],
          "scatterternary": [
           {
            "marker": {
             "colorbar": {
              "outlinewidth": 0,
              "ticks": ""
             }
            },
            "type": "scatterternary"
           }
          ],
          "surface": [
           {
            "colorbar": {
             "outlinewidth": 0,
             "ticks": ""
            },
            "colorscale": [
             [
              0,
              "#0d0887"
             ],
             [
              0.1111111111111111,
              "#46039f"
             ],
             [
              0.2222222222222222,
              "#7201a8"
             ],
             [
              0.3333333333333333,
              "#9c179e"
             ],
             [
              0.4444444444444444,
              "#bd3786"
             ],
             [
              0.5555555555555556,
              "#d8576b"
             ],
             [
              0.6666666666666666,
              "#ed7953"
             ],
             [
              0.7777777777777778,
              "#fb9f3a"
             ],
             [
              0.8888888888888888,
              "#fdca26"
             ],
             [
              1,
              "#f0f921"
             ]
            ],
            "type": "surface"
           }
          ],
          "table": [
           {
            "cells": {
             "fill": {
              "color": "#EBF0F8"
             },
             "line": {
              "color": "white"
             }
            },
            "header": {
             "fill": {
              "color": "#C8D4E3"
             },
             "line": {
              "color": "white"
             }
            },
            "type": "table"
           }
          ]
         },
         "layout": {
          "annotationdefaults": {
           "arrowcolor": "#2a3f5f",
           "arrowhead": 0,
           "arrowwidth": 1
          },
          "autotypenumbers": "strict",
          "coloraxis": {
           "colorbar": {
            "outlinewidth": 0,
            "ticks": ""
           }
          },
          "colorscale": {
           "diverging": [
            [
             0,
             "#8e0152"
            ],
            [
             0.1,
             "#c51b7d"
            ],
            [
             0.2,
             "#de77ae"
            ],
            [
             0.3,
             "#f1b6da"
            ],
            [
             0.4,
             "#fde0ef"
            ],
            [
             0.5,
             "#f7f7f7"
            ],
            [
             0.6,
             "#e6f5d0"
            ],
            [
             0.7,
             "#b8e186"
            ],
            [
             0.8,
             "#7fbc41"
            ],
            [
             0.9,
             "#4d9221"
            ],
            [
             1,
             "#276419"
            ]
           ],
           "sequential": [
            [
             0,
             "#0d0887"
            ],
            [
             0.1111111111111111,
             "#46039f"
            ],
            [
             0.2222222222222222,
             "#7201a8"
            ],
            [
             0.3333333333333333,
             "#9c179e"
            ],
            [
             0.4444444444444444,
             "#bd3786"
            ],
            [
             0.5555555555555556,
             "#d8576b"
            ],
            [
             0.6666666666666666,
             "#ed7953"
            ],
            [
             0.7777777777777778,
             "#fb9f3a"
            ],
            [
             0.8888888888888888,
             "#fdca26"
            ],
            [
             1,
             "#f0f921"
            ]
           ],
           "sequentialminus": [
            [
             0,
             "#0d0887"
            ],
            [
             0.1111111111111111,
             "#46039f"
            ],
            [
             0.2222222222222222,
             "#7201a8"
            ],
            [
             0.3333333333333333,
             "#9c179e"
            ],
            [
             0.4444444444444444,
             "#bd3786"
            ],
            [
             0.5555555555555556,
             "#d8576b"
            ],
            [
             0.6666666666666666,
             "#ed7953"
            ],
            [
             0.7777777777777778,
             "#fb9f3a"
            ],
            [
             0.8888888888888888,
             "#fdca26"
            ],
            [
             1,
             "#f0f921"
            ]
           ]
          },
          "colorway": [
           "#636efa",
           "#EF553B",
           "#00cc96",
           "#ab63fa",
           "#FFA15A",
           "#19d3f3",
           "#FF6692",
           "#B6E880",
           "#FF97FF",
           "#FECB52"
          ],
          "font": {
           "color": "#2a3f5f"
          },
          "geo": {
           "bgcolor": "white",
           "lakecolor": "white",
           "landcolor": "#E5ECF6",
           "showlakes": true,
           "showland": true,
           "subunitcolor": "white"
          },
          "hoverlabel": {
           "align": "left"
          },
          "hovermode": "closest",
          "mapbox": {
           "style": "light"
          },
          "paper_bgcolor": "white",
          "plot_bgcolor": "#E5ECF6",
          "polar": {
           "angularaxis": {
            "gridcolor": "white",
            "linecolor": "white",
            "ticks": ""
           },
           "bgcolor": "#E5ECF6",
           "radialaxis": {
            "gridcolor": "white",
            "linecolor": "white",
            "ticks": ""
           }
          },
          "scene": {
           "xaxis": {
            "backgroundcolor": "#E5ECF6",
            "gridcolor": "white",
            "gridwidth": 2,
            "linecolor": "white",
            "showbackground": true,
            "ticks": "",
            "zerolinecolor": "white"
           },
           "yaxis": {
            "backgroundcolor": "#E5ECF6",
            "gridcolor": "white",
            "gridwidth": 2,
            "linecolor": "white",
            "showbackground": true,
            "ticks": "",
            "zerolinecolor": "white"
           },
           "zaxis": {
            "backgroundcolor": "#E5ECF6",
            "gridcolor": "white",
            "gridwidth": 2,
            "linecolor": "white",
            "showbackground": true,
            "ticks": "",
            "zerolinecolor": "white"
           }
          },
          "shapedefaults": {
           "line": {
            "color": "#2a3f5f"
           }
          },
          "ternary": {
           "aaxis": {
            "gridcolor": "white",
            "linecolor": "white",
            "ticks": ""
           },
           "baxis": {
            "gridcolor": "white",
            "linecolor": "white",
            "ticks": ""
           },
           "bgcolor": "#E5ECF6",
           "caxis": {
            "gridcolor": "white",
            "linecolor": "white",
            "ticks": ""
           }
          },
          "title": {
           "x": 0.05
          },
          "xaxis": {
           "automargin": true,
           "gridcolor": "white",
           "linecolor": "white",
           "ticks": "",
           "title": {
            "standoff": 15
           },
           "zerolinecolor": "white",
           "zerolinewidth": 2
          },
          "yaxis": {
           "automargin": true,
           "gridcolor": "white",
           "linecolor": "white",
           "ticks": "",
           "title": {
            "standoff": 15
           },
           "zerolinecolor": "white",
           "zerolinewidth": 2
          }
         }
        },
        "title": {
         "text": "Распределение категориальных переменных",
         "x": 0.5
        },
        "updatemenus": [
         {
          "buttons": [
           {
            "args": [
             "visible",
             [
              true,
              false,
              false,
              false,
              false,
              false,
              false,
              false,
              false
             ]
            ],
            "label": "A13",
            "method": "restyle"
           },
           {
            "args": [
             "visible",
             [
              false,
              true,
              false,
              false,
              false,
              false,
              false,
              false,
              false
             ]
            ],
            "label": "A12",
            "method": "restyle"
           },
           {
            "args": [
             "visible",
             [
              false,
              false,
              true,
              false,
              false,
              false,
              false,
              false,
              false
             ]
            ],
            "label": "A10",
            "method": "restyle"
           },
           {
            "args": [
             "visible",
             [
              false,
              false,
              false,
              true,
              false,
              false,
              false,
              false,
              false
             ]
            ],
            "label": "A9",
            "method": "restyle"
           },
           {
            "args": [
             "visible",
             [
              false,
              false,
              false,
              false,
              true,
              false,
              false,
              false,
              false
             ]
            ],
            "label": "A7",
            "method": "restyle"
           },
           {
            "args": [
             "visible",
             [
              false,
              false,
              false,
              false,
              false,
              true,
              false,
              false,
              false
             ]
            ],
            "label": "A6",
            "method": "restyle"
           },
           {
            "args": [
             "visible",
             [
              false,
              false,
              false,
              false,
              false,
              false,
              true,
              false,
              false
             ]
            ],
            "label": "A5",
            "method": "restyle"
           },
           {
            "args": [
             "visible",
             [
              false,
              false,
              false,
              false,
              false,
              false,
              false,
              true,
              false
             ]
            ],
            "label": "A4",
            "method": "restyle"
           },
           {
            "args": [
             "visible",
             [
              false,
              false,
              false,
              false,
              false,
              false,
              false,
              false,
              true
             ]
            ],
            "label": "A1",
            "method": "restyle"
           }
          ],
          "direction": "down",
          "showactive": true
         }
        ],
        "xaxis": {
         "title": {
          "text": "Значение"
         }
        },
        "yaxis": {
         "title": {
          "text": "Количество значений"
         }
        }
       }
      }
     },
     "metadata": {},
     "output_type": "display_data"
    }
   ],
   "source": [
    "warnings.filterwarnings(\"ignore\")\n",
    "updatemenu = [dict()]\n",
    "buttons = []\n",
    "fig2 = go.Figure()\n",
    "\n",
    "data =[]\n",
    "for i in categorical.name[1:]:\n",
    "    trace = px.histogram(df[i]).data[0]\n",
    "    trace.visible = False\n",
    "    data.append(trace) \n",
    "fig2.add_traces(data) \n",
    "\n",
    "for i, col in enumerate(categorical.name):\n",
    "\n",
    "    visibles = [False] * len(categorical.name)\n",
    "    visibles[i] = True\n",
    "    buttons.append(dict(method='restyle',\n",
    "                        label=col,\n",
    "                        args=[\"visible\", visibles]\n",
    "                        ))\n",
    "\n",
    "updatemenu[0]['buttons'] = buttons\n",
    "updatemenu[0]['direction'] = 'down'\n",
    "updatemenu[0]['showactive'] = True\n",
    "\n",
    "fig2.update_layout(showlegend=True, updatemenus=updatemenu)\n",
    "fig2.update_layout(\n",
    "     title={\n",
    "        \"text\": \"Распределение категориальных переменных\",\n",
    "        \"x\": 0.5\n",
    "    },\n",
    "    xaxis_title=\"Значение\",\n",
    "    yaxis_title=\"Количество значений\"\n",
    ")\n",
    "fig2.show()\n",
    "warnings.filterwarnings(\"default\")\n"
   ]
  },
  {
   "cell_type": "markdown",
   "metadata": {},
   "source": [
    "Также необходимо посмотреть на корреляцию непрерывных переменных"
   ]
  },
  {
   "cell_type": "code",
   "execution_count": 46,
   "metadata": {},
   "outputs": [
    {
     "data": {
      "text/html": [
       "<div>\n",
       "<style scoped>\n",
       "    .dataframe tbody tr th:only-of-type {\n",
       "        vertical-align: middle;\n",
       "    }\n",
       "\n",
       "    .dataframe tbody tr th {\n",
       "        vertical-align: top;\n",
       "    }\n",
       "\n",
       "    .dataframe thead th {\n",
       "        text-align: right;\n",
       "    }\n",
       "</style>\n",
       "<table border=\"1\" class=\"dataframe\">\n",
       "  <thead>\n",
       "    <tr style=\"text-align: right;\">\n",
       "      <th>name</th>\n",
       "      <th>A16</th>\n",
       "      <th>A15</th>\n",
       "      <th>A14</th>\n",
       "      <th>A11</th>\n",
       "      <th>A8</th>\n",
       "      <th>A3</th>\n",
       "      <th>A2</th>\n",
       "    </tr>\n",
       "    <tr>\n",
       "      <th>name</th>\n",
       "      <th></th>\n",
       "      <th></th>\n",
       "      <th></th>\n",
       "      <th></th>\n",
       "      <th></th>\n",
       "      <th></th>\n",
       "      <th></th>\n",
       "    </tr>\n",
       "  </thead>\n",
       "  <tbody>\n",
       "    <tr>\n",
       "      <th>A16</th>\n",
       "      <td>1.000000</td>\n",
       "      <td>0.175657</td>\n",
       "      <td>-0.099972</td>\n",
       "      <td>0.406410</td>\n",
       "      <td>0.322475</td>\n",
       "      <td>0.206294</td>\n",
       "      <td>0.161627</td>\n",
       "    </tr>\n",
       "    <tr>\n",
       "      <th>A15</th>\n",
       "      <td>0.175657</td>\n",
       "      <td>1.000000</td>\n",
       "      <td>0.065609</td>\n",
       "      <td>0.063692</td>\n",
       "      <td>0.051345</td>\n",
       "      <td>0.123121</td>\n",
       "      <td>0.018539</td>\n",
       "    </tr>\n",
       "    <tr>\n",
       "      <th>A14</th>\n",
       "      <td>-0.099972</td>\n",
       "      <td>0.065609</td>\n",
       "      <td>1.000000</td>\n",
       "      <td>-0.119809</td>\n",
       "      <td>-0.076389</td>\n",
       "      <td>-0.222346</td>\n",
       "      <td>-0.077161</td>\n",
       "    </tr>\n",
       "    <tr>\n",
       "      <th>A11</th>\n",
       "      <td>0.406410</td>\n",
       "      <td>0.063692</td>\n",
       "      <td>-0.119809</td>\n",
       "      <td>1.000000</td>\n",
       "      <td>0.322330</td>\n",
       "      <td>0.271207</td>\n",
       "      <td>0.185575</td>\n",
       "    </tr>\n",
       "    <tr>\n",
       "      <th>A8</th>\n",
       "      <td>0.322475</td>\n",
       "      <td>0.051345</td>\n",
       "      <td>-0.076389</td>\n",
       "      <td>0.322330</td>\n",
       "      <td>1.000000</td>\n",
       "      <td>0.298902</td>\n",
       "      <td>0.392787</td>\n",
       "    </tr>\n",
       "    <tr>\n",
       "      <th>A3</th>\n",
       "      <td>0.206294</td>\n",
       "      <td>0.123121</td>\n",
       "      <td>-0.222346</td>\n",
       "      <td>0.271207</td>\n",
       "      <td>0.298902</td>\n",
       "      <td>1.000000</td>\n",
       "      <td>0.201316</td>\n",
       "    </tr>\n",
       "    <tr>\n",
       "      <th>A2</th>\n",
       "      <td>0.161627</td>\n",
       "      <td>0.018539</td>\n",
       "      <td>-0.077161</td>\n",
       "      <td>0.185575</td>\n",
       "      <td>0.392787</td>\n",
       "      <td>0.201316</td>\n",
       "      <td>1.000000</td>\n",
       "    </tr>\n",
       "  </tbody>\n",
       "</table>\n",
       "</div>"
      ],
      "text/plain": [
       "name       A16       A15       A14       A11        A8        A3        A2\n",
       "name                                                                      \n",
       "A16   1.000000  0.175657 -0.099972  0.406410  0.322475  0.206294  0.161627\n",
       "A15   0.175657  1.000000  0.065609  0.063692  0.051345  0.123121  0.018539\n",
       "A14  -0.099972  0.065609  1.000000 -0.119809 -0.076389 -0.222346 -0.077161\n",
       "A11   0.406410  0.063692 -0.119809  1.000000  0.322330  0.271207  0.185575\n",
       "A8    0.322475  0.051345 -0.076389  0.322330  1.000000  0.298902  0.392787\n",
       "A3    0.206294  0.123121 -0.222346  0.271207  0.298902  1.000000  0.201316\n",
       "A2    0.161627  0.018539 -0.077161  0.185575  0.392787  0.201316  1.000000"
      ]
     },
     "execution_count": 46,
     "metadata": {},
     "output_type": "execute_result"
    }
   ],
   "source": [
    "df.corr()"
   ]
  },
  {
   "cell_type": "code",
   "execution_count": 47,
   "metadata": {},
   "outputs": [
    {
     "data": {
      "application/vnd.plotly.v1+json": {
       "config": {
        "plotlyServerURL": "https://plot.ly"
       },
       "data": [
        {
         "coloraxis": "coloraxis",
         "hovertemplate": "name: %{x}<br>name: %{y}<br>color: %{z}<extra></extra>",
         "name": "0",
         "texttemplate": "%{z}",
         "type": "heatmap",
         "x": [
          "A16",
          "A15",
          "A14",
          "A11",
          "A8",
          "A3",
          "A2"
         ],
         "xaxis": "x",
         "y": [
          "A16",
          "A15",
          "A14",
          "A11",
          "A8",
          "A3",
          "A2"
         ],
         "yaxis": "y",
         "z": [
          [
           1,
           0.17565720099350537,
           -0.09997235382706998,
           0.4064100087639557,
           0.32247535825538365,
           0.20629373864503853,
           0.1616273697051783
          ],
          [
           0.17565720099350537,
           1,
           0.06560933417678685,
           0.06369243933021203,
           0.051344929144616004,
           0.12312115311068306,
           0.018538807713639777
          ],
          [
           -0.09997235382706998,
           0.06560933417678685,
           1,
           -0.11980853030861488,
           -0.07638893153219234,
           -0.22234646763999877,
           -0.07716059329977155
          ],
          [
           0.4064100087639557,
           0.06369243933021203,
           -0.11980853030861488,
           1,
           0.32232966790617756,
           0.27120673925842986,
           0.1855749255692924
          ],
          [
           0.32247535825538365,
           0.051344929144616004,
           -0.07638893153219234,
           0.32232966790617756,
           1,
           0.29890155766577947,
           0.39278722766434987
          ],
          [
           0.20629373864503853,
           0.12312115311068306,
           -0.22234646763999877,
           0.27120673925842986,
           0.29890155766577947,
           1,
           0.2013158145528973
          ],
          [
           0.1616273697051783,
           0.018538807713639777,
           -0.07716059329977155,
           0.1855749255692924,
           0.39278722766434987,
           0.2013158145528973,
           1
          ]
         ]
        }
       ],
       "layout": {
        "coloraxis": {
         "colorscale": [
          [
           0,
           "#0d0887"
          ],
          [
           0.1111111111111111,
           "#46039f"
          ],
          [
           0.2222222222222222,
           "#7201a8"
          ],
          [
           0.3333333333333333,
           "#9c179e"
          ],
          [
           0.4444444444444444,
           "#bd3786"
          ],
          [
           0.5555555555555556,
           "#d8576b"
          ],
          [
           0.6666666666666666,
           "#ed7953"
          ],
          [
           0.7777777777777778,
           "#fb9f3a"
          ],
          [
           0.8888888888888888,
           "#fdca26"
          ],
          [
           1,
           "#f0f921"
          ]
         ]
        },
        "margin": {
         "t": 60
        },
        "template": {
         "data": {
          "bar": [
           {
            "error_x": {
             "color": "#2a3f5f"
            },
            "error_y": {
             "color": "#2a3f5f"
            },
            "marker": {
             "line": {
              "color": "#E5ECF6",
              "width": 0.5
             },
             "pattern": {
              "fillmode": "overlay",
              "size": 10,
              "solidity": 0.2
             }
            },
            "type": "bar"
           }
          ],
          "barpolar": [
           {
            "marker": {
             "line": {
              "color": "#E5ECF6",
              "width": 0.5
             },
             "pattern": {
              "fillmode": "overlay",
              "size": 10,
              "solidity": 0.2
             }
            },
            "type": "barpolar"
           }
          ],
          "carpet": [
           {
            "aaxis": {
             "endlinecolor": "#2a3f5f",
             "gridcolor": "white",
             "linecolor": "white",
             "minorgridcolor": "white",
             "startlinecolor": "#2a3f5f"
            },
            "baxis": {
             "endlinecolor": "#2a3f5f",
             "gridcolor": "white",
             "linecolor": "white",
             "minorgridcolor": "white",
             "startlinecolor": "#2a3f5f"
            },
            "type": "carpet"
           }
          ],
          "choropleth": [
           {
            "colorbar": {
             "outlinewidth": 0,
             "ticks": ""
            },
            "type": "choropleth"
           }
          ],
          "contour": [
           {
            "colorbar": {
             "outlinewidth": 0,
             "ticks": ""
            },
            "colorscale": [
             [
              0,
              "#0d0887"
             ],
             [
              0.1111111111111111,
              "#46039f"
             ],
             [
              0.2222222222222222,
              "#7201a8"
             ],
             [
              0.3333333333333333,
              "#9c179e"
             ],
             [
              0.4444444444444444,
              "#bd3786"
             ],
             [
              0.5555555555555556,
              "#d8576b"
             ],
             [
              0.6666666666666666,
              "#ed7953"
             ],
             [
              0.7777777777777778,
              "#fb9f3a"
             ],
             [
              0.8888888888888888,
              "#fdca26"
             ],
             [
              1,
              "#f0f921"
             ]
            ],
            "type": "contour"
           }
          ],
          "contourcarpet": [
           {
            "colorbar": {
             "outlinewidth": 0,
             "ticks": ""
            },
            "type": "contourcarpet"
           }
          ],
          "heatmap": [
           {
            "colorbar": {
             "outlinewidth": 0,
             "ticks": ""
            },
            "colorscale": [
             [
              0,
              "#0d0887"
             ],
             [
              0.1111111111111111,
              "#46039f"
             ],
             [
              0.2222222222222222,
              "#7201a8"
             ],
             [
              0.3333333333333333,
              "#9c179e"
             ],
             [
              0.4444444444444444,
              "#bd3786"
             ],
             [
              0.5555555555555556,
              "#d8576b"
             ],
             [
              0.6666666666666666,
              "#ed7953"
             ],
             [
              0.7777777777777778,
              "#fb9f3a"
             ],
             [
              0.8888888888888888,
              "#fdca26"
             ],
             [
              1,
              "#f0f921"
             ]
            ],
            "type": "heatmap"
           }
          ],
          "heatmapgl": [
           {
            "colorbar": {
             "outlinewidth": 0,
             "ticks": ""
            },
            "colorscale": [
             [
              0,
              "#0d0887"
             ],
             [
              0.1111111111111111,
              "#46039f"
             ],
             [
              0.2222222222222222,
              "#7201a8"
             ],
             [
              0.3333333333333333,
              "#9c179e"
             ],
             [
              0.4444444444444444,
              "#bd3786"
             ],
             [
              0.5555555555555556,
              "#d8576b"
             ],
             [
              0.6666666666666666,
              "#ed7953"
             ],
             [
              0.7777777777777778,
              "#fb9f3a"
             ],
             [
              0.8888888888888888,
              "#fdca26"
             ],
             [
              1,
              "#f0f921"
             ]
            ],
            "type": "heatmapgl"
           }
          ],
          "histogram": [
           {
            "marker": {
             "pattern": {
              "fillmode": "overlay",
              "size": 10,
              "solidity": 0.2
             }
            },
            "type": "histogram"
           }
          ],
          "histogram2d": [
           {
            "colorbar": {
             "outlinewidth": 0,
             "ticks": ""
            },
            "colorscale": [
             [
              0,
              "#0d0887"
             ],
             [
              0.1111111111111111,
              "#46039f"
             ],
             [
              0.2222222222222222,
              "#7201a8"
             ],
             [
              0.3333333333333333,
              "#9c179e"
             ],
             [
              0.4444444444444444,
              "#bd3786"
             ],
             [
              0.5555555555555556,
              "#d8576b"
             ],
             [
              0.6666666666666666,
              "#ed7953"
             ],
             [
              0.7777777777777778,
              "#fb9f3a"
             ],
             [
              0.8888888888888888,
              "#fdca26"
             ],
             [
              1,
              "#f0f921"
             ]
            ],
            "type": "histogram2d"
           }
          ],
          "histogram2dcontour": [
           {
            "colorbar": {
             "outlinewidth": 0,
             "ticks": ""
            },
            "colorscale": [
             [
              0,
              "#0d0887"
             ],
             [
              0.1111111111111111,
              "#46039f"
             ],
             [
              0.2222222222222222,
              "#7201a8"
             ],
             [
              0.3333333333333333,
              "#9c179e"
             ],
             [
              0.4444444444444444,
              "#bd3786"
             ],
             [
              0.5555555555555556,
              "#d8576b"
             ],
             [
              0.6666666666666666,
              "#ed7953"
             ],
             [
              0.7777777777777778,
              "#fb9f3a"
             ],
             [
              0.8888888888888888,
              "#fdca26"
             ],
             [
              1,
              "#f0f921"
             ]
            ],
            "type": "histogram2dcontour"
           }
          ],
          "mesh3d": [
           {
            "colorbar": {
             "outlinewidth": 0,
             "ticks": ""
            },
            "type": "mesh3d"
           }
          ],
          "parcoords": [
           {
            "line": {
             "colorbar": {
              "outlinewidth": 0,
              "ticks": ""
             }
            },
            "type": "parcoords"
           }
          ],
          "pie": [
           {
            "automargin": true,
            "type": "pie"
           }
          ],
          "scatter": [
           {
            "marker": {
             "colorbar": {
              "outlinewidth": 0,
              "ticks": ""
             }
            },
            "type": "scatter"
           }
          ],
          "scatter3d": [
           {
            "line": {
             "colorbar": {
              "outlinewidth": 0,
              "ticks": ""
             }
            },
            "marker": {
             "colorbar": {
              "outlinewidth": 0,
              "ticks": ""
             }
            },
            "type": "scatter3d"
           }
          ],
          "scattercarpet": [
           {
            "marker": {
             "colorbar": {
              "outlinewidth": 0,
              "ticks": ""
             }
            },
            "type": "scattercarpet"
           }
          ],
          "scattergeo": [
           {
            "marker": {
             "colorbar": {
              "outlinewidth": 0,
              "ticks": ""
             }
            },
            "type": "scattergeo"
           }
          ],
          "scattergl": [
           {
            "marker": {
             "colorbar": {
              "outlinewidth": 0,
              "ticks": ""
             }
            },
            "type": "scattergl"
           }
          ],
          "scattermapbox": [
           {
            "marker": {
             "colorbar": {
              "outlinewidth": 0,
              "ticks": ""
             }
            },
            "type": "scattermapbox"
           }
          ],
          "scatterpolar": [
           {
            "marker": {
             "colorbar": {
              "outlinewidth": 0,
              "ticks": ""
             }
            },
            "type": "scatterpolar"
           }
          ],
          "scatterpolargl": [
           {
            "marker": {
             "colorbar": {
              "outlinewidth": 0,
              "ticks": ""
             }
            },
            "type": "scatterpolargl"
           }
          ],
          "scatterternary": [
           {
            "marker": {
             "colorbar": {
              "outlinewidth": 0,
              "ticks": ""
             }
            },
            "type": "scatterternary"
           }
          ],
          "surface": [
           {
            "colorbar": {
             "outlinewidth": 0,
             "ticks": ""
            },
            "colorscale": [
             [
              0,
              "#0d0887"
             ],
             [
              0.1111111111111111,
              "#46039f"
             ],
             [
              0.2222222222222222,
              "#7201a8"
             ],
             [
              0.3333333333333333,
              "#9c179e"
             ],
             [
              0.4444444444444444,
              "#bd3786"
             ],
             [
              0.5555555555555556,
              "#d8576b"
             ],
             [
              0.6666666666666666,
              "#ed7953"
             ],
             [
              0.7777777777777778,
              "#fb9f3a"
             ],
             [
              0.8888888888888888,
              "#fdca26"
             ],
             [
              1,
              "#f0f921"
             ]
            ],
            "type": "surface"
           }
          ],
          "table": [
           {
            "cells": {
             "fill": {
              "color": "#EBF0F8"
             },
             "line": {
              "color": "white"
             }
            },
            "header": {
             "fill": {
              "color": "#C8D4E3"
             },
             "line": {
              "color": "white"
             }
            },
            "type": "table"
           }
          ]
         },
         "layout": {
          "annotationdefaults": {
           "arrowcolor": "#2a3f5f",
           "arrowhead": 0,
           "arrowwidth": 1
          },
          "autotypenumbers": "strict",
          "coloraxis": {
           "colorbar": {
            "outlinewidth": 0,
            "ticks": ""
           }
          },
          "colorscale": {
           "diverging": [
            [
             0,
             "#8e0152"
            ],
            [
             0.1,
             "#c51b7d"
            ],
            [
             0.2,
             "#de77ae"
            ],
            [
             0.3,
             "#f1b6da"
            ],
            [
             0.4,
             "#fde0ef"
            ],
            [
             0.5,
             "#f7f7f7"
            ],
            [
             0.6,
             "#e6f5d0"
            ],
            [
             0.7,
             "#b8e186"
            ],
            [
             0.8,
             "#7fbc41"
            ],
            [
             0.9,
             "#4d9221"
            ],
            [
             1,
             "#276419"
            ]
           ],
           "sequential": [
            [
             0,
             "#0d0887"
            ],
            [
             0.1111111111111111,
             "#46039f"
            ],
            [
             0.2222222222222222,
             "#7201a8"
            ],
            [
             0.3333333333333333,
             "#9c179e"
            ],
            [
             0.4444444444444444,
             "#bd3786"
            ],
            [
             0.5555555555555556,
             "#d8576b"
            ],
            [
             0.6666666666666666,
             "#ed7953"
            ],
            [
             0.7777777777777778,
             "#fb9f3a"
            ],
            [
             0.8888888888888888,
             "#fdca26"
            ],
            [
             1,
             "#f0f921"
            ]
           ],
           "sequentialminus": [
            [
             0,
             "#0d0887"
            ],
            [
             0.1111111111111111,
             "#46039f"
            ],
            [
             0.2222222222222222,
             "#7201a8"
            ],
            [
             0.3333333333333333,
             "#9c179e"
            ],
            [
             0.4444444444444444,
             "#bd3786"
            ],
            [
             0.5555555555555556,
             "#d8576b"
            ],
            [
             0.6666666666666666,
             "#ed7953"
            ],
            [
             0.7777777777777778,
             "#fb9f3a"
            ],
            [
             0.8888888888888888,
             "#fdca26"
            ],
            [
             1,
             "#f0f921"
            ]
           ]
          },
          "colorway": [
           "#636efa",
           "#EF553B",
           "#00cc96",
           "#ab63fa",
           "#FFA15A",
           "#19d3f3",
           "#FF6692",
           "#B6E880",
           "#FF97FF",
           "#FECB52"
          ],
          "font": {
           "color": "#2a3f5f"
          },
          "geo": {
           "bgcolor": "white",
           "lakecolor": "white",
           "landcolor": "#E5ECF6",
           "showlakes": true,
           "showland": true,
           "subunitcolor": "white"
          },
          "hoverlabel": {
           "align": "left"
          },
          "hovermode": "closest",
          "mapbox": {
           "style": "light"
          },
          "paper_bgcolor": "white",
          "plot_bgcolor": "#E5ECF6",
          "polar": {
           "angularaxis": {
            "gridcolor": "white",
            "linecolor": "white",
            "ticks": ""
           },
           "bgcolor": "#E5ECF6",
           "radialaxis": {
            "gridcolor": "white",
            "linecolor": "white",
            "ticks": ""
           }
          },
          "scene": {
           "xaxis": {
            "backgroundcolor": "#E5ECF6",
            "gridcolor": "white",
            "gridwidth": 2,
            "linecolor": "white",
            "showbackground": true,
            "ticks": "",
            "zerolinecolor": "white"
           },
           "yaxis": {
            "backgroundcolor": "#E5ECF6",
            "gridcolor": "white",
            "gridwidth": 2,
            "linecolor": "white",
            "showbackground": true,
            "ticks": "",
            "zerolinecolor": "white"
           },
           "zaxis": {
            "backgroundcolor": "#E5ECF6",
            "gridcolor": "white",
            "gridwidth": 2,
            "linecolor": "white",
            "showbackground": true,
            "ticks": "",
            "zerolinecolor": "white"
           }
          },
          "shapedefaults": {
           "line": {
            "color": "#2a3f5f"
           }
          },
          "ternary": {
           "aaxis": {
            "gridcolor": "white",
            "linecolor": "white",
            "ticks": ""
           },
           "baxis": {
            "gridcolor": "white",
            "linecolor": "white",
            "ticks": ""
           },
           "bgcolor": "#E5ECF6",
           "caxis": {
            "gridcolor": "white",
            "linecolor": "white",
            "ticks": ""
           }
          },
          "title": {
           "x": 0.05
          },
          "xaxis": {
           "automargin": true,
           "gridcolor": "white",
           "linecolor": "white",
           "ticks": "",
           "title": {
            "standoff": 15
           },
           "zerolinecolor": "white",
           "zerolinewidth": 2
          },
          "yaxis": {
           "automargin": true,
           "gridcolor": "white",
           "linecolor": "white",
           "ticks": "",
           "title": {
            "standoff": 15
           },
           "zerolinecolor": "white",
           "zerolinewidth": 2
          }
         }
        },
        "title": {
         "text": "Корреляция непрерывных переменных",
         "x": 0.5
        },
        "xaxis": {
         "anchor": "y",
         "constrain": "domain",
         "domain": [
          0,
          1
         ],
         "scaleanchor": "y",
         "title": {
          "text": "name"
         }
        },
        "yaxis": {
         "anchor": "x",
         "autorange": "reversed",
         "constrain": "domain",
         "domain": [
          0,
          1
         ],
         "title": {
          "text": "name"
         }
        }
       }
      }
     },
     "metadata": {},
     "output_type": "display_data"
    }
   ],
   "source": [
    "warnings.filterwarnings(\"ignore\")\n",
    "fig_cor = px.imshow(df.corr(), text_auto=True)\n",
    "fig_cor.update_layout(\n",
    "     title={\n",
    "        \"text\": \"Корреляция непрерывных переменных\",\n",
    "        \"x\": 0.5\n",
    "    },\n",
    "\n",
    ")\n",
    "fig_cor.show()\n",
    "warnings.filterwarnings(\"default\")"
   ]
  },
  {
   "cell_type": "markdown",
   "metadata": {},
   "source": [
    "Теперь поработаем с категориальными признаками. \n",
    "\n",
    "Очевидно, работать с некоторым дискретным набором строковых значений неудобно для анализа, поиска зависимостей и построения гипотез. В этом случае нас выручит метод преобразования категориальных столбцов в столбцы, где каждому из принимаемых признаком значений соответсвует единственная цифра.\n",
    "\n",
    "Например, если у нас были признаки A1, A2, что содержали наборы значений из словаря {\"a\", \"b\", \"c\"}:\n",
    "\n",
    "$$\\begin{array}{cc}\n",
    "A1 & A2 \\\\\n",
    "a & b \\\\\n",
    "c & a \\\\\n",
    "b & c \\\\\n",
    "a & b \\\\\n",
    "\\end{array}$$\n",
    "\n",
    "то в измененном датафрейме при создании фиктивных переменных мы получим признаки $A1$, $A2$\n",
    "\n",
    "$$\\begin{array}{cc}\n",
    "A1 & A2 \\\\\n",
    "1 & 2 \\\\\n",
    "3 & 1 \\\\\n",
    "2 & 3 \\\\\n",
    "1 & 2 \\\\\n",
    "\\end{array}$$\n",
    "\n",
    "Возьмём признаки из списка \"categorical\":"
   ]
  },
  {
   "cell_type": "code",
   "execution_count": 48,
   "metadata": {},
   "outputs": [
    {
     "data": {
      "text/plain": [
       "3     A13\n",
       "4     A12\n",
       "6     A10\n",
       "7      A9\n",
       "9      A7\n",
       "10     A6\n",
       "11     A5\n",
       "12     A4\n",
       "15     A1\n",
       "Name: name, dtype: object"
      ]
     },
     "execution_count": 48,
     "metadata": {},
     "output_type": "execute_result"
    }
   ],
   "source": [
    "categorical.name"
   ]
  },
  {
   "cell_type": "code",
   "execution_count": 49,
   "metadata": {},
   "outputs": [
    {
     "name": "stdout",
     "output_type": "stream",
     "text": [
      "Requirement already satisfied: category_encoders in /Users/artemshevchenko/opt/anaconda3/lib/python3.9/site-packages (2.6.3)\n",
      "Requirement already satisfied: statsmodels>=0.9.0 in /Users/artemshevchenko/opt/anaconda3/lib/python3.9/site-packages (from category_encoders) (0.13.2)\n",
      "Requirement already satisfied: numpy>=1.14.0 in /Users/artemshevchenko/opt/anaconda3/lib/python3.9/site-packages (from category_encoders) (1.21.5)\n",
      "Requirement already satisfied: pandas>=1.0.5 in /Users/artemshevchenko/opt/anaconda3/lib/python3.9/site-packages (from category_encoders) (1.4.2)\n",
      "Requirement already satisfied: scikit-learn>=0.20.0 in /Users/artemshevchenko/opt/anaconda3/lib/python3.9/site-packages (from category_encoders) (1.0.2)\n",
      "Requirement already satisfied: patsy>=0.5.1 in /Users/artemshevchenko/opt/anaconda3/lib/python3.9/site-packages (from category_encoders) (0.5.2)\n",
      "Requirement already satisfied: scipy>=1.0.0 in /Users/artemshevchenko/opt/anaconda3/lib/python3.9/site-packages (from category_encoders) (1.7.3)\n",
      "Requirement already satisfied: python-dateutil>=2.8.1 in /Users/artemshevchenko/opt/anaconda3/lib/python3.9/site-packages (from pandas>=1.0.5->category_encoders) (2.8.2)\n",
      "Requirement already satisfied: pytz>=2020.1 in /Users/artemshevchenko/opt/anaconda3/lib/python3.9/site-packages (from pandas>=1.0.5->category_encoders) (2021.3)\n",
      "Requirement already satisfied: six in /Users/artemshevchenko/opt/anaconda3/lib/python3.9/site-packages (from patsy>=0.5.1->category_encoders) (1.16.0)\n",
      "Requirement already satisfied: threadpoolctl>=2.0.0 in /Users/artemshevchenko/opt/anaconda3/lib/python3.9/site-packages (from scikit-learn>=0.20.0->category_encoders) (2.2.0)\n",
      "Requirement already satisfied: joblib>=0.11 in /Users/artemshevchenko/opt/anaconda3/lib/python3.9/site-packages (from scikit-learn>=0.20.0->category_encoders) (1.1.0)\n",
      "Requirement already satisfied: packaging>=21.3 in /Users/artemshevchenko/opt/anaconda3/lib/python3.9/site-packages (from statsmodels>=0.9.0->category_encoders) (21.3)\n",
      "Requirement already satisfied: pyparsing!=3.0.5,>=2.0.2 in /Users/artemshevchenko/opt/anaconda3/lib/python3.9/site-packages (from packaging>=21.3->statsmodels>=0.9.0->category_encoders) (3.0.4)\n",
      "Note: you may need to restart the kernel to use updated packages.\n"
     ]
    }
   ],
   "source": [
    "%pip install category_encoders"
   ]
  },
  {
   "cell_type": "code",
   "execution_count": 50,
   "metadata": {},
   "outputs": [],
   "source": [
    "import category_encoders as ce\n",
    "\n",
    "encoder = ce.OrdinalEncoder(cols=categorical.name)\n",
    "df = encoder.fit_transform(df)\n",
    "#уберем из дата фрейма нашу таргетную переменную - A16\n",
    "target = df['A16']\n",
    "df = df.drop([\"A16\"], axis = 1)\n",
    "#таргетную переменную тоже преобразуем в числа (0 и 1), так как нам этот столбец дан в формате строк\n"
   ]
  },
  {
   "cell_type": "markdown",
   "metadata": {},
   "source": [
    "Проведём небольшой EDA с фиктивными переменными. Для начала, исследуем корреляцию:"
   ]
  },
  {
   "cell_type": "code",
   "execution_count": 51,
   "metadata": {},
   "outputs": [
    {
     "data": {
      "application/vnd.plotly.v1+json": {
       "config": {
        "plotlyServerURL": "https://plot.ly"
       },
       "data": [
        {
         "coloraxis": "coloraxis",
         "hovertemplate": "name: %{x}<br>name: %{y}<br>color: %{z}<extra></extra>",
         "name": "0",
         "texttemplate": "%{z}",
         "type": "heatmap",
         "x": [
          "A15",
          "A14",
          "A13",
          "A12",
          "A11",
          "A10",
          "A9",
          "A8",
          "A7",
          "A6",
          "A5",
          "A4",
          "A3",
          "A2",
          "A1"
         ],
         "xaxis": "x",
         "y": [
          "A15",
          "A14",
          "A13",
          "A12",
          "A11",
          "A10",
          "A9",
          "A8",
          "A7",
          "A6",
          "A5",
          "A4",
          "A3",
          "A2",
          "A1"
         ],
         "yaxis": "y",
         "z": [
          [
           1,
           0.06560933417678685,
           0.10199981148927453,
           0.019201413946900687,
           0.06369243933021203,
           -0.07765182087312941,
           -0.09001190224881853,
           0.051344929144616004,
           0.10829325988641762,
           0.02370706593034189,
           0.06945126289009966,
           0.06945126289009966,
           0.12312115311068306,
           0.018538807713639777,
           0.00206299563503819
          ],
          [
           0.06560933417678685,
           1,
           0.08385077528110513,
           0.14425256202689482,
           -0.11980853030861488,
           0.053321389549892934,
           0.06738776579948422,
           -0.07638893153219234,
           -0.09551027929559022,
           -0.06390067144762948,
           0.02392708076481401,
           0.02392708076481401,
           -0.22234646763999877,
           -0.07716059329977155,
           -0.08339601603009135
          ],
          [
           0.10199981148927453,
           0.08385077528110513,
           1,
           -0.02908670197350034,
           -0.13834109504547723,
           0.24078918552048978,
           0.14535671713916992,
           -0.0475215425044186,
           -0.04510570773417035,
           -0.027939999851620715,
           0.0032215346157626126,
           0.0032215346157626126,
           -0.11697501960132992,
           -0.005675653426815091,
           -0.0754127743525381
          ],
          [
           0.019201413946900687,
           0.14425256202689482,
           -0.02908670197350034,
           1,
           0.006943759444588374,
           -0.017042805884061273,
           -0.09127576318381775,
           0.13813938108839263,
           -0.031116703230395452,
           -0.09770091213973556,
           0.016842463861037472,
           0.016842463861037472,
           -0.013023430388782604,
           0.05477842418024792,
           -0.051673692385629376
          ],
          [
           0.06369243933021203,
           -0.11980853030861488,
           -0.13834109504547723,
           0.006943759444588374,
           1,
           -0.5714981142529668,
           -0.3795319648200405,
           0.32232966790617756,
           0.028238881886831397,
           -0.0797544708117165,
           -0.11503848963289041,
           -0.11503848963289041,
           0.27120673925842986,
           0.1855749255692924,
           0.024630280099722672
          ],
          [
           -0.07765182087312941,
           0.053321389549892934,
           0.24078918552048978,
           -0.017042805884061273,
           -0.5714981142529668,
           1,
           0.4320323640883192,
           -0.2229817655736686,
           -0.0039742803678447835,
           0.14373976825292675,
           0.17776850259853227,
           0.17776850259853227,
           -0.1748459421502195,
           -0.08368121551385611,
           -0.07778354866280068
          ],
          [
           -0.09001190224881853,
           0.06738776579948422,
           0.14535671713916992,
           -0.09127576318381775,
           -0.3795319648200405,
           0.4320323640883192,
           1,
           -0.34568875590439524,
           0.06257767663681829,
           0.1617837342000001,
           0.1492267046670722,
           0.1492267046670722,
           -0.24431672082742636,
           -0.2043423873876186,
           -0.026047319910339286
          ],
          [
           0.051344929144616004,
           -0.07638893153219234,
           -0.0475215425044186,
           0.13813938108839263,
           0.32232966790617756,
           -0.2229817655736686,
           -0.34568875590439524,
           1,
           0.05950458888942235,
           -0.07423496510667793,
           -0.06304987185836886,
           -0.06304987185836886,
           0.29890155766577947,
           0.39278722766434987,
           -0.08654415710498402
          ],
          [
           0.10829325988641762,
           -0.09551027929559022,
           -0.04510570773417035,
           -0.031116703230395452,
           0.028238881886831397,
           -0.0039742803678447835,
           0.06257767663681829,
           0.05950458888942235,
           1,
           0.41935113602053264,
           0.07267779013475971,
           0.07267779013475971,
           0.1271902757336847,
           0.19026624699232902,
           0.0812370311959972
          ],
          [
           0.02370706593034189,
           -0.06390067144762948,
           -0.027939999851620715,
           -0.09770091213973556,
           -0.0797544708117165,
           0.14373976825292675,
           0.1617837342000001,
           -0.07423496510667793,
           0.41935113602053264,
           1,
           0.11268465504381023,
           0.11268465504381023,
           0.0780300552274244,
           0.12312400516777015,
           0.08969654445985141
          ],
          [
           0.06945126289009966,
           0.02392708076481401,
           0.0032215346157626126,
           0.016842463861037472,
           -0.11503848963289041,
           0.17776850259853227,
           0.1492267046670722,
           -0.06304987185836886,
           0.07267779013475971,
           0.11268465504381023,
           1,
           1,
           -0.06458397205458423,
           -0.11167018589488355,
           -0.06390314330782297
          ],
          [
           0.06945126289009966,
           0.02392708076481401,
           0.0032215346157626126,
           0.016842463861037472,
           -0.11503848963289041,
           0.17776850259853227,
           0.1492267046670722,
           -0.06304987185836886,
           0.07267779013475971,
           0.11268465504381023,
           1,
           1,
           -0.06458397205458423,
           -0.11167018589488355,
           -0.06390314330782297
          ],
          [
           0.12312115311068306,
           -0.22234646763999877,
           -0.11697501960132992,
           -0.013023430388782604,
           0.27120673925842986,
           -0.1748459421502195,
           -0.24431672082742636,
           0.29890155766577947,
           0.1271902757336847,
           0.0780300552274244,
           -0.06458397205458423,
           -0.06458397205458423,
           1,
           0.2013158145528973,
           0.04174622653107835
          ],
          [
           0.018538807713639777,
           -0.07716059329977155,
           -0.005675653426815091,
           0.05477842418024792,
           0.1855749255692924,
           -0.08368121551385611,
           -0.2043423873876186,
           0.39278722766434987,
           0.19026624699232902,
           0.12312400516777015,
           -0.11167018589488355,
           -0.11167018589488355,
           0.2013158145528973,
           1,
           -0.03560402719491742
          ],
          [
           0.00206299563503819,
           -0.08339601603009135,
           -0.0754127743525381,
           -0.051673692385629376,
           0.024630280099722672,
           -0.07778354866280068,
           -0.026047319910339286,
           -0.08654415710498402,
           0.0812370311959972,
           0.08969654445985141,
           -0.06390314330782297,
           -0.06390314330782297,
           0.04174622653107835,
           -0.03560402719491742,
           1
          ]
         ]
        }
       ],
       "layout": {
        "coloraxis": {
         "colorscale": [
          [
           0,
           "#0d0887"
          ],
          [
           0.1111111111111111,
           "#46039f"
          ],
          [
           0.2222222222222222,
           "#7201a8"
          ],
          [
           0.3333333333333333,
           "#9c179e"
          ],
          [
           0.4444444444444444,
           "#bd3786"
          ],
          [
           0.5555555555555556,
           "#d8576b"
          ],
          [
           0.6666666666666666,
           "#ed7953"
          ],
          [
           0.7777777777777778,
           "#fb9f3a"
          ],
          [
           0.8888888888888888,
           "#fdca26"
          ],
          [
           1,
           "#f0f921"
          ]
         ]
        },
        "margin": {
         "t": 60
        },
        "template": {
         "data": {
          "bar": [
           {
            "error_x": {
             "color": "#2a3f5f"
            },
            "error_y": {
             "color": "#2a3f5f"
            },
            "marker": {
             "line": {
              "color": "#E5ECF6",
              "width": 0.5
             },
             "pattern": {
              "fillmode": "overlay",
              "size": 10,
              "solidity": 0.2
             }
            },
            "type": "bar"
           }
          ],
          "barpolar": [
           {
            "marker": {
             "line": {
              "color": "#E5ECF6",
              "width": 0.5
             },
             "pattern": {
              "fillmode": "overlay",
              "size": 10,
              "solidity": 0.2
             }
            },
            "type": "barpolar"
           }
          ],
          "carpet": [
           {
            "aaxis": {
             "endlinecolor": "#2a3f5f",
             "gridcolor": "white",
             "linecolor": "white",
             "minorgridcolor": "white",
             "startlinecolor": "#2a3f5f"
            },
            "baxis": {
             "endlinecolor": "#2a3f5f",
             "gridcolor": "white",
             "linecolor": "white",
             "minorgridcolor": "white",
             "startlinecolor": "#2a3f5f"
            },
            "type": "carpet"
           }
          ],
          "choropleth": [
           {
            "colorbar": {
             "outlinewidth": 0,
             "ticks": ""
            },
            "type": "choropleth"
           }
          ],
          "contour": [
           {
            "colorbar": {
             "outlinewidth": 0,
             "ticks": ""
            },
            "colorscale": [
             [
              0,
              "#0d0887"
             ],
             [
              0.1111111111111111,
              "#46039f"
             ],
             [
              0.2222222222222222,
              "#7201a8"
             ],
             [
              0.3333333333333333,
              "#9c179e"
             ],
             [
              0.4444444444444444,
              "#bd3786"
             ],
             [
              0.5555555555555556,
              "#d8576b"
             ],
             [
              0.6666666666666666,
              "#ed7953"
             ],
             [
              0.7777777777777778,
              "#fb9f3a"
             ],
             [
              0.8888888888888888,
              "#fdca26"
             ],
             [
              1,
              "#f0f921"
             ]
            ],
            "type": "contour"
           }
          ],
          "contourcarpet": [
           {
            "colorbar": {
             "outlinewidth": 0,
             "ticks": ""
            },
            "type": "contourcarpet"
           }
          ],
          "heatmap": [
           {
            "colorbar": {
             "outlinewidth": 0,
             "ticks": ""
            },
            "colorscale": [
             [
              0,
              "#0d0887"
             ],
             [
              0.1111111111111111,
              "#46039f"
             ],
             [
              0.2222222222222222,
              "#7201a8"
             ],
             [
              0.3333333333333333,
              "#9c179e"
             ],
             [
              0.4444444444444444,
              "#bd3786"
             ],
             [
              0.5555555555555556,
              "#d8576b"
             ],
             [
              0.6666666666666666,
              "#ed7953"
             ],
             [
              0.7777777777777778,
              "#fb9f3a"
             ],
             [
              0.8888888888888888,
              "#fdca26"
             ],
             [
              1,
              "#f0f921"
             ]
            ],
            "type": "heatmap"
           }
          ],
          "heatmapgl": [
           {
            "colorbar": {
             "outlinewidth": 0,
             "ticks": ""
            },
            "colorscale": [
             [
              0,
              "#0d0887"
             ],
             [
              0.1111111111111111,
              "#46039f"
             ],
             [
              0.2222222222222222,
              "#7201a8"
             ],
             [
              0.3333333333333333,
              "#9c179e"
             ],
             [
              0.4444444444444444,
              "#bd3786"
             ],
             [
              0.5555555555555556,
              "#d8576b"
             ],
             [
              0.6666666666666666,
              "#ed7953"
             ],
             [
              0.7777777777777778,
              "#fb9f3a"
             ],
             [
              0.8888888888888888,
              "#fdca26"
             ],
             [
              1,
              "#f0f921"
             ]
            ],
            "type": "heatmapgl"
           }
          ],
          "histogram": [
           {
            "marker": {
             "pattern": {
              "fillmode": "overlay",
              "size": 10,
              "solidity": 0.2
             }
            },
            "type": "histogram"
           }
          ],
          "histogram2d": [
           {
            "colorbar": {
             "outlinewidth": 0,
             "ticks": ""
            },
            "colorscale": [
             [
              0,
              "#0d0887"
             ],
             [
              0.1111111111111111,
              "#46039f"
             ],
             [
              0.2222222222222222,
              "#7201a8"
             ],
             [
              0.3333333333333333,
              "#9c179e"
             ],
             [
              0.4444444444444444,
              "#bd3786"
             ],
             [
              0.5555555555555556,
              "#d8576b"
             ],
             [
              0.6666666666666666,
              "#ed7953"
             ],
             [
              0.7777777777777778,
              "#fb9f3a"
             ],
             [
              0.8888888888888888,
              "#fdca26"
             ],
             [
              1,
              "#f0f921"
             ]
            ],
            "type": "histogram2d"
           }
          ],
          "histogram2dcontour": [
           {
            "colorbar": {
             "outlinewidth": 0,
             "ticks": ""
            },
            "colorscale": [
             [
              0,
              "#0d0887"
             ],
             [
              0.1111111111111111,
              "#46039f"
             ],
             [
              0.2222222222222222,
              "#7201a8"
             ],
             [
              0.3333333333333333,
              "#9c179e"
             ],
             [
              0.4444444444444444,
              "#bd3786"
             ],
             [
              0.5555555555555556,
              "#d8576b"
             ],
             [
              0.6666666666666666,
              "#ed7953"
             ],
             [
              0.7777777777777778,
              "#fb9f3a"
             ],
             [
              0.8888888888888888,
              "#fdca26"
             ],
             [
              1,
              "#f0f921"
             ]
            ],
            "type": "histogram2dcontour"
           }
          ],
          "mesh3d": [
           {
            "colorbar": {
             "outlinewidth": 0,
             "ticks": ""
            },
            "type": "mesh3d"
           }
          ],
          "parcoords": [
           {
            "line": {
             "colorbar": {
              "outlinewidth": 0,
              "ticks": ""
             }
            },
            "type": "parcoords"
           }
          ],
          "pie": [
           {
            "automargin": true,
            "type": "pie"
           }
          ],
          "scatter": [
           {
            "marker": {
             "colorbar": {
              "outlinewidth": 0,
              "ticks": ""
             }
            },
            "type": "scatter"
           }
          ],
          "scatter3d": [
           {
            "line": {
             "colorbar": {
              "outlinewidth": 0,
              "ticks": ""
             }
            },
            "marker": {
             "colorbar": {
              "outlinewidth": 0,
              "ticks": ""
             }
            },
            "type": "scatter3d"
           }
          ],
          "scattercarpet": [
           {
            "marker": {
             "colorbar": {
              "outlinewidth": 0,
              "ticks": ""
             }
            },
            "type": "scattercarpet"
           }
          ],
          "scattergeo": [
           {
            "marker": {
             "colorbar": {
              "outlinewidth": 0,
              "ticks": ""
             }
            },
            "type": "scattergeo"
           }
          ],
          "scattergl": [
           {
            "marker": {
             "colorbar": {
              "outlinewidth": 0,
              "ticks": ""
             }
            },
            "type": "scattergl"
           }
          ],
          "scattermapbox": [
           {
            "marker": {
             "colorbar": {
              "outlinewidth": 0,
              "ticks": ""
             }
            },
            "type": "scattermapbox"
           }
          ],
          "scatterpolar": [
           {
            "marker": {
             "colorbar": {
              "outlinewidth": 0,
              "ticks": ""
             }
            },
            "type": "scatterpolar"
           }
          ],
          "scatterpolargl": [
           {
            "marker": {
             "colorbar": {
              "outlinewidth": 0,
              "ticks": ""
             }
            },
            "type": "scatterpolargl"
           }
          ],
          "scatterternary": [
           {
            "marker": {
             "colorbar": {
              "outlinewidth": 0,
              "ticks": ""
             }
            },
            "type": "scatterternary"
           }
          ],
          "surface": [
           {
            "colorbar": {
             "outlinewidth": 0,
             "ticks": ""
            },
            "colorscale": [
             [
              0,
              "#0d0887"
             ],
             [
              0.1111111111111111,
              "#46039f"
             ],
             [
              0.2222222222222222,
              "#7201a8"
             ],
             [
              0.3333333333333333,
              "#9c179e"
             ],
             [
              0.4444444444444444,
              "#bd3786"
             ],
             [
              0.5555555555555556,
              "#d8576b"
             ],
             [
              0.6666666666666666,
              "#ed7953"
             ],
             [
              0.7777777777777778,
              "#fb9f3a"
             ],
             [
              0.8888888888888888,
              "#fdca26"
             ],
             [
              1,
              "#f0f921"
             ]
            ],
            "type": "surface"
           }
          ],
          "table": [
           {
            "cells": {
             "fill": {
              "color": "#EBF0F8"
             },
             "line": {
              "color": "white"
             }
            },
            "header": {
             "fill": {
              "color": "#C8D4E3"
             },
             "line": {
              "color": "white"
             }
            },
            "type": "table"
           }
          ]
         },
         "layout": {
          "annotationdefaults": {
           "arrowcolor": "#2a3f5f",
           "arrowhead": 0,
           "arrowwidth": 1
          },
          "autotypenumbers": "strict",
          "coloraxis": {
           "colorbar": {
            "outlinewidth": 0,
            "ticks": ""
           }
          },
          "colorscale": {
           "diverging": [
            [
             0,
             "#8e0152"
            ],
            [
             0.1,
             "#c51b7d"
            ],
            [
             0.2,
             "#de77ae"
            ],
            [
             0.3,
             "#f1b6da"
            ],
            [
             0.4,
             "#fde0ef"
            ],
            [
             0.5,
             "#f7f7f7"
            ],
            [
             0.6,
             "#e6f5d0"
            ],
            [
             0.7,
             "#b8e186"
            ],
            [
             0.8,
             "#7fbc41"
            ],
            [
             0.9,
             "#4d9221"
            ],
            [
             1,
             "#276419"
            ]
           ],
           "sequential": [
            [
             0,
             "#0d0887"
            ],
            [
             0.1111111111111111,
             "#46039f"
            ],
            [
             0.2222222222222222,
             "#7201a8"
            ],
            [
             0.3333333333333333,
             "#9c179e"
            ],
            [
             0.4444444444444444,
             "#bd3786"
            ],
            [
             0.5555555555555556,
             "#d8576b"
            ],
            [
             0.6666666666666666,
             "#ed7953"
            ],
            [
             0.7777777777777778,
             "#fb9f3a"
            ],
            [
             0.8888888888888888,
             "#fdca26"
            ],
            [
             1,
             "#f0f921"
            ]
           ],
           "sequentialminus": [
            [
             0,
             "#0d0887"
            ],
            [
             0.1111111111111111,
             "#46039f"
            ],
            [
             0.2222222222222222,
             "#7201a8"
            ],
            [
             0.3333333333333333,
             "#9c179e"
            ],
            [
             0.4444444444444444,
             "#bd3786"
            ],
            [
             0.5555555555555556,
             "#d8576b"
            ],
            [
             0.6666666666666666,
             "#ed7953"
            ],
            [
             0.7777777777777778,
             "#fb9f3a"
            ],
            [
             0.8888888888888888,
             "#fdca26"
            ],
            [
             1,
             "#f0f921"
            ]
           ]
          },
          "colorway": [
           "#636efa",
           "#EF553B",
           "#00cc96",
           "#ab63fa",
           "#FFA15A",
           "#19d3f3",
           "#FF6692",
           "#B6E880",
           "#FF97FF",
           "#FECB52"
          ],
          "font": {
           "color": "#2a3f5f"
          },
          "geo": {
           "bgcolor": "white",
           "lakecolor": "white",
           "landcolor": "#E5ECF6",
           "showlakes": true,
           "showland": true,
           "subunitcolor": "white"
          },
          "hoverlabel": {
           "align": "left"
          },
          "hovermode": "closest",
          "mapbox": {
           "style": "light"
          },
          "paper_bgcolor": "white",
          "plot_bgcolor": "#E5ECF6",
          "polar": {
           "angularaxis": {
            "gridcolor": "white",
            "linecolor": "white",
            "ticks": ""
           },
           "bgcolor": "#E5ECF6",
           "radialaxis": {
            "gridcolor": "white",
            "linecolor": "white",
            "ticks": ""
           }
          },
          "scene": {
           "xaxis": {
            "backgroundcolor": "#E5ECF6",
            "gridcolor": "white",
            "gridwidth": 2,
            "linecolor": "white",
            "showbackground": true,
            "ticks": "",
            "zerolinecolor": "white"
           },
           "yaxis": {
            "backgroundcolor": "#E5ECF6",
            "gridcolor": "white",
            "gridwidth": 2,
            "linecolor": "white",
            "showbackground": true,
            "ticks": "",
            "zerolinecolor": "white"
           },
           "zaxis": {
            "backgroundcolor": "#E5ECF6",
            "gridcolor": "white",
            "gridwidth": 2,
            "linecolor": "white",
            "showbackground": true,
            "ticks": "",
            "zerolinecolor": "white"
           }
          },
          "shapedefaults": {
           "line": {
            "color": "#2a3f5f"
           }
          },
          "ternary": {
           "aaxis": {
            "gridcolor": "white",
            "linecolor": "white",
            "ticks": ""
           },
           "baxis": {
            "gridcolor": "white",
            "linecolor": "white",
            "ticks": ""
           },
           "bgcolor": "#E5ECF6",
           "caxis": {
            "gridcolor": "white",
            "linecolor": "white",
            "ticks": ""
           }
          },
          "title": {
           "x": 0.05
          },
          "xaxis": {
           "automargin": true,
           "gridcolor": "white",
           "linecolor": "white",
           "ticks": "",
           "title": {
            "standoff": 15
           },
           "zerolinecolor": "white",
           "zerolinewidth": 2
          },
          "yaxis": {
           "automargin": true,
           "gridcolor": "white",
           "linecolor": "white",
           "ticks": "",
           "title": {
            "standoff": 15
           },
           "zerolinecolor": "white",
           "zerolinewidth": 2
          }
         }
        },
        "title": {
         "text": "Корреляция фиктивных переменных, представляющих категориальные",
         "x": 0.5
        },
        "xaxis": {
         "anchor": "y",
         "constrain": "domain",
         "domain": [
          0,
          1
         ],
         "scaleanchor": "y",
         "title": {
          "text": "name"
         }
        },
        "yaxis": {
         "anchor": "x",
         "autorange": "reversed",
         "constrain": "domain",
         "domain": [
          0,
          1
         ],
         "title": {
          "text": "name"
         }
        }
       }
      }
     },
     "metadata": {},
     "output_type": "display_data"
    }
   ],
   "source": [
    "warnings.filterwarnings(\"ignore\")\n",
    "fig_cor = px.imshow(df.corr(), text_auto=True)\n",
    "fig_cor.update_layout(\n",
    "     title={\n",
    "        \"text\": \"Корреляция фиктивных переменных, представляющих категориальные\",\n",
    "        \"x\": 0.5\n",
    "    },\n",
    "\n",
    ")\n",
    "fig_cor.show()\n",
    "warnings.filterwarnings(\"default\")\n"
   ]
  },
  {
   "cell_type": "code",
   "execution_count": 52,
   "metadata": {},
   "outputs": [
    {
     "data": {
      "text/html": [
       "<div>\n",
       "<style scoped>\n",
       "    .dataframe tbody tr th:only-of-type {\n",
       "        vertical-align: middle;\n",
       "    }\n",
       "\n",
       "    .dataframe tbody tr th {\n",
       "        vertical-align: top;\n",
       "    }\n",
       "\n",
       "    .dataframe thead th {\n",
       "        text-align: right;\n",
       "    }\n",
       "</style>\n",
       "<table border=\"1\" class=\"dataframe\">\n",
       "  <thead>\n",
       "    <tr style=\"text-align: right;\">\n",
       "      <th>name</th>\n",
       "      <th>A15</th>\n",
       "      <th>A14</th>\n",
       "      <th>A13</th>\n",
       "      <th>A12</th>\n",
       "      <th>A11</th>\n",
       "      <th>A10</th>\n",
       "      <th>A9</th>\n",
       "      <th>A8</th>\n",
       "      <th>A7</th>\n",
       "      <th>A6</th>\n",
       "      <th>A5</th>\n",
       "      <th>A4</th>\n",
       "      <th>A3</th>\n",
       "      <th>A2</th>\n",
       "      <th>A1</th>\n",
       "    </tr>\n",
       "  </thead>\n",
       "  <tbody>\n",
       "    <tr>\n",
       "      <th>count</th>\n",
       "      <td>690.000000</td>\n",
       "      <td>690.000000</td>\n",
       "      <td>690.000000</td>\n",
       "      <td>690.000000</td>\n",
       "      <td>690.00000</td>\n",
       "      <td>690.000000</td>\n",
       "      <td>690.000000</td>\n",
       "      <td>690.000000</td>\n",
       "      <td>690.000000</td>\n",
       "      <td>690.000000</td>\n",
       "      <td>690.000000</td>\n",
       "      <td>690.000000</td>\n",
       "      <td>690.000000</td>\n",
       "      <td>690.000000</td>\n",
       "      <td>690.000000</td>\n",
       "    </tr>\n",
       "    <tr>\n",
       "      <th>mean</th>\n",
       "      <td>1017.385507</td>\n",
       "      <td>184.014771</td>\n",
       "      <td>1.105797</td>\n",
       "      <td>1.457971</td>\n",
       "      <td>2.40000</td>\n",
       "      <td>1.572464</td>\n",
       "      <td>1.476812</td>\n",
       "      <td>2.223406</td>\n",
       "      <td>1.847826</td>\n",
       "      <td>6.960870</td>\n",
       "      <td>1.242029</td>\n",
       "      <td>1.242029</td>\n",
       "      <td>4.758725</td>\n",
       "      <td>31.568171</td>\n",
       "      <td>1.304348</td>\n",
       "    </tr>\n",
       "    <tr>\n",
       "      <th>std</th>\n",
       "      <td>5210.102598</td>\n",
       "      <td>172.159274</td>\n",
       "      <td>0.343458</td>\n",
       "      <td>0.498592</td>\n",
       "      <td>4.86294</td>\n",
       "      <td>0.495080</td>\n",
       "      <td>0.499824</td>\n",
       "      <td>3.346513</td>\n",
       "      <td>1.395110</td>\n",
       "      <td>3.802822</td>\n",
       "      <td>0.435342</td>\n",
       "      <td>0.435342</td>\n",
       "      <td>4.978163</td>\n",
       "      <td>11.853273</td>\n",
       "      <td>0.460464</td>\n",
       "    </tr>\n",
       "    <tr>\n",
       "      <th>min</th>\n",
       "      <td>0.000000</td>\n",
       "      <td>0.000000</td>\n",
       "      <td>1.000000</td>\n",
       "      <td>1.000000</td>\n",
       "      <td>0.00000</td>\n",
       "      <td>1.000000</td>\n",
       "      <td>1.000000</td>\n",
       "      <td>0.000000</td>\n",
       "      <td>1.000000</td>\n",
       "      <td>1.000000</td>\n",
       "      <td>1.000000</td>\n",
       "      <td>1.000000</td>\n",
       "      <td>0.000000</td>\n",
       "      <td>13.750000</td>\n",
       "      <td>1.000000</td>\n",
       "    </tr>\n",
       "    <tr>\n",
       "      <th>25%</th>\n",
       "      <td>0.000000</td>\n",
       "      <td>80.000000</td>\n",
       "      <td>1.000000</td>\n",
       "      <td>1.000000</td>\n",
       "      <td>0.00000</td>\n",
       "      <td>1.000000</td>\n",
       "      <td>1.000000</td>\n",
       "      <td>0.165000</td>\n",
       "      <td>1.000000</td>\n",
       "      <td>3.000000</td>\n",
       "      <td>1.000000</td>\n",
       "      <td>1.000000</td>\n",
       "      <td>1.000000</td>\n",
       "      <td>22.670000</td>\n",
       "      <td>1.000000</td>\n",
       "    </tr>\n",
       "    <tr>\n",
       "      <th>50%</th>\n",
       "      <td>5.000000</td>\n",
       "      <td>160.000000</td>\n",
       "      <td>1.000000</td>\n",
       "      <td>1.000000</td>\n",
       "      <td>0.00000</td>\n",
       "      <td>2.000000</td>\n",
       "      <td>1.000000</td>\n",
       "      <td>1.000000</td>\n",
       "      <td>1.000000</td>\n",
       "      <td>7.000000</td>\n",
       "      <td>1.000000</td>\n",
       "      <td>1.000000</td>\n",
       "      <td>2.750000</td>\n",
       "      <td>28.625000</td>\n",
       "      <td>1.000000</td>\n",
       "    </tr>\n",
       "    <tr>\n",
       "      <th>75%</th>\n",
       "      <td>395.500000</td>\n",
       "      <td>272.000000</td>\n",
       "      <td>1.000000</td>\n",
       "      <td>2.000000</td>\n",
       "      <td>3.00000</td>\n",
       "      <td>2.000000</td>\n",
       "      <td>2.000000</td>\n",
       "      <td>2.625000</td>\n",
       "      <td>2.000000</td>\n",
       "      <td>10.000000</td>\n",
       "      <td>1.000000</td>\n",
       "      <td>1.000000</td>\n",
       "      <td>7.207500</td>\n",
       "      <td>37.707500</td>\n",
       "      <td>2.000000</td>\n",
       "    </tr>\n",
       "    <tr>\n",
       "      <th>max</th>\n",
       "      <td>100000.000000</td>\n",
       "      <td>2000.000000</td>\n",
       "      <td>3.000000</td>\n",
       "      <td>2.000000</td>\n",
       "      <td>67.00000</td>\n",
       "      <td>2.000000</td>\n",
       "      <td>2.000000</td>\n",
       "      <td>28.500000</td>\n",
       "      <td>9.000000</td>\n",
       "      <td>14.000000</td>\n",
       "      <td>3.000000</td>\n",
       "      <td>3.000000</td>\n",
       "      <td>28.000000</td>\n",
       "      <td>80.250000</td>\n",
       "      <td>2.000000</td>\n",
       "    </tr>\n",
       "  </tbody>\n",
       "</table>\n",
       "</div>"
      ],
      "text/plain": [
       "name             A15          A14         A13         A12        A11  \\\n",
       "count     690.000000   690.000000  690.000000  690.000000  690.00000   \n",
       "mean     1017.385507   184.014771    1.105797    1.457971    2.40000   \n",
       "std      5210.102598   172.159274    0.343458    0.498592    4.86294   \n",
       "min         0.000000     0.000000    1.000000    1.000000    0.00000   \n",
       "25%         0.000000    80.000000    1.000000    1.000000    0.00000   \n",
       "50%         5.000000   160.000000    1.000000    1.000000    0.00000   \n",
       "75%       395.500000   272.000000    1.000000    2.000000    3.00000   \n",
       "max    100000.000000  2000.000000    3.000000    2.000000   67.00000   \n",
       "\n",
       "name          A10          A9          A8          A7          A6          A5  \\\n",
       "count  690.000000  690.000000  690.000000  690.000000  690.000000  690.000000   \n",
       "mean     1.572464    1.476812    2.223406    1.847826    6.960870    1.242029   \n",
       "std      0.495080    0.499824    3.346513    1.395110    3.802822    0.435342   \n",
       "min      1.000000    1.000000    0.000000    1.000000    1.000000    1.000000   \n",
       "25%      1.000000    1.000000    0.165000    1.000000    3.000000    1.000000   \n",
       "50%      2.000000    1.000000    1.000000    1.000000    7.000000    1.000000   \n",
       "75%      2.000000    2.000000    2.625000    2.000000   10.000000    1.000000   \n",
       "max      2.000000    2.000000   28.500000    9.000000   14.000000    3.000000   \n",
       "\n",
       "name           A4          A3          A2          A1  \n",
       "count  690.000000  690.000000  690.000000  690.000000  \n",
       "mean     1.242029    4.758725   31.568171    1.304348  \n",
       "std      0.435342    4.978163   11.853273    0.460464  \n",
       "min      1.000000    0.000000   13.750000    1.000000  \n",
       "25%      1.000000    1.000000   22.670000    1.000000  \n",
       "50%      1.000000    2.750000   28.625000    1.000000  \n",
       "75%      1.000000    7.207500   37.707500    2.000000  \n",
       "max      3.000000   28.000000   80.250000    2.000000  "
      ]
     },
     "execution_count": 52,
     "metadata": {},
     "output_type": "execute_result"
    }
   ],
   "source": [
    "df.describe()"
   ]
  },
  {
   "cell_type": "markdown",
   "metadata": {},
   "source": [
    "Разделим нашу выборку на тестовую и валидационную"
   ]
  },
  {
   "cell_type": "code",
   "execution_count": 53,
   "metadata": {},
   "outputs": [],
   "source": [
    "X_train, X_test, y_train, y_test = train_test_split(df, target, test_size=0.2, random_state=42)\n"
   ]
  },
  {
   "cell_type": "markdown",
   "metadata": {},
   "source": [
    "## Постановка задачи ##\n"
   ]
  },
  {
   "cell_type": "markdown",
   "metadata": {},
   "source": [
    "Наш датасэт представляет собой данные об одобрении заявление на получение кредитных карт. Иными словами, на вход поступает вектор признаков, на основе которых банк выдает категориальный ответ: \"одобрено\" или \"неодобрено\".\n",
    "\n",
    "Для банка важно с хорошей точностью определять добросовестных и недобросовестных заемщиков, чтобы не допустить как большой доли упущенной выгоды (в случае, если откажут хорошему заемщику), так и больших потерь (слишком много одобренных кредитов, которые потом не возвращаются).\n",
    "\n",
    "Наша цель: по вектору признаков с хорошей точностью классифицировать \"хороших\" и \"плохих\" заемщиков."
   ]
  },
  {
   "cell_type": "markdown",
   "metadata": {},
   "source": [
    "## Методы оценивания ##\n",
    "В нашей работе основными инструментами оценивания точности модели будут показатели, получаемые из  *Матрицы ошибок*.\n",
    "Для начала объясним структуру матрицы ошибок:"
   ]
  },
  {
   "cell_type": "markdown",
   "metadata": {},
   "source": [
    "![](https://i.ibb.co/C88Tvps/metrix1.png)"
   ]
  },
  {
   "cell_type": "markdown",
   "metadata": {},
   "source": [
    "**Пусть:**\n",
    "\n",
    "0 — объекты относятся к нулевому классу, (в нашей модели - отказ в выдаче займа)\n",
    "\n",
    "1 — объекты относятся к классу 1 (в нашей задаче - одобренный займ).\n",
    "\n",
    "\n",
    "**Матрица ошибок** - матрица, в нашем случае размера 2 на 2, такая что столбцы означают то, к какому классу объект относится в реальности, а строки - к какому признаку относится объект по прогнозу модели. В ячейках на пересечении обычно записываются числа, означающие количество объектов на валидационной выборке с одной из 4 возможных комбинаций. \n",
    "\n",
    "\n",
    "**С помощью матрицы ошибок мы можем ввести несколько следующих метрик:**\n",
    "\n",
    "\n",
    "**Accuracy:** $(TP + TN)/(TP + TN + FP + FN)$ -- доля исходов, которую наша модель определила правильно\n",
    "\n",
    "**Precision:** $TP/ (TP + FP)$ -- какая доля от предсказанных объектов класса 1 и в реальности является объектом класса 1.\n",
    "\n",
    "**Recall:** $TP / (TP + FN)$ -- какая доля от тех значений, которые в  реальности должны относится к классу 1, были правильно определены моделью.\n",
    "\n",
    "\n",
    "**Иными словами, в условиях нашей задачи:**\n",
    "\n",
    "**Precision** - сколько мы выдали кредитов тем людям, которым должны были выдать в реальности. Тут учитывается, что, мы могли выдать кредиты тем, кто в последствии будет недобросовестным заемщиком (то есть в реальности принадлежит классу 0). Из-за этого банк может понести убытки\n",
    "\n",
    "**Recall** - сколько мы выдали кредитов тем, кто должен был их получить, с учетом того, что мы отсеяли какую-то часть добросовестных заемщиков (представителей класса 1) и как банк упустили выгоду. Recall - способность нашей модели определять класс 1.\n",
    "\n",
    "Для  банка важнее максимизировать  Precision , так как это поможет избежать больших убытков в случае, если модель будет выдавать слишком много займов недобросовестным заемщикам (слишком большое число FP)\n"
   ]
  },
  {
   "cell_type": "markdown",
   "metadata": {},
   "source": [
    "## Тестирование разных моделей машинного обучения ##"
   ]
  },
  {
   "cell_type": "markdown",
   "metadata": {},
   "source": [
    "Начнём обучать различные моделями машинного обучения."
   ]
  },
  {
   "cell_type": "markdown",
   "metadata": {},
   "source": [
    "## Рассмотрим самую простую модель - линейной регрессии:"
   ]
  },
  {
   "cell_type": "markdown",
   "metadata": {},
   "source": [
    "Стоит сразу заметить и обозначить, что линейная регрессия не является наилучшим выбором для задачи кредитного скоринга, поскольку она предназначена для решения задачи регрессии (предсказание непрерывного числового значения), в то время как задача кредитного скоринга является задачей классификации (предсказание бинарного результата: одобрение кредита или отказ).\n",
    "\n",
    "Мы же рассмотрим эту обучим эту модель для примера и небольшого анализа её работы. Кроме того, познакомим читателя с базовой структурой рассмотрения модели, включая вывод матрицы ошибок."
   ]
  },
  {
   "cell_type": "code",
   "execution_count": 54,
   "metadata": {},
   "outputs": [
    {
     "name": "stdout",
     "output_type": "stream",
     "text": [
      "Среднеквадратичная ошибка (MSE): 0.13458523569804262\n",
      "Коэффициент детерминации (R^2): 0.4615459603711085\n",
      "\n",
      "   Признак  Коэффициент\n",
      "0      A15     0.000014\n",
      "1      A14    -0.000063\n",
      "2      A13     0.066686\n",
      "3      A12    -0.028628\n",
      "4      A11     0.007701\n",
      "5      A10    -0.117320\n",
      "6       A9    -0.610784\n",
      "7       A8     0.007935\n",
      "8       A7    -0.005002\n",
      "9       A6    -0.007314\n",
      "10      A5    -0.031922\n",
      "11      A4    -0.031922\n",
      "12      A3    -0.002642\n",
      "13      A2     0.001461\n",
      "14      A1     0.025642\n"
     ]
    }
   ],
   "source": [
    "# создание модели линейной регрессии\n",
    "model = LinearRegression()\n",
    "\n",
    "# обучение модели\n",
    "model.fit(X_train, y_train)\n",
    "\n",
    "# получение прогнозов\n",
    "y_pred = model.predict(X_test)\n",
    "\n",
    "# оценка качества модели\n",
    "mse = mean_squared_error(y_test, y_pred)\n",
    "r2 = r2_score(y_test, y_pred)\n",
    "\n",
    "# вывод результатов\n",
    "print(f\"Среднеквадратичная ошибка (MSE): {mse}\")\n",
    "print(f\"Коэффициент детерминации (R^2): {r2}\")\n",
    "\n",
    "print(\"\")\n",
    "\n",
    "# получение коэффициентов регрессии\n",
    "coefficients = pd.DataFrame({'Признак': X_train.columns, 'Коэффициент': model.coef_})\n",
    "print(coefficients)"
   ]
  },
  {
   "cell_type": "markdown",
   "metadata": {},
   "source": [
    "Как мы уже договорились выше, линейная регрессия получила в y_pred набор некоторых действительных числовых значений. Так как в валидационной выборке y_train для каждого набора значений переменных лишь 0 или 1 (выдан кредит или нет), то и значение эти самые значения в y_pred должны жить в отрезке от нуля до единицы (либо, во всяком случае, если превосходить по модулю единицу, то не сильно)"
   ]
  },
  {
   "cell_type": "markdown",
   "metadata": {},
   "source": [
    "Тогда, заменим значения в y_pred на единицу в случае, если они ближе к ней, чем к нулю, и наоборот.\n"
   ]
  },
  {
   "cell_type": "code",
   "execution_count": 55,
   "metadata": {},
   "outputs": [
    {
     "name": "stdout",
     "output_type": "stream",
     "text": [
      "[0.11550812 0.64222475 0.03047043 0.04802423 0.00371144]\n",
      "float64\n",
      "\n",
      "[0 1 0 0 0]\n",
      "int64\n"
     ]
    }
   ],
   "source": [
    "threshold = 0.5\n",
    "\n",
    "# создание массива с замененными значениями\n",
    "y_pred_new = np.where(y_pred < threshold, 0, 1)\n",
    "\n",
    "# посмотрим срез из 5 элементов в старом и новом массивах, а также на типы данных, содержащихся в них\n",
    "print(y_pred[:5])\n",
    "print(y_pred.dtype)\n",
    "print(\"\")\n",
    "print(y_pred_new[:5])\n",
    "print(y_pred_new.dtype)"
   ]
  },
  {
   "cell_type": "markdown",
   "metadata": {},
   "source": [
    "Проиллюстрируем работу модели линейной регрессии через матрицу ошибок:"
   ]
  },
  {
   "cell_type": "code",
   "execution_count": 56,
   "metadata": {},
   "outputs": [
    {
     "data": {
      "image/png": "[encoded data removed]",
      "text/plain": [
       "<Figure size 432x288 with 2 Axes>"
      ]
     },
     "metadata": {
      "needs_background": "light"
     },
     "output_type": "display_data"
    }
   ],
   "source": [
    "from sklearn.metrics import accuracy_score, confusion_matrix, classification_report\n",
    "\n",
    "cm = confusion_matrix(y_test, y_pred_new)\n",
    "\n",
    "warnings.filterwarnings(\"ignore\")\n",
    "fig_mis = px.imshow(cm, text_auto=True)\n",
    "sns.heatmap(cm, annot=True, fmt='d')\n",
    "plt.xlabel('Actual')\n",
    "plt.ylabel('Predicted')\n",
    "plt.show()\n",
    "warnings.filterwarnings(\"default\")"
   ]
  },
  {
   "cell_type": "code",
   "execution_count": 57,
   "metadata": {},
   "outputs": [
    {
     "name": "stdout",
     "output_type": "stream",
     "text": [
      "accuracy_score= 0.826\n",
      "recall_score = 0.886\n",
      "precision_score = 0.795\n"
     ]
    }
   ],
   "source": [
    "print('accuracy_score= {:.3f}'.format(accuracy_score(y_test, y_pred_new)))\n",
    "print('recall_score = {:.3f}'.format(recall_score(y_test, y_pred_new)))\n",
    "print('precision_score = {:.3f}'.format(precision_score(y_test, y_pred_new)))"
   ]
  },
  {
   "cell_type": "markdown",
   "metadata": {},
   "source": [
    "Заметим, что в теории, возможно перебрать значения threshold так, чтобы приблизиться к логике принятия решений в банке. За этим стоит следующая логика - положим, что у банка есть некоторый действительный числовой рейтинг потенциального заемщика, который хранится в y_pred. Так как принятие решения о выдаче или невыдаче кредита влечёт крупные риски, которые описывались нами выше, то и банк вероятно не будет выдавать кредит заемщику с рейтингом около среднего или чуть выше него. \n",
    "\n",
    "Однако кроме того, что это с высокой вероятностью приведёт к переобучению, мы слишком много времени уделили линейной регрессии - пора переходить к следующим моделям."
   ]
  },
  {
   "cell_type": "markdown",
   "metadata": {},
   "source": [
    "### Теперь рассмотрим модель логистической регрессии:"
   ]
  },
  {
   "cell_type": "markdown",
   "metadata": {},
   "source": [
    "Логистическая регрессия - это статистический метод машинного обучения, который используется для моделирования вероятности бинарного (в данном случае) события в зависимости от некоторых признаков. В данном случае она будет являться методом классификации, который применяется для прогнозирования вероятности принадлежности объекта к одному из двух классов (например, \"1\" или \"0\").\n",
    "\n",
    "Переформулировав модель на язык задачи кредитного скоринга, мы можем сказать, что логистическая регрессия в контексте кредитного скоринга используется для определения вероятности того, будет ли заявителю выдан кредит (класс \"1\") или не будет (класс \"0\") на основе различных признаков и их влияния на решение банка."
   ]
  },
  {
   "cell_type": "markdown",
   "metadata": {},
   "source": [
    "Как и в практически любой модели машинного обучения, у логистической регрессии есть ряд так называемых гиперпараметров (это параметры самой модели, задаваемые до обучения).\n",
    "В частности, для достижения наилучшей точности, мы можем работать с\n",
    "\n",
    "гиперпараметрами регуляризации (те, что, говоря простым языком, боряются с переобучением), например \"penalty\" (тип регуляризации) и \"c\" (обратное значение коэффициента регуляризации);\n",
    "\n",
    "с гиперпараметрами оптимизации алгоритма - max_iter (максимальное количество итераций алгоритма - по умолчанию равен 100 для логистической регресси в sklearn), solver (важный параметр, фиксирующий сам алгоритм оптимизации);\n",
    "\n",
    "а также некоторые другие, которые мы рассматривать не будем, так как они в основном важны для задач многоклассовой классификации, тогда как мы имеем дело с бинарной."
   ]
  },
  {
   "cell_type": "markdown",
   "metadata": {},
   "source": [
    "Исходя из данной нам для исследования выборки и поставленной задачи, рассмотрим только гиперпараметры оптимизации, поскольку рандомизированное деление выборки на валидационную и тестовую обеспечит достаточную точность.\n",
    "\n",
    "Переберём доступные solver-ы, а также установим необходимое количество итераций для сходимости accuracy модели к нужной нам точности. Заранее предположим, что лучшую точность в нашей задаче обеспечит либо solver=\"liblinear\", который подходит для сравнительно небольших наборов данных с задачами бинарной классификацией, либо solver=\"lbfgs\", который подходит для чуть больших размеров датасетов, включая как бинарную, так и многоклассовую классификацию."
   ]
  },
  {
   "cell_type": "code",
   "execution_count": 58,
   "metadata": {},
   "outputs": [
    {
     "name": "stdout",
     "output_type": "stream",
     "text": [
      "Лучший solver: lbfgs\n",
      "Лучшее количество итераций (max_iter): 5000\n",
      "Лучшая accuracy: 0.8260869565217391\n"
     ]
    }
   ],
   "source": [
    "from sklearn.model_selection import train_test_split\n",
    "from sklearn.linear_model import LogisticRegression\n",
    "\n",
    "# доступные solver-ы для модели логистической регрессии в sklearn\n",
    "solvers = ['liblinear', 'lbfgs', 'newton-cg', 'sag', 'saga']\n",
    "# возможные значения достаточного количество итераций для сходимости модели\n",
    "max_iters = [10, 100, 500, 1000, 5000, 5100, 10000] \n",
    "\n",
    "# некоторые переменные для удобства\n",
    "best_accuracy = 0\n",
    "best_solver = None\n",
    "best_max_iter = None\n",
    "\n",
    "# игнорируем предупреждения о недостаточном количестве итераций\n",
    "warnings.filterwarnings(\"ignore\")\n",
    "\n",
    "for solver in solvers:\n",
    "    for max_iter in max_iters:\n",
    "        model = LogisticRegression(solver=solver, max_iter=max_iter)\n",
    "        model.fit(X_train, y_train)\n",
    "        y_pred = model.predict(X_test)\n",
    "        accuracy = accuracy_score(y_test, y_pred)\n",
    "\n",
    "        if accuracy > best_accuracy:\n",
    "            best_accuracy = accuracy\n",
    "            best_solver = solver\n",
    "            best_max_iter = max_iter\n",
    "            \n",
    "# восстанавливаем вывод предупреждений\n",
    "warnings.filterwarnings(\"default\")\n",
    "\n",
    "print(\"Лучший solver:\", best_solver)\n",
    "print(\"Лучшее количество итераций (max_iter):\", best_max_iter)\n",
    "print(\"Лучшая accuracy:\", best_accuracy)\n"
   ]
  },
  {
   "cell_type": "markdown",
   "metadata": {},
   "source": [
    "Проиллюстрируем наглядно, почему для solver=\"lbfgs\" оптимальное количество итераций - 5000:"
   ]
  },
  {
   "cell_type": "code",
   "execution_count": 59,
   "metadata": {},
   "outputs": [
    {
     "data": {
      "image/png": "[encoded data removed]",
      "text/plain": [
       "<Figure size 720x432 with 1 Axes>"
      ]
     },
     "metadata": {
      "needs_background": "light"
     },
     "output_type": "display_data"
    }
   ],
   "source": [
    "model = LogisticRegression(solver=\"lbfgs\", max_iter=5000)\n",
    "iterations = []\n",
    "accuracies = []\n",
    "\n",
    "max_iter_values = [10, 20, 50, 100, 200, 500, 1000, 5000, 10000]\n",
    "\n",
    "warnings.filterwarnings(\"ignore\")\n",
    "\n",
    "# обучение модели и запись точности\n",
    "for max_iter in max_iter_values:\n",
    "    model.max_iter = max_iter\n",
    "    model.fit(X_train, y_train)\n",
    "    y_pred = model.predict(X_test)\n",
    "    accuracy = accuracy_score(y_test, y_pred)\n",
    "    iterations.append(max_iter)\n",
    "    accuracies.append(accuracy)\n",
    "    \n",
    "warnings.filterwarnings(\"default\")\n",
    "\n",
    "plt.figure(figsize=(10, 6))\n",
    "plt.plot(iterations, accuracies, marker='o')\n",
    "plt.title('Зависимость точности от количества итераций')\n",
    "plt.xlabel('Количество итераций')\n",
    "plt.ylabel('Точность')\n",
    "plt.grid(True)\n",
    "plt.show()\n"
   ]
  },
  {
   "cell_type": "markdown",
   "metadata": {},
   "source": [
    "Определившись с выбором гиперпараметров, обучим нашу финальную версию модели логистической регрессии и рассмотрим её матрицу ошибок:"
   ]
  },
  {
   "cell_type": "code",
   "execution_count": 60,
   "metadata": {},
   "outputs": [
    {
     "data": {
      "image/png": "[encoded data removed]",
      "text/plain": [
       "<Figure size 432x288 with 2 Axes>"
      ]
     },
     "metadata": {
      "needs_background": "light"
     },
     "output_type": "display_data"
    }
   ],
   "source": [
    "# создание модели логистической регрессии\n",
    "model = LogisticRegression(solver = \"lbfgs\", max_iter = 5000)\n",
    "\n",
    "# обучение модели\n",
    "model.fit(X_train, y_train)\n",
    "\n",
    "# получение прогнозов\n",
    "y_pred = model.predict(X_test)\n",
    "\n",
    "# оценка качества модели\n",
    "accuracy = accuracy_score(y_test, y_pred)\n",
    "cm = confusion_matrix(y_test, y_pred)\n",
    "\n",
    "warnings.filterwarnings(\"ignore\")\n",
    "fig_mis = px.imshow(cm, text_auto=True)\n",
    "sns.heatmap(cm, annot=True, fmt='d')\n",
    "plt.xlabel('Actual')\n",
    "plt.ylabel('Predicted')\n",
    "plt.show()\n",
    "warnings.filterwarnings(\"default\")\n"
   ]
  },
  {
   "cell_type": "code",
   "execution_count": 61,
   "metadata": {},
   "outputs": [
    {
     "name": "stdout",
     "output_type": "stream",
     "text": [
      "accuracy_score= 0.826\n",
      "recall_score = 0.829\n",
      "precision_score = 0.829\n"
     ]
    }
   ],
   "source": [
    "print('accuracy_score= {:.3f}'.format(accuracy_score(y_test, y_pred)))\n",
    "print('recall_score = {:.3f}'.format(recall_score(y_test, y_pred)))\n",
    "print('precision_score = {:.3f}'.format(precision_score(y_test, y_pred)))"
   ]
  },
  {
   "cell_type": "markdown",
   "metadata": {},
   "source": [
    "## Модель классификации ##"
   ]
  },
  {
   "cell_type": "markdown",
   "metadata": {},
   "source": [
    "Так как наша таргетная переменная представляет собой бинарыный категориальный признак (\"одобрен\" или \"не одобрен\" кредит), то задачу предсказания таких ответов можно отнести к задаче классификации в машинном обучении.\n",
    "\n",
    "Задача классификации – получение категориального ответа на основе набора признаков. \n",
    "Классификацию можно производить с помощью множества алгоритмов, но мы рассмотрим один из самых простых - метод случайного леса."
   ]
  },
  {
   "cell_type": "markdown",
   "metadata": {},
   "source": [
    "**Метод случайного леса (англ. random forest)** — алгоритм машинного обучения, заключающийся в использовании ансамбля решающих деревьев. "
   ]
  },
  {
   "cell_type": "markdown",
   "metadata": {},
   "source": [
    "Этот алгоритм основывается на том, что случайным образом строятся несколько деревьев решений, каждое из которых определяет значение класса таргетной категориальной переменной  (например, 0 или 1). После этого определяется предсказание: в условиях задачи классификации класс с наибольшим числом голосов от случайных деревье становится прогнозом алгоритма. \n",
    "\n",
    "Случайность в построении деревьев достигается таким образом: случайным образом выбираются с повторениями примеры из исходных данных, чтобы создать подвыборки для каждого дерева, далее эти подвыборки делятся на узлы дерева по одному на каждый, и так строится дерево решений различной глубины. \n",
    "\n",
    "По умолчанию в функции из библиотеки sklearn количество деревьев в лесу - 10."
   ]
  },
  {
   "cell_type": "markdown",
   "metadata": {},
   "source": [
    "![](https://serokell.io/files/vz/vz1f8191.Ensemble-of-decision-trees.png)"
   ]
  },
  {
   "cell_type": "markdown",
   "metadata": {},
   "source": [
    "У функции ```RandomForestClassifier``` существует несколько параметров, но остановимся подробнее на двух основных:\n",
    "- n_estimators (по умолчанию: 100): Этот параметр указывает количество деревьев в случайном лесе. Большее число деревьев может улучшить качество модели, но также может увеличить время обучения. В этом мы убедимся чуть позже.\n",
    "\n",
    "\n",
    "- max_depth (по умолчанию: None): Этот параметр ограничивает максимальную глубину каждого дерева в случайном лесе. Если установлено значение None, деревья не будут ограничены по глубине.\n"
   ]
  },
  {
   "cell_type": "code",
   "execution_count": 62,
   "metadata": {},
   "outputs": [
    {
     "name": "stdout",
     "output_type": "stream",
     "text": [
      "Model accuracy: 0.8623\n"
     ]
    }
   ],
   "source": [
    "rfc = RandomForestClassifier(random_state=0)\n",
    "rfc.fit(X_train, y_train)\n",
    "y_pred = rfc.predict(X_test)\n",
    "mse = mean_squared_error(y_test, y_pred)\n",
    "print('Model accuracy: {0:0.4f}'. format(accuracy_score(y_test, y_pred)))"
   ]
  },
  {
   "cell_type": "markdown",
   "metadata": {},
   "source": [
    "Выведу основные метрики точности модели и проиллюстрирую ее работу на матрице ошибок:\n",
    "\n",
    "\n",
    "\n"
   ]
  },
  {
   "cell_type": "code",
   "execution_count": 63,
   "metadata": {},
   "outputs": [
    {
     "data": {
      "image/png": "[encoded data removed]",
      "text/plain": [
       "<Figure size 432x288 with 2 Axes>"
      ]
     },
     "metadata": {
      "needs_background": "light"
     },
     "output_type": "display_data"
    }
   ],
   "source": [
    "cm = confusion_matrix(y_test, y_pred)\n",
    "\n",
    "warnings.filterwarnings(\"ignore\")\n",
    "fig_mis = px.imshow(cm, text_auto=True)\n",
    "sns.heatmap(cm, annot=True, fmt='d')\n",
    "plt.xlabel('Actual')\n",
    "plt.ylabel('Predicted')\n",
    "plt.show()\n",
    "warnings.filterwarnings(\"default\")"
   ]
  },
  {
   "cell_type": "code",
   "execution_count": 64,
   "metadata": {},
   "outputs": [
    {
     "name": "stdout",
     "output_type": "stream",
     "text": [
      "accuracy_score= 0.862\n",
      "recall_score = 0.800\n",
      "precision_score = 0.918\n",
      "Среднеквадратичная ошибка (MSE): 0.13768115942028986\n"
     ]
    }
   ],
   "source": [
    "print('accuracy_score= {:.3f}'.format(accuracy_score(y_test, y_pred)))\n",
    "print('recall_score = {:.3f}'.format(recall_score(y_test, y_pred)))\n",
    "print('precision_score = {:.3f}'.format(precision_score(y_test, y_pred)))\n",
    "print(f\"Среднеквадратичная ошибка (MSE): {mse}\")"
   ]
  },
  {
   "cell_type": "markdown",
   "metadata": {},
   "source": [
    "Так же библиотека позволяет нам вывести \"важность\" каждого признака в предсказаниях деревьев:"
   ]
  },
  {
   "cell_type": "code",
   "execution_count": 65,
   "metadata": {},
   "outputs": [
    {
     "data": {
      "text/plain": [
       "name\n",
       "A9     0.303131\n",
       "A8     0.106889\n",
       "A11    0.092417\n",
       "A15    0.082871\n",
       "A2     0.075874\n",
       "A3     0.072177\n",
       "A14    0.069325\n",
       "A10    0.055627\n",
       "A6     0.049274\n",
       "A7     0.027653\n",
       "A13    0.016236\n",
       "A12    0.014481\n",
       "A5     0.013110\n",
       "A1     0.011151\n",
       "A4     0.009785\n",
       "dtype: float64"
      ]
     },
     "execution_count": 65,
     "metadata": {},
     "output_type": "execute_result"
    }
   ],
   "source": [
    "features_importance = pd.Series(rfc.feature_importances_, index=X_train.columns).sort_values(ascending=False)\n",
    "features_importance"
   ]
  },
  {
   "cell_type": "code",
   "execution_count": 66,
   "metadata": {},
   "outputs": [
    {
     "data": {
      "application/vnd.plotly.v1+json": {
       "config": {
        "plotlyServerURL": "https://plot.ly"
       },
       "data": [
        {
         "alignmentgroup": "True",
         "hovertemplate": "x=%{x}<br>y=%{y}<extra></extra>",
         "legendgroup": "",
         "marker": {
          "color": "#636efa",
          "pattern": {
           "shape": ""
          }
         },
         "name": "",
         "offsetgroup": "",
         "orientation": "v",
         "showlegend": false,
         "textposition": "auto",
         "type": "bar",
         "x": [
          "A9",
          "A8",
          "A11",
          "A15",
          "A2",
          "A3",
          "A14",
          "A10",
          "A6",
          "A7",
          "A13",
          "A12",
          "A5",
          "A1",
          "A4"
         ],
         "xaxis": "x",
         "y": [
          0.3031306980081136,
          0.10688856380757633,
          0.09241732558705969,
          0.08287051783716554,
          0.07587411340319707,
          0.07217717158772871,
          0.06932478358437058,
          0.05562748042628814,
          0.04927448618002489,
          0.027652636397963087,
          0.01623591467065938,
          0.01448117691801385,
          0.01310975298680527,
          0.011150762152409057,
          0.009784616452624947
         ],
         "yaxis": "y"
        }
       ],
       "layout": {
        "barmode": "relative",
        "legend": {
         "tracegroupgap": 0
        },
        "margin": {
         "t": 60
        },
        "template": {
         "data": {
          "bar": [
           {
            "error_x": {
             "color": "#2a3f5f"
            },
            "error_y": {
             "color": "#2a3f5f"
            },
            "marker": {
             "line": {
              "color": "#E5ECF6",
              "width": 0.5
             },
             "pattern": {
              "fillmode": "overlay",
              "size": 10,
              "solidity": 0.2
             }
            },
            "type": "bar"
           }
          ],
          "barpolar": [
           {
            "marker": {
             "line": {
              "color": "#E5ECF6",
              "width": 0.5
             },
             "pattern": {
              "fillmode": "overlay",
              "size": 10,
              "solidity": 0.2
             }
            },
            "type": "barpolar"
           }
          ],
          "carpet": [
           {
            "aaxis": {
             "endlinecolor": "#2a3f5f",
             "gridcolor": "white",
             "linecolor": "white",
             "minorgridcolor": "white",
             "startlinecolor": "#2a3f5f"
            },
            "baxis": {
             "endlinecolor": "#2a3f5f",
             "gridcolor": "white",
             "linecolor": "white",
             "minorgridcolor": "white",
             "startlinecolor": "#2a3f5f"
            },
            "type": "carpet"
           }
          ],
          "choropleth": [
           {
            "colorbar": {
             "outlinewidth": 0,
             "ticks": ""
            },
            "type": "choropleth"
           }
          ],
          "contour": [
           {
            "colorbar": {
             "outlinewidth": 0,
             "ticks": ""
            },
            "colorscale": [
             [
              0,
              "#0d0887"
             ],
             [
              0.1111111111111111,
              "#46039f"
             ],
             [
              0.2222222222222222,
              "#7201a8"
             ],
             [
              0.3333333333333333,
              "#9c179e"
             ],
             [
              0.4444444444444444,
              "#bd3786"
             ],
             [
              0.5555555555555556,
              "#d8576b"
             ],
             [
              0.6666666666666666,
              "#ed7953"
             ],
             [
              0.7777777777777778,
              "#fb9f3a"
             ],
             [
              0.8888888888888888,
              "#fdca26"
             ],
             [
              1,
              "#f0f921"
             ]
            ],
            "type": "contour"
           }
          ],
          "contourcarpet": [
           {
            "colorbar": {
             "outlinewidth": 0,
             "ticks": ""
            },
            "type": "contourcarpet"
           }
          ],
          "heatmap": [
           {
            "colorbar": {
             "outlinewidth": 0,
             "ticks": ""
            },
            "colorscale": [
             [
              0,
              "#0d0887"
             ],
             [
              0.1111111111111111,
              "#46039f"
             ],
             [
              0.2222222222222222,
              "#7201a8"
             ],
             [
              0.3333333333333333,
              "#9c179e"
             ],
             [
              0.4444444444444444,
              "#bd3786"
             ],
             [
              0.5555555555555556,
              "#d8576b"
             ],
             [
              0.6666666666666666,
              "#ed7953"
             ],
             [
              0.7777777777777778,
              "#fb9f3a"
             ],
             [
              0.8888888888888888,
              "#fdca26"
             ],
             [
              1,
              "#f0f921"
             ]
            ],
            "type": "heatmap"
           }
          ],
          "heatmapgl": [
           {
            "colorbar": {
             "outlinewidth": 0,
             "ticks": ""
            },
            "colorscale": [
             [
              0,
              "#0d0887"
             ],
             [
              0.1111111111111111,
              "#46039f"
             ],
             [
              0.2222222222222222,
              "#7201a8"
             ],
             [
              0.3333333333333333,
              "#9c179e"
             ],
             [
              0.4444444444444444,
              "#bd3786"
             ],
             [
              0.5555555555555556,
              "#d8576b"
             ],
             [
              0.6666666666666666,
              "#ed7953"
             ],
             [
              0.7777777777777778,
              "#fb9f3a"
             ],
             [
              0.8888888888888888,
              "#fdca26"
             ],
             [
              1,
              "#f0f921"
             ]
            ],
            "type": "heatmapgl"
           }
          ],
          "histogram": [
           {
            "marker": {
             "pattern": {
              "fillmode": "overlay",
              "size": 10,
              "solidity": 0.2
             }
            },
            "type": "histogram"
           }
          ],
          "histogram2d": [
           {
            "colorbar": {
             "outlinewidth": 0,
             "ticks": ""
            },
            "colorscale": [
             [
              0,
              "#0d0887"
             ],
             [
              0.1111111111111111,
              "#46039f"
             ],
             [
              0.2222222222222222,
              "#7201a8"
             ],
             [
              0.3333333333333333,
              "#9c179e"
             ],
             [
              0.4444444444444444,
              "#bd3786"
             ],
             [
              0.5555555555555556,
              "#d8576b"
             ],
             [
              0.6666666666666666,
              "#ed7953"
             ],
             [
              0.7777777777777778,
              "#fb9f3a"
             ],
             [
              0.8888888888888888,
              "#fdca26"
             ],
             [
              1,
              "#f0f921"
             ]
            ],
            "type": "histogram2d"
           }
          ],
          "histogram2dcontour": [
           {
            "colorbar": {
             "outlinewidth": 0,
             "ticks": ""
            },
            "colorscale": [
             [
              0,
              "#0d0887"
             ],
             [
              0.1111111111111111,
              "#46039f"
             ],
             [
              0.2222222222222222,
              "#7201a8"
             ],
             [
              0.3333333333333333,
              "#9c179e"
             ],
             [
              0.4444444444444444,
              "#bd3786"
             ],
             [
              0.5555555555555556,
              "#d8576b"
             ],
             [
              0.6666666666666666,
              "#ed7953"
             ],
             [
              0.7777777777777778,
              "#fb9f3a"
             ],
             [
              0.8888888888888888,
              "#fdca26"
             ],
             [
              1,
              "#f0f921"
             ]
            ],
            "type": "histogram2dcontour"
           }
          ],
          "mesh3d": [
           {
            "colorbar": {
             "outlinewidth": 0,
             "ticks": ""
            },
            "type": "mesh3d"
           }
          ],
          "parcoords": [
           {
            "line": {
             "colorbar": {
              "outlinewidth": 0,
              "ticks": ""
             }
            },
            "type": "parcoords"
           }
          ],
          "pie": [
           {
            "automargin": true,
            "type": "pie"
           }
          ],
          "scatter": [
           {
            "marker": {
             "colorbar": {
              "outlinewidth": 0,
              "ticks": ""
             }
            },
            "type": "scatter"
           }
          ],
          "scatter3d": [
           {
            "line": {
             "colorbar": {
              "outlinewidth": 0,
              "ticks": ""
             }
            },
            "marker": {
             "colorbar": {
              "outlinewidth": 0,
              "ticks": ""
             }
            },
            "type": "scatter3d"
           }
          ],
          "scattercarpet": [
           {
            "marker": {
             "colorbar": {
              "outlinewidth": 0,
              "ticks": ""
             }
            },
            "type": "scattercarpet"
           }
          ],
          "scattergeo": [
           {
            "marker": {
             "colorbar": {
              "outlinewidth": 0,
              "ticks": ""
             }
            },
            "type": "scattergeo"
           }
          ],
          "scattergl": [
           {
            "marker": {
             "colorbar": {
              "outlinewidth": 0,
              "ticks": ""
             }
            },
            "type": "scattergl"
           }
          ],
          "scattermapbox": [
           {
            "marker": {
             "colorbar": {
              "outlinewidth": 0,
              "ticks": ""
             }
            },
            "type": "scattermapbox"
           }
          ],
          "scatterpolar": [
           {
            "marker": {
             "colorbar": {
              "outlinewidth": 0,
              "ticks": ""
             }
            },
            "type": "scatterpolar"
           }
          ],
          "scatterpolargl": [
           {
            "marker": {
             "colorbar": {
              "outlinewidth": 0,
              "ticks": ""
             }
            },
            "type": "scatterpolargl"
           }
          ],
          "scatterternary": [
           {
            "marker": {
             "colorbar": {
              "outlinewidth": 0,
              "ticks": ""
             }
            },
            "type": "scatterternary"
           }
          ],
          "surface": [
           {
            "colorbar": {
             "outlinewidth": 0,
             "ticks": ""
            },
            "colorscale": [
             [
              0,
              "#0d0887"
             ],
             [
              0.1111111111111111,
              "#46039f"
             ],
             [
              0.2222222222222222,
              "#7201a8"
             ],
             [
              0.3333333333333333,
              "#9c179e"
             ],
             [
              0.4444444444444444,
              "#bd3786"
             ],
             [
              0.5555555555555556,
              "#d8576b"
             ],
             [
              0.6666666666666666,
              "#ed7953"
             ],
             [
              0.7777777777777778,
              "#fb9f3a"
             ],
             [
              0.8888888888888888,
              "#fdca26"
             ],
             [
              1,
              "#f0f921"
             ]
            ],
            "type": "surface"
           }
          ],
          "table": [
           {
            "cells": {
             "fill": {
              "color": "#EBF0F8"
             },
             "line": {
              "color": "white"
             }
            },
            "header": {
             "fill": {
              "color": "#C8D4E3"
             },
             "line": {
              "color": "white"
             }
            },
            "type": "table"
           }
          ]
         },
         "layout": {
          "annotationdefaults": {
           "arrowcolor": "#2a3f5f",
           "arrowhead": 0,
           "arrowwidth": 1
          },
          "autotypenumbers": "strict",
          "coloraxis": {
           "colorbar": {
            "outlinewidth": 0,
            "ticks": ""
           }
          },
          "colorscale": {
           "diverging": [
            [
             0,
             "#8e0152"
            ],
            [
             0.1,
             "#c51b7d"
            ],
            [
             0.2,
             "#de77ae"
            ],
            [
             0.3,
             "#f1b6da"
            ],
            [
             0.4,
             "#fde0ef"
            ],
            [
             0.5,
             "#f7f7f7"
            ],
            [
             0.6,
             "#e6f5d0"
            ],
            [
             0.7,
             "#b8e186"
            ],
            [
             0.8,
             "#7fbc41"
            ],
            [
             0.9,
             "#4d9221"
            ],
            [
             1,
             "#276419"
            ]
           ],
           "sequential": [
            [
             0,
             "#0d0887"
            ],
            [
             0.1111111111111111,
             "#46039f"
            ],
            [
             0.2222222222222222,
             "#7201a8"
            ],
            [
             0.3333333333333333,
             "#9c179e"
            ],
            [
             0.4444444444444444,
             "#bd3786"
            ],
            [
             0.5555555555555556,
             "#d8576b"
            ],
            [
             0.6666666666666666,
             "#ed7953"
            ],
            [
             0.7777777777777778,
             "#fb9f3a"
            ],
            [
             0.8888888888888888,
             "#fdca26"
            ],
            [
             1,
             "#f0f921"
            ]
           ],
           "sequentialminus": [
            [
             0,
             "#0d0887"
            ],
            [
             0.1111111111111111,
             "#46039f"
            ],
            [
             0.2222222222222222,
             "#7201a8"
            ],
            [
             0.3333333333333333,
             "#9c179e"
            ],
            [
             0.4444444444444444,
             "#bd3786"
            ],
            [
             0.5555555555555556,
             "#d8576b"
            ],
            [
             0.6666666666666666,
             "#ed7953"
            ],
            [
             0.7777777777777778,
             "#fb9f3a"
            ],
            [
             0.8888888888888888,
             "#fdca26"
            ],
            [
             1,
             "#f0f921"
            ]
           ]
          },
          "colorway": [
           "#636efa",
           "#EF553B",
           "#00cc96",
           "#ab63fa",
           "#FFA15A",
           "#19d3f3",
           "#FF6692",
           "#B6E880",
           "#FF97FF",
           "#FECB52"
          ],
          "font": {
           "color": "#2a3f5f"
          },
          "geo": {
           "bgcolor": "white",
           "lakecolor": "white",
           "landcolor": "#E5ECF6",
           "showlakes": true,
           "showland": true,
           "subunitcolor": "white"
          },
          "hoverlabel": {
           "align": "left"
          },
          "hovermode": "closest",
          "mapbox": {
           "style": "light"
          },
          "paper_bgcolor": "white",
          "plot_bgcolor": "#E5ECF6",
          "polar": {
           "angularaxis": {
            "gridcolor": "white",
            "linecolor": "white",
            "ticks": ""
           },
           "bgcolor": "#E5ECF6",
           "radialaxis": {
            "gridcolor": "white",
            "linecolor": "white",
            "ticks": ""
           }
          },
          "scene": {
           "xaxis": {
            "backgroundcolor": "#E5ECF6",
            "gridcolor": "white",
            "gridwidth": 2,
            "linecolor": "white",
            "showbackground": true,
            "ticks": "",
            "zerolinecolor": "white"
           },
           "yaxis": {
            "backgroundcolor": "#E5ECF6",
            "gridcolor": "white",
            "gridwidth": 2,
            "linecolor": "white",
            "showbackground": true,
            "ticks": "",
            "zerolinecolor": "white"
           },
           "zaxis": {
            "backgroundcolor": "#E5ECF6",
            "gridcolor": "white",
            "gridwidth": 2,
            "linecolor": "white",
            "showbackground": true,
            "ticks": "",
            "zerolinecolor": "white"
           }
          },
          "shapedefaults": {
           "line": {
            "color": "#2a3f5f"
           }
          },
          "ternary": {
           "aaxis": {
            "gridcolor": "white",
            "linecolor": "white",
            "ticks": ""
           },
           "baxis": {
            "gridcolor": "white",
            "linecolor": "white",
            "ticks": ""
           },
           "bgcolor": "#E5ECF6",
           "caxis": {
            "gridcolor": "white",
            "linecolor": "white",
            "ticks": ""
           }
          },
          "title": {
           "x": 0.05
          },
          "xaxis": {
           "automargin": true,
           "gridcolor": "white",
           "linecolor": "white",
           "ticks": "",
           "title": {
            "standoff": 15
           },
           "zerolinecolor": "white",
           "zerolinewidth": 2
          },
          "yaxis": {
           "automargin": true,
           "gridcolor": "white",
           "linecolor": "white",
           "ticks": "",
           "title": {
            "standoff": 15
           },
           "zerolinecolor": "white",
           "zerolinewidth": 2
          }
         }
        },
        "title": {
         "text": "Важность признаков",
         "x": 0.5
        },
        "xaxis": {
         "anchor": "y",
         "categoryorder": "total ascending",
         "domain": [
          0,
          1
         ],
         "title": {
          "text": "Признак"
         }
        },
        "yaxis": {
         "anchor": "x",
         "domain": [
          0,
          1
         ],
         "title": {
          "text": "Показатель важности"
         }
        }
       }
      }
     },
     "metadata": {},
     "output_type": "display_data"
    }
   ],
   "source": [
    "warnings.filterwarnings(\"ignore\")\n",
    "fig = px.bar(x=features_importance.index, y=features_importance)\n",
    "fig.update_layout(\n",
    "     title={\n",
    "        \"text\": \"Важность признаков\",\n",
    "        \"x\": 0.5\n",
    "    },\n",
    "    xaxis_title=\"Признак\",\n",
    "    yaxis_title=\"Показатель важности\"\n",
    ")\n",
    "fig.update_xaxes(categoryorder='total ascending')  \n",
    "fig.show()\n",
    "warnings.filterwarnings(\"default\")"
   ]
  },
  {
   "cell_type": "markdown",
   "metadata": {},
   "source": [
    "Попробуем изменить настройки модели и проиллюстрируем изменения в ее работе : \n",
    "\n",
    "Будем обращать внимание на **precision**, так как, как было сказано выше, этот показатель особенно важен в задаче кредитного скоринга."
   ]
  },
  {
   "cell_type": "code",
   "execution_count": 67,
   "metadata": {},
   "outputs": [
    {
     "data": {
      "image/png": "[encoded data removed]",
      "text/plain": [
       "<Figure size 1152x432 with 2 Axes>"
      ]
     },
     "metadata": {
      "needs_background": "light"
     },
     "output_type": "display_data"
    }
   ],
   "source": [
    "accuracy = []\n",
    "precision = []\n",
    "quantity=[]\n",
    "max_accuracy = 0\n",
    "max_precision = 0\n",
    "max_quantity=0\n",
    "for  i in range(100,1500, 100):\n",
    "    quantity.append(i)\n",
    "    rfc = RandomForestClassifier(random_state=0, n_estimators=i)\n",
    "    rfc.fit(X_train, y_train)\n",
    "    y_pred = rfc.predict(X_test)\n",
    "    cur_ac = accuracy_score(y_test, y_pred)\n",
    "    cur_prec = precision_score(y_test, y_pred)\n",
    "    accuracy.append(cur_ac)\n",
    "    precision.append(cur_prec)\n",
    "    if((cur_ac > max_accuracy) and (cur_prec>max_precision)):\n",
    "        max_accuracy = cur_ac\n",
    "        max_precision = cur_prec\n",
    "        max_quantity = i\n",
    "\n",
    "fig, axs = plt.subplots(nrows=1, ncols=2, figsize=(16, 6))\n",
    "\n",
    "\n",
    "axs[0].plot(quantity, accuracy, marker='o')\n",
    "axs[0].set_title('Зависимость точности от количества деревьев')\n",
    "axs[0].set_xlabel('Количество деревьев')\n",
    "axs[0].set_ylabel('Точность')\n",
    "axs[0].grid(True)\n",
    "\n",
    "axs[1].plot(quantity, precision, marker='o')\n",
    "axs[1].set_title('Зависимость precision от количества деревьев')\n",
    "axs[1].set_xlabel('Количество деревьев')\n",
    "axs[1].set_ylabel('Precision')\n",
    "axs[1].grid(True)\n",
    "\n",
    "\n",
    "\n",
    "plt.show()\n"
   ]
  },
  {
   "cell_type": "markdown",
   "metadata": {},
   "source": [
    "На графике видно, что максимального значения presicion достигает на количестве деревьев 200. Это можно проинтерпретировать так: наш датасэт относительно небольшой, поэтому использование слишком большого количества деревьев нецелесообразно, так как большая вероятность тогоо, что слишком большое количество одинаковых подвыборок попадут в разные деревья, каждое из которых будет давать разное предсказание.Из-за этого точность модели может ухудшиться.\n",
    "\n",
    "Однако, небольшое повышение количества деревьев (в нашем случае до 200), идет на пользу, так как теперь в алгоритме \"больше мнений\" от деревьев, что очевидно, может повысить количество правильных предсказаний."
   ]
  },
  {
   "cell_type": "markdown",
   "metadata": {},
   "source": [
    "Обучим модель на новом параметре и проиллюстриурем основные метрики для нее."
   ]
  },
  {
   "cell_type": "code",
   "execution_count": 68,
   "metadata": {},
   "outputs": [
    {
     "name": "stdout",
     "output_type": "stream",
     "text": [
      "Model accuracy: 0.8768\n"
     ]
    }
   ],
   "source": [
    "rfc2 = RandomForestClassifier(n_estimators=200, random_state=0)\n",
    "rfc2.fit(X_train, y_train)\n",
    "y_pred = rfc2.predict(X_test)\n",
    "mse = mean_squared_error(y_test, y_pred)\n",
    "print('Model accuracy: {0:0.4f}'. format(accuracy_score(y_test, y_pred)))"
   ]
  },
  {
   "cell_type": "code",
   "execution_count": 69,
   "metadata": {},
   "outputs": [
    {
     "data": {
      "image/png": "[encoded data removed]",
      "text/plain": [
       "<Figure size 432x288 with 2 Axes>"
      ]
     },
     "metadata": {
      "needs_background": "light"
     },
     "output_type": "display_data"
    }
   ],
   "source": [
    "cm = confusion_matrix(y_test, y_pred)\n",
    "\n",
    "warnings.filterwarnings(\"ignore\")\n",
    "fig_mis = px.imshow(cm, text_auto=True)\n",
    "sns.heatmap(cm, annot=True, fmt='d')\n",
    "plt.xlabel('Actual')\n",
    "plt.ylabel('Predicted')\n",
    "plt.show()\n",
    "warnings.filterwarnings(\"default\")"
   ]
  },
  {
   "cell_type": "code",
   "execution_count": 70,
   "metadata": {},
   "outputs": [
    {
     "name": "stdout",
     "output_type": "stream",
     "text": [
      "accuracy_score= 0.877\n",
      "recall_score = 0.829\n",
      "precision_score = 0.921\n",
      "Среднеквадратичная ошибка (MSE): 0.12318840579710146\n"
     ]
    }
   ],
   "source": [
    "print('accuracy_score= {:.3f}'.format(accuracy_score(y_test, y_pred)))\n",
    "print('recall_score = {:.3f}'.format(recall_score(y_test, y_pred)))\n",
    "print('precision_score = {:.3f}'.format(precision_score(y_test, y_pred)))\n",
    "print(f\"Среднеквадратичная ошибка (MSE): {mse}\")"
   ]
  },
  {
   "cell_type": "code",
   "execution_count": 71,
   "metadata": {},
   "outputs": [
    {
     "data": {
      "text/plain": [
       "name\n",
       "A9     0.290487\n",
       "A8     0.104710\n",
       "A11    0.101340\n",
       "A15    0.087021\n",
       "A3     0.076162\n",
       "A2     0.074183\n",
       "A14    0.067876\n",
       "A10    0.054167\n",
       "A6     0.051702\n",
       "A7     0.027743\n",
       "A13    0.015027\n",
       "A12    0.013935\n",
       "A5     0.012379\n",
       "A1     0.011788\n",
       "A4     0.011481\n",
       "dtype: float64"
      ]
     },
     "execution_count": 71,
     "metadata": {},
     "output_type": "execute_result"
    }
   ],
   "source": [
    "features_importance = pd.Series(rfc2.feature_importances_, index=X_train.columns).sort_values(ascending=False)\n",
    "features_importance"
   ]
  },
  {
   "cell_type": "code",
   "execution_count": 72,
   "metadata": {},
   "outputs": [
    {
     "data": {
      "application/vnd.plotly.v1+json": {
       "config": {
        "plotlyServerURL": "https://plot.ly"
       },
       "data": [
        {
         "alignmentgroup": "True",
         "hovertemplate": "x=%{x}<br>y=%{y}<extra></extra>",
         "legendgroup": "",
         "marker": {
          "color": "#636efa",
          "pattern": {
           "shape": ""
          }
         },
         "name": "",
         "offsetgroup": "",
         "orientation": "v",
         "showlegend": false,
         "textposition": "auto",
         "type": "bar",
         "x": [
          "A9",
          "A8",
          "A11",
          "A15",
          "A3",
          "A2",
          "A14",
          "A10",
          "A6",
          "A7",
          "A13",
          "A12",
          "A5",
          "A1",
          "A4"
         ],
         "xaxis": "x",
         "y": [
          0.2904868245237749,
          0.1047097945423151,
          0.10134043723056987,
          0.08702096088943413,
          0.07616179228962407,
          0.07418308611303348,
          0.067876217249735,
          0.05416658738485611,
          0.051701702367763946,
          0.027742987449125355,
          0.015026626961855416,
          0.013934593300200864,
          0.012379128073299474,
          0.011787858969798256,
          0.011481402654614097
         ],
         "yaxis": "y"
        }
       ],
       "layout": {
        "barmode": "relative",
        "legend": {
         "tracegroupgap": 0
        },
        "margin": {
         "t": 60
        },
        "template": {
         "data": {
          "bar": [
           {
            "error_x": {
             "color": "#2a3f5f"
            },
            "error_y": {
             "color": "#2a3f5f"
            },
            "marker": {
             "line": {
              "color": "#E5ECF6",
              "width": 0.5
             },
             "pattern": {
              "fillmode": "overlay",
              "size": 10,
              "solidity": 0.2
             }
            },
            "type": "bar"
           }
          ],
          "barpolar": [
           {
            "marker": {
             "line": {
              "color": "#E5ECF6",
              "width": 0.5
             },
             "pattern": {
              "fillmode": "overlay",
              "size": 10,
              "solidity": 0.2
             }
            },
            "type": "barpolar"
           }
          ],
          "carpet": [
           {
            "aaxis": {
             "endlinecolor": "#2a3f5f",
             "gridcolor": "white",
             "linecolor": "white",
             "minorgridcolor": "white",
             "startlinecolor": "#2a3f5f"
            },
            "baxis": {
             "endlinecolor": "#2a3f5f",
             "gridcolor": "white",
             "linecolor": "white",
             "minorgridcolor": "white",
             "startlinecolor": "#2a3f5f"
            },
            "type": "carpet"
           }
          ],
          "choropleth": [
           {
            "colorbar": {
             "outlinewidth": 0,
             "ticks": ""
            },
            "type": "choropleth"
           }
          ],
          "contour": [
           {
            "colorbar": {
             "outlinewidth": 0,
             "ticks": ""
            },
            "colorscale": [
             [
              0,
              "#0d0887"
             ],
             [
              0.1111111111111111,
              "#46039f"
             ],
             [
              0.2222222222222222,
              "#7201a8"
             ],
             [
              0.3333333333333333,
              "#9c179e"
             ],
             [
              0.4444444444444444,
              "#bd3786"
             ],
             [
              0.5555555555555556,
              "#d8576b"
             ],
             [
              0.6666666666666666,
              "#ed7953"
             ],
             [
              0.7777777777777778,
              "#fb9f3a"
             ],
             [
              0.8888888888888888,
              "#fdca26"
             ],
             [
              1,
              "#f0f921"
             ]
            ],
            "type": "contour"
           }
          ],
          "contourcarpet": [
           {
            "colorbar": {
             "outlinewidth": 0,
             "ticks": ""
            },
            "type": "contourcarpet"
           }
          ],
          "heatmap": [
           {
            "colorbar": {
             "outlinewidth": 0,
             "ticks": ""
            },
            "colorscale": [
             [
              0,
              "#0d0887"
             ],
             [
              0.1111111111111111,
              "#46039f"
             ],
             [
              0.2222222222222222,
              "#7201a8"
             ],
             [
              0.3333333333333333,
              "#9c179e"
             ],
             [
              0.4444444444444444,
              "#bd3786"
             ],
             [
              0.5555555555555556,
              "#d8576b"
             ],
             [
              0.6666666666666666,
              "#ed7953"
             ],
             [
              0.7777777777777778,
              "#fb9f3a"
             ],
             [
              0.8888888888888888,
              "#fdca26"
             ],
             [
              1,
              "#f0f921"
             ]
            ],
            "type": "heatmap"
           }
          ],
          "heatmapgl": [
           {
            "colorbar": {
             "outlinewidth": 0,
             "ticks": ""
            },
            "colorscale": [
             [
              0,
              "#0d0887"
             ],
             [
              0.1111111111111111,
              "#46039f"
             ],
             [
              0.2222222222222222,
              "#7201a8"
             ],
             [
              0.3333333333333333,
              "#9c179e"
             ],
             [
              0.4444444444444444,
              "#bd3786"
             ],
             [
              0.5555555555555556,
              "#d8576b"
             ],
             [
              0.6666666666666666,
              "#ed7953"
             ],
             [
              0.7777777777777778,
              "#fb9f3a"
             ],
             [
              0.8888888888888888,
              "#fdca26"
             ],
             [
              1,
              "#f0f921"
             ]
            ],
            "type": "heatmapgl"
           }
          ],
          "histogram": [
           {
            "marker": {
             "pattern": {
              "fillmode": "overlay",
              "size": 10,
              "solidity": 0.2
             }
            },
            "type": "histogram"
           }
          ],
          "histogram2d": [
           {
            "colorbar": {
             "outlinewidth": 0,
             "ticks": ""
            },
            "colorscale": [
             [
              0,
              "#0d0887"
             ],
             [
              0.1111111111111111,
              "#46039f"
             ],
             [
              0.2222222222222222,
              "#7201a8"
             ],
             [
              0.3333333333333333,
              "#9c179e"
             ],
             [
              0.4444444444444444,
              "#bd3786"
             ],
             [
              0.5555555555555556,
              "#d8576b"
             ],
             [
              0.6666666666666666,
              "#ed7953"
             ],
             [
              0.7777777777777778,
              "#fb9f3a"
             ],
             [
              0.8888888888888888,
              "#fdca26"
             ],
             [
              1,
              "#f0f921"
             ]
            ],
            "type": "histogram2d"
           }
          ],
          "histogram2dcontour": [
           {
            "colorbar": {
             "outlinewidth": 0,
             "ticks": ""
            },
            "colorscale": [
             [
              0,
              "#0d0887"
             ],
             [
              0.1111111111111111,
              "#46039f"
             ],
             [
              0.2222222222222222,
              "#7201a8"
             ],
             [
              0.3333333333333333,
              "#9c179e"
             ],
             [
              0.4444444444444444,
              "#bd3786"
             ],
             [
              0.5555555555555556,
              "#d8576b"
             ],
             [
              0.6666666666666666,
              "#ed7953"
             ],
             [
              0.7777777777777778,
              "#fb9f3a"
             ],
             [
              0.8888888888888888,
              "#fdca26"
             ],
             [
              1,
              "#f0f921"
             ]
            ],
            "type": "histogram2dcontour"
           }
          ],
          "mesh3d": [
           {
            "colorbar": {
             "outlinewidth": 0,
             "ticks": ""
            },
            "type": "mesh3d"
           }
          ],
          "parcoords": [
           {
            "line": {
             "colorbar": {
              "outlinewidth": 0,
              "ticks": ""
             }
            },
            "type": "parcoords"
           }
          ],
          "pie": [
           {
            "automargin": true,
            "type": "pie"
           }
          ],
          "scatter": [
           {
            "marker": {
             "colorbar": {
              "outlinewidth": 0,
              "ticks": ""
             }
            },
            "type": "scatter"
           }
          ],
          "scatter3d": [
           {
            "line": {
             "colorbar": {
              "outlinewidth": 0,
              "ticks": ""
             }
            },
            "marker": {
             "colorbar": {
              "outlinewidth": 0,
              "ticks": ""
             }
            },
            "type": "scatter3d"
           }
          ],
          "scattercarpet": [
           {
            "marker": {
             "colorbar": {
              "outlinewidth": 0,
              "ticks": ""
             }
            },
            "type": "scattercarpet"
           }
          ],
          "scattergeo": [
           {
            "marker": {
             "colorbar": {
              "outlinewidth": 0,
              "ticks": ""
             }
            },
            "type": "scattergeo"
           }
          ],
          "scattergl": [
           {
            "marker": {
             "colorbar": {
              "outlinewidth": 0,
              "ticks": ""
             }
            },
            "type": "scattergl"
           }
          ],
          "scattermapbox": [
           {
            "marker": {
             "colorbar": {
              "outlinewidth": 0,
              "ticks": ""
             }
            },
            "type": "scattermapbox"
           }
          ],
          "scatterpolar": [
           {
            "marker": {
             "colorbar": {
              "outlinewidth": 0,
              "ticks": ""
             }
            },
            "type": "scatterpolar"
           }
          ],
          "scatterpolargl": [
           {
            "marker": {
             "colorbar": {
              "outlinewidth": 0,
              "ticks": ""
             }
            },
            "type": "scatterpolargl"
           }
          ],
          "scatterternary": [
           {
            "marker": {
             "colorbar": {
              "outlinewidth": 0,
              "ticks": ""
             }
            },
            "type": "scatterternary"
           }
          ],
          "surface": [
           {
            "colorbar": {
             "outlinewidth": 0,
             "ticks": ""
            },
            "colorscale": [
             [
              0,
              "#0d0887"
             ],
             [
              0.1111111111111111,
              "#46039f"
             ],
             [
              0.2222222222222222,
              "#7201a8"
             ],
             [
              0.3333333333333333,
              "#9c179e"
             ],
             [
              0.4444444444444444,
              "#bd3786"
             ],
             [
              0.5555555555555556,
              "#d8576b"
             ],
             [
              0.6666666666666666,
              "#ed7953"
             ],
             [
              0.7777777777777778,
              "#fb9f3a"
             ],
             [
              0.8888888888888888,
              "#fdca26"
             ],
             [
              1,
              "#f0f921"
             ]
            ],
            "type": "surface"
           }
          ],
          "table": [
           {
            "cells": {
             "fill": {
              "color": "#EBF0F8"
             },
             "line": {
              "color": "white"
             }
            },
            "header": {
             "fill": {
              "color": "#C8D4E3"
             },
             "line": {
              "color": "white"
             }
            },
            "type": "table"
           }
          ]
         },
         "layout": {
          "annotationdefaults": {
           "arrowcolor": "#2a3f5f",
           "arrowhead": 0,
           "arrowwidth": 1
          },
          "autotypenumbers": "strict",
          "coloraxis": {
           "colorbar": {
            "outlinewidth": 0,
            "ticks": ""
           }
          },
          "colorscale": {
           "diverging": [
            [
             0,
             "#8e0152"
            ],
            [
             0.1,
             "#c51b7d"
            ],
            [
             0.2,
             "#de77ae"
            ],
            [
             0.3,
             "#f1b6da"
            ],
            [
             0.4,
             "#fde0ef"
            ],
            [
             0.5,
             "#f7f7f7"
            ],
            [
             0.6,
             "#e6f5d0"
            ],
            [
             0.7,
             "#b8e186"
            ],
            [
             0.8,
             "#7fbc41"
            ],
            [
             0.9,
             "#4d9221"
            ],
            [
             1,
             "#276419"
            ]
           ],
           "sequential": [
            [
             0,
             "#0d0887"
            ],
            [
             0.1111111111111111,
             "#46039f"
            ],
            [
             0.2222222222222222,
             "#7201a8"
            ],
            [
             0.3333333333333333,
             "#9c179e"
            ],
            [
             0.4444444444444444,
             "#bd3786"
            ],
            [
             0.5555555555555556,
             "#d8576b"
            ],
            [
             0.6666666666666666,
             "#ed7953"
            ],
            [
             0.7777777777777778,
             "#fb9f3a"
            ],
            [
             0.8888888888888888,
             "#fdca26"
            ],
            [
             1,
             "#f0f921"
            ]
           ],
           "sequentialminus": [
            [
             0,
             "#0d0887"
            ],
            [
             0.1111111111111111,
             "#46039f"
            ],
            [
             0.2222222222222222,
             "#7201a8"
            ],
            [
             0.3333333333333333,
             "#9c179e"
            ],
            [
             0.4444444444444444,
             "#bd3786"
            ],
            [
             0.5555555555555556,
             "#d8576b"
            ],
            [
             0.6666666666666666,
             "#ed7953"
            ],
            [
             0.7777777777777778,
             "#fb9f3a"
            ],
            [
             0.8888888888888888,
             "#fdca26"
            ],
            [
             1,
             "#f0f921"
            ]
           ]
          },
          "colorway": [
           "#636efa",
           "#EF553B",
           "#00cc96",
           "#ab63fa",
           "#FFA15A",
           "#19d3f3",
           "#FF6692",
           "#B6E880",
           "#FF97FF",
           "#FECB52"
          ],
          "font": {
           "color": "#2a3f5f"
          },
          "geo": {
           "bgcolor": "white",
           "lakecolor": "white",
           "landcolor": "#E5ECF6",
           "showlakes": true,
           "showland": true,
           "subunitcolor": "white"
          },
          "hoverlabel": {
           "align": "left"
          },
          "hovermode": "closest",
          "mapbox": {
           "style": "light"
          },
          "paper_bgcolor": "white",
          "plot_bgcolor": "#E5ECF6",
          "polar": {
           "angularaxis": {
            "gridcolor": "white",
            "linecolor": "white",
            "ticks": ""
           },
           "bgcolor": "#E5ECF6",
           "radialaxis": {
            "gridcolor": "white",
            "linecolor": "white",
            "ticks": ""
           }
          },
          "scene": {
           "xaxis": {
            "backgroundcolor": "#E5ECF6",
            "gridcolor": "white",
            "gridwidth": 2,
            "linecolor": "white",
            "showbackground": true,
            "ticks": "",
            "zerolinecolor": "white"
           },
           "yaxis": {
            "backgroundcolor": "#E5ECF6",
            "gridcolor": "white",
            "gridwidth": 2,
            "linecolor": "white",
            "showbackground": true,
            "ticks": "",
            "zerolinecolor": "white"
           },
           "zaxis": {
            "backgroundcolor": "#E5ECF6",
            "gridcolor": "white",
            "gridwidth": 2,
            "linecolor": "white",
            "showbackground": true,
            "ticks": "",
            "zerolinecolor": "white"
           }
          },
          "shapedefaults": {
           "line": {
            "color": "#2a3f5f"
           }
          },
          "ternary": {
           "aaxis": {
            "gridcolor": "white",
            "linecolor": "white",
            "ticks": ""
           },
           "baxis": {
            "gridcolor": "white",
            "linecolor": "white",
            "ticks": ""
           },
           "bgcolor": "#E5ECF6",
           "caxis": {
            "gridcolor": "white",
            "linecolor": "white",
            "ticks": ""
           }
          },
          "title": {
           "x": 0.05
          },
          "xaxis": {
           "automargin": true,
           "gridcolor": "white",
           "linecolor": "white",
           "ticks": "",
           "title": {
            "standoff": 15
           },
           "zerolinecolor": "white",
           "zerolinewidth": 2
          },
          "yaxis": {
           "automargin": true,
           "gridcolor": "white",
           "linecolor": "white",
           "ticks": "",
           "title": {
            "standoff": 15
           },
           "zerolinecolor": "white",
           "zerolinewidth": 2
          }
         }
        },
        "title": {
         "text": "Важность признаков",
         "x": 0.5
        },
        "xaxis": {
         "anchor": "y",
         "categoryorder": "total ascending",
         "domain": [
          0,
          1
         ],
         "title": {
          "text": "Признак"
         }
        },
        "yaxis": {
         "anchor": "x",
         "domain": [
          0,
          1
         ],
         "title": {
          "text": "Показатель важности"
         }
        }
       }
      }
     },
     "metadata": {},
     "output_type": "display_data"
    }
   ],
   "source": [
    "warnings.filterwarnings(\"ignore\")\n",
    "fig = px.bar(x=features_importance.index, y=features_importance)\n",
    "fig.update_layout(\n",
    "     title={\n",
    "        \"text\": \"Важность признаков\",\n",
    "        \"x\": 0.5\n",
    "    },\n",
    "    xaxis_title=\"Признак\",\n",
    "    yaxis_title=\"Показатель важности\"\n",
    ")\n",
    "fig.update_xaxes(categoryorder='total ascending')  \n",
    "fig.show()\n",
    "warnings.filterwarnings(\"default\")"
   ]
  },
  {
   "cell_type": "markdown",
   "metadata": {},
   "source": [
    "Заметим интересную деталь, что с увеличением количества деревьев, алгоритм стал считать признак A9 чуть менее важным. Иными словами, при увеличении \"опрашиваемых\" деревьев, повышается также качество анализа признаков в целом."
   ]
  },
  {
   "cell_type": "markdown",
   "metadata": {},
   "source": [
    "# Выводы"
   ]
  },
  {
   "cell_type": "markdown",
   "metadata": {},
   "source": [
    "*Линейная регрессия:*\n",
    "\n",
    "Модель линейной регрессии была использована для оценки влияния набора независимых факторов на кредитный рейтинг заемщика. Эта модель предоставила базовый анализ, выявив взаимосвязи между различными переменными и кредитным рейтингом. Однако она, недостаточно учла нелинейные зависимости между факторами и кредитной способностью.\n",
    "\n",
    "\n",
    "*Логистическая регрессия:*\n",
    "\n",
    "Логистическая регрессия была применена для задачи бинарной классификации, где целью было определение вероятности одобрения или отклонения заявки на кредит. Эта модель успешно разделила заемщиков на две группы в зависимости от их вероятности выдачи кредита. Логистическая регрессия также позволила оценить важность различных факторов влияющих на решение о кредите.\n",
    "\n",
    "\n",
    "*Метод случайных лесов:*\n",
    "\n",
    "Метод случайных лесов, благодаря своей способности к обработке нелинейных взаимосвязей и обработке большого количества переменных, справился отлично в задаче кредитного скоринга. Он предоставил более точные прогнозы кредитоспособности заемщиков, учитывая множество факторов, включая кредитную историю, доход и другие параметры.\n",
    "\n",
    "\n",
    "Итак, работа показала, что комбинирование различных методов машинного обучения может повысить точность и надежность модели кредитного скоринга. Каждая модель имеет свои преимущества и может использоваться в разных аспектах задачи кредитного скоринга, в зависимости от целей и требований бизнеса."
   ]
  }
 ],
 "metadata": {
  "kernelspec": {
   "display_name": "base",
   "language": "python",
   "name": "python3"
  },
  "language_info": {
   "codemirror_mode": {
    "name": "ipython",
    "version": 3
   },
   "file_extension": ".py",
   "mimetype": "text/x-python",
   "name": "python",
   "nbconvert_exporter": "python",
   "pygments_lexer": "ipython3",
   "version": "3.9.12"
  }
 },
 "nbformat": 4,
 "nbformat_minor": 2
}
