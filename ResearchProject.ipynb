{
 "cells": [
  {
   "cell_type": "code",
   "execution_count": 2,
   "metadata": {},
   "outputs": [
    {
     "name": "stdout",
     "output_type": "stream",
     "text": [
      "Requirement already satisfied: ucimlrepo in /Users/amirzoyeva/opt/anaconda3/lib/python3.9/site-packages (0.0.3)\n"
     ]
    }
   ],
   "source": [
    "!pip install ucimlrepo"
   ]
  },
  {
   "cell_type": "code",
   "execution_count": 35,
   "metadata": {},
   "outputs": [
    {
     "name": "stdout",
     "output_type": "stream",
     "text": [
      "До заполнения\n",
      "{'A16': 0, 'A15': 0, 'A14': 13, 'A13': 0, 'A12': 0, 'A11': 0, 'A10': 0, 'A9': 0, 'A8': 0, 'A7': 9, 'A6': 9, 'A5': 6, 'A4': 6, 'A3': 0, 'A2': 12, 'A1': 12}\n",
      "После заполнения\n",
      "{'A16': 0, 'A15': 0, 'A14': 0, 'A13': 0, 'A12': 0, 'A11': 0, 'A10': 0, 'A9': 0, 'A8': 0, 'A7': 0, 'A6': 0, 'A5': 0, 'A4': 0, 'A3': 0, 'A2': 0, 'A1': 0}\n"
     ]
    }
   ],
   "source": [
    "import pandas as pd\n",
    "from ucimlrepo import fetch_ucirepo \n",
    "  \n",
    "# fetch dataset \n",
    "credit_approval = fetch_ucirepo(id=27) \n",
    "  \n",
    "# data (as pandas dataframes) \n",
    "X = credit_approval.data.features \n",
    "y = credit_approval.data.targets \n",
    "  \n",
    "# metadata \n",
    "# print(credit_approval.metadata) \n",
    "  \n",
    "# # variable information \n",
    "# print(credit_approval.variables) \n",
    "\n",
    "#создаем датафрейм в удобном для нас формате pandas\n",
    "df = pd.DataFrame(data=credit_approval.data.features, columns=credit_approval.variables.name)\n",
    "#столбец A16 - таргет (\"выдан займ или нет\")\n",
    "df['A16'] = y\n",
    "\n",
    "#убедимся, что мы действительно заполнили пропуски:\n",
    "#для этого сначала создадим словарь, в котором будет начальное количество пропусков\n",
    "\n",
    "started_blanks={}\n",
    "for name in credit_approval.variables.name:\n",
    "    started_blanks[name]= df[name].isna().sum()\n",
    "#непосредственно заполним пропуска\n",
    "for name in credit_approval.variables.name:\n",
    "    if (df[name].isna().sum()!=0):\n",
    "        if (df[name].dtype == int):\n",
    "            df[name].fillna(df[name].mean(), inplace=True)\n",
    "        else:\n",
    "            counted_values = df[name].value_counts()\n",
    "            most_common =counted_values.idxmax()\n",
    "            df[name].fillna(most_common, inplace=True)\n",
    "#создадим еще один словарь но с количеством пропусков после заполнения            \n",
    "finished_blanks = {}\n",
    "for name in credit_approval.variables.name:\n",
    "    finished_blanks[name]= df[name].isna().sum()\n",
    "print(\"До заполнения\")\n",
    "print(started_blanks)\n",
    "print(\"После заполнения\")\n",
    "print(finished_blanks)\n",
    "\n"
   ]
  }
 ],
 "metadata": {
  "kernelspec": {
   "display_name": "base",
   "language": "python",
   "name": "python3"
  },
  "language_info": {
   "codemirror_mode": {
    "name": "ipython",
    "version": 3
   },
   "file_extension": ".py",
   "mimetype": "text/x-python",
   "name": "python",
   "nbconvert_exporter": "python",
   "pygments_lexer": "ipython3",
   "version": "3.9.13"
  }
 },
 "nbformat": 4,
 "nbformat_minor": 2
}
